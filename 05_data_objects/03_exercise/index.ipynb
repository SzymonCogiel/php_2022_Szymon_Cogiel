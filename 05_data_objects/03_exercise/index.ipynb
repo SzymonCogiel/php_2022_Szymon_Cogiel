{
 "cells": [
  {
   "cell_type": "markdown",
   "metadata": {},
   "source": [
    "# PHP 2022"
   ]
  },
  {
   "cell_type": "markdown",
   "metadata": {},
   "source": [
    "## 5. PHP Data Objects"
   ]
  },
  {
   "cell_type": "markdown",
   "metadata": {},
   "source": [
    "### 5.3 Exercise"
   ]
  },
  {
   "cell_type": "markdown",
   "metadata": {},
   "source": [
    "Implement ```SQLiteStorage``` and ```MySQLStorage```. "
   ]
  },
  {
   "cell_type": "markdown",
   "metadata": {},
   "source": [
    "Start the databse:"
   ]
  },
  {
   "cell_type": "code",
   "execution_count": 1,
   "metadata": {},
   "outputs": [
    {
     "name": "stdout",
     "output_type": "stream",
     "text": [
      "9d80259ccf44b141d52402155bfd8063ce17b4aef4169d487966add4390c1879\r\n"
     ]
    }
   ],
   "source": [
    "! docker run --name=mysql --net=host --rm --env MYSQL_ROOT_PASSWORD=root123 --env MYSQL_DATABASE=test --env MYSQL_USER=test --env MYSQL_PASSWORD=test123 -d mysql/mysql-server:8.0"
   ]
  },
  {
   "cell_type": "code",
   "execution_count": 2,
   "metadata": {},
   "outputs": [
    {
     "name": "stdout",
     "output_type": "stream",
     "text": [
      "Done.\r\n"
     ]
    }
   ],
   "source": [
    "! while ! timeout 1 bash -c \"echo > /dev/tcp/localhost/3306\" 2> /dev/null; do sleep 1; done; echo \"Done.\";"
   ]
  },
  {
   "cell_type": "markdown",
   "metadata": {},
   "source": [
    "Edit the code:"
   ]
  },
  {
   "cell_type": "code",
   "execution_count": 12,
   "metadata": {},
   "outputs": [
    {
     "name": "stdout",
     "output_type": "stream",
     "text": [
      "Info  | RdCoroutineScope          | 13:JobScheduler FJ pool 1/3 | RdCoroutineHost overridden \n",
      "2023-04-03 13:03:37,698 [   6874]   WARN - #c.i.o.a.e.ActionUtil - Can not find action by id CompileDirty\n",
      "2023-04-03 13:03:40,395 [   9571]   WARN - #c.i.o.a.i.ActionUpdater - 663 ms to grab EDT for UndoAction#update@MainMenu (com.intellij.ide.actions.UndoAction)\n",
      "2023-04-03 13:03:40,489 [   9665]   WARN - #c.i.o.a.i.ActionUpdater - 703 ms to grab EDT for CreateWebProjectAction#update@MainMenu (com.jetbrains.plugins.webDeployment.phpStorm.CreateWebProjectAction)\n",
      "2023-04-03 13:03:42,965 [  12141]   WARN - #c.i.u.i.d.SharedIndexDiagnostic - Failed to read /home/student/.cache/JetBrains/PhpStorm2022.2/log/indexing-diagnostic/project.741f92bd/shared-index-events.json\n",
      "com.fasterxml.jackson.core.JsonParseException: Illegal character ((CTRL-CHAR, code 0)): only regular white space (\\r, \\n, \\t) is allowed between tokens\n",
      " at [Source: (String)\"\\u0000\\u0000\\u0000\\u0000\\u0000\\u0000\\u0000\\u0000\\u0000\\u0000\\u0000\\u0000\\u0000\\u0000\\u0000\\u0000\\u0000\\u0000\\u0000\\u0000\\u0000\\u0000\\u0000\\u0000\\u0000\\u0000\\u0000\\u0000\\u0000\\u0000\\u0000\\u0000\\u0000\\u0000\\u0000\\u0000\\u0000\\u0000\\u0000\\u0000\\u0000\\u0000\\u0000\\u0000\\u0000\\u0000\\u0000\\u0000\\u0000\\u0000\\u0000\\u0000\\u0000\\u0000\\u0000\\u0000\\u0000\\u0000\\u0000\\u0000\\u0000\\u0000\\u0000\\u0000\\u0000\\u0000\\u0000\\u0000\\u0000\\u0000\\u0000\\u0000\\u0000\\u0000\\u0000\\u0000\\u0000\\u0000\\u0000\\u0000\\u0000\\u0000\\u0000\\u0000\\u0000\\u0000\\u0000\\u0000\\u0000\\u0000\\u0000\\u0000\\u0000\\u0000\\u0000\\u0000\\u0000\\u0000\\u0000\\u0000\\u0000\\u0000\\u0000\\u0000\\u0000\\u0000\\u0000\\u0000\\u0000\\u0000\\u0000\\u0000\\u0000\\u0000\\u0000\\u0000\\u0000\\u0000\\u0000\\u0000\\u0000\\u0000\\u0000\\u0000\\u0000\\u0000\\u0000\\u0000\\u0000\\u0000\\u0000\\u0000\\u0000\\u0000\\u0000\\u0000\\u0000\\u0000\\u0000\\u0000\\u0000\\u0000\\u0000\\u0000\\u0000\\u0000\\u0000\\u0000\\u0000\\u0000\\u0000\\u0000\\u0000\\u0000\\u0000\\u0000\\u0000\\u0000\\u0000\\u0000\\u0000\\u0000\\u0000\\u0000\\u0000\\u0000\\u0000\\u0000\\u0000\\u0000\\u0000\\u0000\\u0000\\u0000\\u0000\\u0000\\u0000\\u0000\\u0000\\u0000\\u0000\\u0000\\u0000\\u0000\\u0000\\u0000\\u0000\\u0000\\u0000\\u0000\\u0000\\u0000\\u0000\\u0000\\u0000\\u0000\\u0000\\u0000\\u0000\\u0000\\u0000\\u0000\\u0000\\u0000\\u0000\\u0000\\u0000\\u0000\\u0000\\u0000\\u0000\\u0000\\u0000\\u0000\\u0000\\u0000\\u0000\\u0000\\u0000\\u0000\\u0000\\u0000\\u0000\\u0000\\u0000\\u0000\\u0000\\u0000\\u0000\\u0000\\u0000\\u0000\\u0000\\u0000\\u0000\\u0000\\u0000\\u0000\\u0000\\u0000\\u0000\\u0000\\u0000\\u0000\\u0000\\u0000\\u0000\\u0000\\u0000\\u0000\\u0000\\u0000\\u0000\\u0000\\u0000\\u0000\\u0000\\u0000\\u0000\\u0000\\u0000\\u0000\\u0000\\u0000\\u0000\\u0000\\u0000\\u0000\\u0000\\u0000\\u0000\\u0000\\u0000\\u0000\\u0000\\u0000\\u0000\\u0000\\u0000\\u0000\\u0000\\u0000\\u0000\\u0000\\u0000\\u0000\\u0000\\u0000\\u0000\\u0000\\u0000\\u0000\\u0000\\u0000\\u0000\\u0000\\u0000\\u0000\\u0000\\u0000\\u0000\\u0000\\u0000\\u0000\\u0000\\u0000\\u0000\\u0000\\u0000\\u0000\\u0000\\u0000\\u0000\\u0000\\u0000\\u0000\\u0000\\u0000\\u0000\\u0000\\u0000\\u0000\\u0000\\u0000\\u0000\\u0000\\u0000\\u0000\\u0000\\u0000\\u0000\\u0000\\u0000\\u0000\\u0000\\u0000\\u0000\\u0000\\u0000\\u0000\\u0000\\u0000\\u0000\\u0000\\u0000\\u0000\\u0000\\u0000\\u0000\\u0000\\u0000\\u0000\\u0000\\u0000\\u0000\\u0000\\u0000\\u0000\\u0000\\u0000\\u0000\\u0000\\u0000\\u0000\\u0000\\u0000\\u0000\\u0000\\u0000\\u0000\\u0000\\u0000\\u0000\\u0000\\u0000\\u0000\\u0000\\u0000\\u0000\\u0000\\u0000\\u0000\\u0000\\u0000\\u0000\\u0000\\u0000\\u0000\\u0000\\u0000\\u0000\\u0000\\u0000\\u0000\\u0000\\u0000\\u0000\\u0000\\u0000\\u0000\\u0000\\u0000\\u0000\\u0000\\u0000\\u0000\\u0000\\u0000\\u0000\\u0000\\u0000\\u0000\\u0000\\u0000\\u0000\\u0000\\u0000\\u0000\\u0000\\u0000\\u0000\\u0000\\u0000\\u0000\\u0000\\u0000\\u0000\\u0000\\u0000\\u0000\\u0000\\u0000\\u0000\\u0000\\u0000\\u0000\\u0000\\u0000\\u0000\\u0000\\u0000\\u0000\\u0000\\u0000\\u0000\\u0000\\u0000\\u0000\\u0000\\u0000\\u0000\\u0000\\u0000\\u0000\\u0000\\u0000\\u0000\\u0000\\u0000\\u0000\\u0000\\u0000\\u0000\\u0000\\u0000\\u0000\\u0000\\u0000\\u0000\\u0000\\u0000\\u0000\\u0000\\u0000\\u0000\\u0000\\u0000\\u0000\\u0000\\u0000\\u0000\\u0000\\u0000\\u0000\\u0000\\u0000\\u0000\\u0000\\u0000\\u0000\\u0000\\u0000\\u0000\\u0000\\u0000\\u0000\\u0000\\u0000\\u0000\\u0000\"[truncated 379 chars]; line: 1, column: 2]\n",
      "\tat com.fasterxml.jackson.core.JsonParser._constructError(JsonParser.java:2391)\n",
      "\tat com.fasterxml.jackson.core.base.ParserMinimalBase._reportError(ParserMinimalBase.java:735)\n",
      "\tat com.fasterxml.jackson.core.base.ParserMinimalBase._throwInvalidSpace(ParserMinimalBase.java:713)\n",
      "\tat com.fasterxml.jackson.core.json.ReaderBasedJsonParser._skipWSOrEnd(ReaderBasedJsonParser.java:2461)\n",
      "\tat com.fasterxml.jackson.core.json.ReaderBasedJsonParser.nextToken(ReaderBasedJsonParser.java:698)\n",
      "\tat com.fasterxml.jackson.databind.ObjectMapper._initForReading(ObjectMapper.java:4761)\n",
      "\tat com.fasterxml.jackson.databind.ObjectMapper._readMapAndClose(ObjectMapper.java:4667)\n",
      "\tat com.fasterxml.jackson.databind.ObjectMapper.readValue(ObjectMapper.java:3629)\n",
      "\tat com.fasterxml.jackson.databind.ObjectMapper.readValue(ObjectMapper.java:3612)\n",
      "\tat com.intellij.util.indexing.diagnostic.SharedIndexDiagnostic.readEvents(SharedIndexDiagnostic.kt:164)\n",
      "\tat com.intellij.util.indexing.diagnostic.IndexDiagnosticDumper.dumpProjectIndexingHistoryToLogSubdirectory(IndexDiagnosticDumper.kt:194)\n",
      "\tat com.intellij.util.indexing.diagnostic.IndexDiagnosticDumper.access$dumpProjectIndexingHistoryToLogSubdirectory(IndexDiagnosticDumper.kt:36)\n",
      "\tat com.intellij.util.indexing.diagnostic.IndexDiagnosticDumper$onIndexingFinished$1.run(IndexDiagnosticDumper.kt:151)\n",
      "\tat com.intellij.util.concurrency.BoundedTaskExecutor.doRun(BoundedTaskExecutor.java:241)\n",
      "\tat com.intellij.util.concurrency.BoundedTaskExecutor.access$200(BoundedTaskExecutor.java:31)\n",
      "\tat com.intellij.util.concurrency.BoundedTaskExecutor$1.execute(BoundedTaskExecutor.java:214)\n",
      "\tat com.intellij.util.concurrency.BoundedTaskExecutor$1.run(BoundedTaskExecutor.java:206)\n",
      "\tat java.base/java.util.concurrent.ThreadPoolExecutor.runWorker(ThreadPoolExecutor.java:1136)\n",
      "\tat java.base/java.util.concurrent.ThreadPoolExecutor$Worker.run(ThreadPoolExecutor.java:635)\n",
      "\tat java.base/java.util.concurrent.Executors$PrivilegedThreadFactory$1$1.run(Executors.java:702)\n",
      "\tat java.base/java.util.concurrent.Executors$PrivilegedThreadFactory$1$1.run(Executors.java:699)\n",
      "\tat java.base/java.security.AccessController.doPrivileged(AccessController.java:399)\n",
      "\tat java.base/java.util.concurrent.Executors$PrivilegedThreadFactory$1.run(Executors.java:699)\n",
      "\tat java.base/java.lang.Thread.run(Thread.java:833)\n",
      "2023-04-03 13:03:57,747 [  26923]   WARN - #c.i.u.x.Binding - no accessors for org.jetbrains.idea.perforce.perforce.ConnectionId\n"
     ]
    }
   ],
   "source": [
    "! phpstorm project"
   ]
  },
  {
   "cell_type": "markdown",
   "metadata": {},
   "source": [
    "You can test your solution using included tests:"
   ]
  },
  {
   "cell_type": "code",
   "execution_count": 15,
   "metadata": {},
   "outputs": [
    {
     "name": "stdout",
     "output_type": "stream",
     "text": [
      "\u001b[32mChanged current directory to /home/student/.composer\u001b[39m\n",
      "Using version \u001b[32m^3.16\u001b[39m for \u001b[32mfriendsofphp/php-cs-fixer\u001b[39m\n",
      "Using version \u001b[32m^1.10\u001b[39m for \u001b[32mphpstan/phpstan\u001b[39m\n",
      "Using version \u001b[32m^6.0\u001b[39m for \u001b[32msebastian/phpcpd\u001b[39m\n",
      "\u001b[32m./composer.json has been updated\u001b[39m\n",
      "\u001b[32mRunning composer update friendsofphp/php-cs-fixer phpstan/phpstan sebastian/phpcpd\u001b[39m\n",
      "\u001b[32mLoading composer repositories with package information\u001b[39m\n",
      "\u001b[32mUpdating dependencies\u001b[39m\n",
      "Nothing to modify in lock file\n",
      "\u001b[32mInstalling dependencies from lock file (including require-dev)\u001b[39m\n",
      "Nothing to install, update or remove\n",
      "\u001b[30;43mPackage sebastian/phpcpd is abandoned, you should avoid using it. No replacement was suggested.\u001b[39;49m\n",
      "\u001b[32mGenerating autoload files\u001b[39m\n",
      "\u001b[32m29 packages you are using are looking for funding.\u001b[39m\n",
      "\u001b[32mUse the `composer fund` command to find out more!\u001b[39m\n",
      "\u001b[32mNo security vulnerability advisories found\u001b[39m\n"
     ]
    }
   ],
   "source": [
    "! composer global require friendsofphp/php-cs-fixer phpstan/phpstan sebastian/phpcpd"
   ]
  },
  {
   "cell_type": "code",
   "execution_count": 16,
   "metadata": {},
   "outputs": [
    {
     "name": "stdout",
     "output_type": "stream",
     "text": [
      "Loaded config \u001b[33mdefault\u001b[39m.\r\n",
      "Using cache file \".php-cs-fixer.cache\".\r\n"
     ]
    }
   ],
   "source": [
    "! ~/.composer/vendor/bin/php-cs-fixer fix --diff --dry-run project/"
   ]
  },
  {
   "cell_type": "code",
   "execution_count": 17,
   "metadata": {},
   "outputs": [
    {
     "name": "stdout",
     "output_type": "stream",
     "text": [
      "  0/15 [░░░░░░░░░░░░░░░░░░░░░░░░░░░░]   0%\u001b[1G\u001b[2K 15/15 [▓▓▓▓▓▓▓▓▓▓▓▓▓▓▓▓▓▓▓▓▓▓▓▓▓▓▓▓] 100%\n",
      "\n",
      "\n",
      "\u001b[30;42m                                                                                \u001b[39;49m\n",
      "\u001b[30;42m [OK] No errors                                                                 \u001b[39;49m\n",
      "\u001b[30;42m                                                                                \u001b[39;49m\n",
      "\n"
     ]
    }
   ],
   "source": [
    "! ~/.composer/vendor/bin/phpstan analyze --level max project/"
   ]
  },
  {
   "cell_type": "code",
   "execution_count": 18,
   "metadata": {},
   "outputs": [],
   "source": [
    "import subprocess\n",
    "phpServer = subprocess.Popen(['php', '-S', 'localhost:8888', '-t', 'project/public'])"
   ]
  },
  {
   "cell_type": "code",
   "execution_count": 19,
   "metadata": {},
   "outputs": [
    {
     "name": "stdout",
     "output_type": "stream",
     "text": [
      "\u001b[32mInstalling dependencies from lock file (including require-dev)\u001b[39m\r\n",
      "\u001b[32mVerifying lock file contents can be installed on current platform.\u001b[39m\r\n",
      "Nothing to install, update or remove\r\n",
      "\u001b[30;43mPackage sebastian/resource-operations is abandoned, you should avoid using it. No replacement was suggested.\u001b[39;49m\r\n",
      "\u001b[32mGenerating autoload files\u001b[39m\r\n"
     ]
    },
    {
     "name": "stderr",
     "output_type": "stream",
     "text": [
      "[Mon Apr  3 13:04:35 2023] Failed to listen on localhost:8888 (reason: Address already in use)\n"
     ]
    },
    {
     "name": "stdout",
     "output_type": "stream",
     "text": [
      "\u001b[32m44 packages you are using are looking for funding.\u001b[39m\n",
      "\u001b[32mUse the `composer fund` command to find out more!\u001b[39m\n",
      "Codeception PHP Testing Framework v4.1.22\n",
      "Powered by PHPUnit 9.5.9 by Sebastian Bergmann and contributors.\n",
      "\n",
      "\u001b[1mAcceptance Tests (4) \u001b[22m-----------------------------------------------------------\n",
      "\u001b[32;1m✔\u001b[39;22m \u001b[35;1mFileStorageCept:\u001b[39;22m  \u001b[32m(0.03s)\u001b[39m\n",
      "- \u001b[35;1mMySQLStorageCept:\u001b[39;22m "
     ]
    },
    {
     "name": "stderr",
     "output_type": "stream",
     "text": [
      "[Mon Apr  3 13:04:36 2023] [::1]:36942 Accepted\n",
      "[Mon Apr  3 13:04:36 2023] [::1]:36942 [200]: GET /FileStorage\n",
      "[Mon Apr  3 13:04:36 2023] [::1]:36942 Closing\n",
      "[Mon Apr  3 13:04:36 2023] [::1]:36946 Accepted\n",
      "[Mon Apr  3 13:04:36 2023] [::1]:36946 [200]: GET /MySQLStorage\n",
      "[Mon Apr  3 13:04:36 2023] [::1]:36946 Closing\n"
     ]
    },
    {
     "name": "stdout",
     "output_type": "stream",
     "text": [
      "\u001b[32;1m✔\u001b[39;22m \u001b[35;1mMySQLStorageCept:\u001b[39;22m  \u001b[32m(0.29s)\u001b[39m\n",
      "\u001b[32;1m✔\u001b[39;22m \u001b[35;1mSQLiteStorageCept:\u001b[39;22m  \u001b[32m(0.06s)\u001b[39m\n",
      "\u001b[32;1m✔\u001b[39;22m \u001b[35;1mSessionStorageCept:\u001b[39;22m  \u001b[32m(0.00s)\u001b[39m\n",
      "--------------------------------------------------------------------------------\n",
      "\n",
      "\n",
      "Time: 00:00.499, Memory: 12.00 MB\n",
      "\n",
      "\u001b[30;42mOK (4 tests, 95 assertions)\u001b[0m\n"
     ]
    },
    {
     "name": "stderr",
     "output_type": "stream",
     "text": [
      "[Mon Apr  3 13:04:36 2023] [::1]:36950 Accepted\n",
      "[Mon Apr  3 13:04:36 2023] [::1]:36950 [200]: GET /MySQLStorage\n",
      "[Mon Apr  3 13:04:36 2023] [::1]:36950 Closing\n",
      "[Mon Apr  3 13:04:36 2023] [::1]:36964 Accepted\n",
      "[Mon Apr  3 13:04:36 2023] [::1]:36964 [200]: GET /SQLiteStorage\n",
      "[Mon Apr  3 13:04:36 2023] [::1]:36964 Closing\n",
      "[Mon Apr  3 13:04:36 2023] [::1]:36980 Accepted\n",
      "[Mon Apr  3 13:04:36 2023] [::1]:36980 [200]: GET /SessionStorage\n",
      "[Mon Apr  3 13:04:36 2023] [::1]:36980 Closing\n"
     ]
    }
   ],
   "source": [
    "! cd tests && composer install && vendor/bin/codecept run"
   ]
  },
  {
   "cell_type": "code",
   "execution_count": 20,
   "metadata": {},
   "outputs": [],
   "source": [
    "phpServer.kill()"
   ]
  },
  {
   "cell_type": "code",
   "execution_count": 21,
   "metadata": {},
   "outputs": [
    {
     "name": "stdout",
     "output_type": "stream",
     "text": [
      "phpcpd 6.0.3 by Sebastian Bergmann.\r\n",
      "\r\n",
      "No clones found.\r\n",
      "\r\n",
      "Time: 00:00.001, Memory: 2.00 MB\r\n"
     ]
    }
   ],
   "source": [
    "! ~/.composer/vendor/bin/phpcpd --fuzzy --min-lines 1 --min-tokens 10 project/"
   ]
  },
  {
   "cell_type": "markdown",
   "metadata": {},
   "source": [
    "Stop the databse:"
   ]
  },
  {
   "cell_type": "code",
   "execution_count": 22,
   "metadata": {},
   "outputs": [
    {
     "name": "stdout",
     "output_type": "stream",
     "text": [
      "mysql\r\n"
     ]
    }
   ],
   "source": [
    "! docker container stop mysql"
   ]
  },
  {
   "cell_type": "code",
   "execution_count": null,
   "metadata": {},
   "outputs": [],
   "source": []
  }
 ],
 "metadata": {
  "kernelspec": {
   "display_name": "Python 3 (ipykernel)",
   "language": "python",
   "name": "python3"
  },
  "language_info": {
   "codemirror_mode": {
    "name": "ipython",
    "version": 3
   },
   "file_extension": ".py",
   "mimetype": "text/x-python",
   "name": "python",
   "nbconvert_exporter": "python",
   "pygments_lexer": "ipython3",
   "version": "3.10.4"
  }
 },
 "nbformat": 4,
 "nbformat_minor": 4
}
