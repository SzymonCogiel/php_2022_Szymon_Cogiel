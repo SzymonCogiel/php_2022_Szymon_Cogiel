{
 "cells": [
  {
   "cell_type": "markdown",
   "metadata": {},
   "source": [
    "# PHP 2022"
   ]
  },
  {
   "cell_type": "markdown",
   "metadata": {},
   "source": [
    "## 5. PHP Data Objects"
   ]
  },
  {
   "cell_type": "markdown",
   "metadata": {},
   "source": [
    "### 5.1 Databases"
   ]
  },
  {
   "cell_type": "markdown",
   "metadata": {},
   "source": [
    "#### MySQL"
   ]
  },
  {
   "cell_type": "markdown",
   "metadata": {},
   "source": [
    "First, let us list currently running Docker containers:"
   ]
  },
  {
   "cell_type": "code",
   "execution_count": 1,
   "metadata": {},
   "outputs": [
    {
     "name": "stdout",
     "output_type": "stream",
     "text": [
      "CONTAINER ID   IMAGE                    COMMAND                  CREATED          STATUS          PORTS     NAMES\r\n",
      "f18277bc8ee1   ddgg/php_2022:notes_v1   \"/bin/sh -c '. /home…\"   11 minutes ago   Up 11 minutes             cranky_lamport\r\n"
     ]
    }
   ],
   "source": [
    "! docker ps"
   ]
  },
  {
   "cell_type": "markdown",
   "metadata": {},
   "source": [
    "There should be only single container for this notebook."
   ]
  },
  {
   "cell_type": "markdown",
   "metadata": {},
   "source": [
    "Now we can start the ```mysql/mysql-server:8.0``` image:"
   ]
  },
  {
   "cell_type": "code",
   "execution_count": 8,
   "metadata": {},
   "outputs": [
    {
     "name": "stdout",
     "output_type": "stream",
     "text": [
      "c70dcecf488ee8bb32b6248b15554b367767f0963607f77551ee04a089c4fdc1\r\n"
     ]
    }
   ],
   "source": [
    "! docker run \\\n",
    "    --name=mysql \\\n",
    "    --net=host \\\n",
    "    --rm \\\n",
    "    --env MYSQL_ROOT_PASSWORD=root123 \\\n",
    "    --env MYSQL_ROOT_HOST=% \\\n",
    "    --env MYSQL_DATABASE=test \\\n",
    "    --env MYSQL_USER=test \\\n",
    "    --env MYSQL_PASSWORD=test123 \\\n",
    "    -d mysql/mysql-server:8.0"
   ]
  },
  {
   "cell_type": "markdown",
   "metadata": {},
   "source": [
    "The databse container named ```mysql``` (```--name=mysql```) will run on the same network as this notebbok (```--net=host```). The contents of the database will be removed after container is stopped (```--rm```). The root password is set to ```root123``` (```--env MYSQL_ROOT_PASSWORD=root123```) and root connections are accepted from any host (```--env MYSQL_ROOT_HOST=%```). Clients will use the ```test``` databse (```--env MYSQL_DATABASE=test```) and ```test``` user (```--env MYSQL_USER=test```) with password ```test123``` (```--env MYSQL_PASSWORD=test123```)."
   ]
  },
  {
   "cell_type": "markdown",
   "metadata": {},
   "source": [
    "The ```mysql``` container should now be visible:"
   ]
  },
  {
   "cell_type": "code",
   "execution_count": 4,
   "metadata": {},
   "outputs": [
    {
     "name": "stdout",
     "output_type": "stream",
     "text": [
      "CONTAINER ID   IMAGE                    COMMAND                  CREATED          STATUS                   PORTS     NAMES\r\n",
      "794d5bf16aac   mysql/mysql-server:8.0   \"/entrypoint.sh mysq…\"   5 minutes ago    Up 5 minutes (healthy)             mysql\r\n",
      "f18277bc8ee1   ddgg/php_2022:notes_v1   \"/bin/sh -c '. /home…\"   17 minutes ago   Up 17 minutes                      cranky_lamport\r\n"
     ]
    }
   ],
   "source": [
    "! docker ps"
   ]
  },
  {
   "cell_type": "markdown",
   "metadata": {},
   "source": [
    "It takse some tmie to start the database:"
   ]
  },
  {
   "cell_type": "code",
   "execution_count": 5,
   "metadata": {},
   "outputs": [
    {
     "name": "stdout",
     "output_type": "stream",
     "text": [
      "Done.\r\n"
     ]
    }
   ],
   "source": [
    "! while ! timeout 1 bash -c \"echo > /dev/tcp/localhost/3306\" 2> /dev/null; \\\n",
    "  do \\\n",
    "    echo \"Waiting for MySQL...\"; \\\n",
    "    sleep 1; \\\n",
    "  done; \\\n",
    "  echo \"Done.\""
   ]
  },
  {
   "cell_type": "markdown",
   "metadata": {},
   "source": [
    "When done, the port ```3306``` should be opened."
   ]
  },
  {
   "cell_type": "markdown",
   "metadata": {},
   "source": [
    "If something goes wrong, logs can be checked using:"
   ]
  },
  {
   "cell_type": "code",
   "execution_count": 5,
   "metadata": {
    "scrolled": true
   },
   "outputs": [
    {
     "name": "stdout",
     "output_type": "stream",
     "text": [
      "[Entrypoint] MySQL Docker Image 8.0.32-1.2.11-server\r\n",
      "[Entrypoint] Initializing database\r\n",
      "2023-03-30T08:19:20.104333Z 0 [Warning] [MY-011068] [Server] The syntax '--skip-host-cache' is deprecated and will be removed in a future release. Please use SET GLOBAL host_cache_size=0 instead.\r\n",
      "2023-03-30T08:19:20.104397Z 0 [System] [MY-013169] [Server] /usr/sbin/mysqld (mysqld 8.0.32) initializing of server in progress as process 17\r\n",
      "2023-03-30T08:19:20.117580Z 1 [System] [MY-013576] [InnoDB] InnoDB initialization has started.\r\n",
      "2023-03-30T08:19:22.825639Z 1 [System] [MY-013577] [InnoDB] InnoDB initialization has ended.\r\n",
      "2023-03-30T08:19:26.678869Z 6 [Warning] [MY-010453] [Server] root@localhost is created with an empty password ! Please consider switching off the --initialize-insecure option.\r\n",
      "[Entrypoint] Database initialized\r\n",
      "2023-03-30T08:19:34.859547Z 0 [Warning] [MY-011068] [Server] The syntax '--skip-host-cache' is deprecated and will be removed in a future release. Please use SET GLOBAL host_cache_size=0 instead.\r\n",
      "2023-03-30T08:19:34.873995Z 0 [System] [MY-010116] [Server] /usr/sbin/mysqld (mysqld 8.0.32) starting as process 60\r\n",
      "2023-03-30T08:19:34.898756Z 1 [System] [MY-013576] [InnoDB] InnoDB initialization has started.\r\n",
      "2023-03-30T08:19:35.659152Z 1 [System] [MY-013577] [InnoDB] InnoDB initialization has ended.\r\n",
      "2023-03-30T08:19:36.440921Z 0 [Warning] [MY-010068] [Server] CA certificate ca.pem is self signed.\r\n",
      "2023-03-30T08:19:36.441262Z 0 [System] [MY-013602] [Server] Channel mysql_main configured to support TLS. Encrypted connections are now supported for this channel.\r\n",
      "2023-03-30T08:19:36.479205Z 0 [System] [MY-011323] [Server] X Plugin ready for connections. Socket: /var/run/mysqld/mysqlx.sock\r\n",
      "2023-03-30T08:19:36.480577Z 0 [System] [MY-010931] [Server] /usr/sbin/mysqld: ready for connections. Version: '8.0.32'  socket: '/var/lib/mysql/mysql.sock'  port: 0  MySQL Community Server - GPL.\r\n",
      "Warning: Unable to load '/usr/share/zoneinfo/iso3166.tab' as time zone. Skipping it.\r\n",
      "Warning: Unable to load '/usr/share/zoneinfo/leapseconds' as time zone. Skipping it.\r\n",
      "Warning: Unable to load '/usr/share/zoneinfo/tzdata.zi' as time zone. Skipping it.\r\n",
      "Warning: Unable to load '/usr/share/zoneinfo/zone.tab' as time zone. Skipping it.\r\n",
      "Warning: Unable to load '/usr/share/zoneinfo/zone1970.tab' as time zone. Skipping it.\r\n",
      "\r\n",
      "[Entrypoint] ignoring /docker-entrypoint-initdb.d/*\r\n",
      "\r\n",
      "2023-03-30T08:19:39.641756Z 14 [System] [MY-013172] [Server] Received SHUTDOWN from user root. Shutting down mysqld (Version: 8.0.32).\r\n",
      "2023-03-30T08:19:42.125225Z 0 [System] [MY-010910] [Server] /usr/sbin/mysqld: Shutdown complete (mysqld 8.0.32)  MySQL Community Server - GPL.\r\n",
      "[Entrypoint] Server shut down\r\n",
      "\r\n",
      "[Entrypoint] MySQL init process done. Ready for start up.\r\n",
      "\r\n",
      "[Entrypoint] Starting MySQL 8.0.32-1.2.11-server\r\n",
      "2023-03-30T08:19:42.980481Z 0 [Warning] [MY-011068] [Server] The syntax '--skip-host-cache' is deprecated and will be removed in a future release. Please use SET GLOBAL host_cache_size=0 instead.\r\n",
      "2023-03-30T08:19:42.981583Z 0 [System] [MY-010116] [Server] /usr/sbin/mysqld (mysqld 8.0.32) starting as process 1\r\n",
      "2023-03-30T08:19:43.000739Z 1 [System] [MY-013576] [InnoDB] InnoDB initialization has started.\r\n",
      "2023-03-30T08:19:43.362815Z 1 [System] [MY-013577] [InnoDB] InnoDB initialization has ended.\r\n",
      "2023-03-30T08:19:43.643542Z 0 [Warning] [MY-010068] [Server] CA certificate ca.pem is self signed.\r\n",
      "2023-03-30T08:19:43.643679Z 0 [System] [MY-013602] [Server] Channel mysql_main configured to support TLS. Encrypted connections are now supported for this channel.\r\n",
      "2023-03-30T08:19:43.682590Z 0 [System] [MY-011323] [Server] X Plugin ready for connections. Bind-address: '::' port: 33060, socket: /var/run/mysqld/mysqlx.sock\r\n",
      "2023-03-30T08:19:43.682997Z 0 [System] [MY-010931] [Server] /usr/sbin/mysqld: ready for connections. Version: '8.0.32'  socket: '/var/lib/mysql/mysql.sock'  port: 3306  MySQL Community Server - GPL.\r\n"
     ]
    }
   ],
   "source": [
    "! docker logs mysql"
   ]
  },
  {
   "cell_type": "markdown",
   "metadata": {},
   "source": [
    "Open bash session and connect to server using docker mysql client image:"
   ]
  },
  {
   "cell_type": "markdown",
   "metadata": {},
   "source": [
    "```bash\n",
    "mysql -h127.0.0.1 -utest -p\n",
    "```"
   ]
  },
  {
   "cell_type": "markdown",
   "metadata": {},
   "source": [
    "You have to type ```test123``` as password."
   ]
  },
  {
   "cell_type": "markdown",
   "metadata": {},
   "source": [
    "Example commands that can be excued in MySQL:"
   ]
  },
  {
   "cell_type": "markdown",
   "metadata": {},
   "source": [
    "```sql\n",
    "-- Show available databses\n",
    "show databases;\n",
    "\n",
    "-- Select database you are interested in\n",
    "use test;\n",
    "\n",
    "-- Show available tables\n",
    "show tables;\n",
    "\n",
    "-- Create new table\n",
    "CREATE TABLE test (id INT PRIMARY KEY, value TEXT);\n",
    "\n",
    "-- Show table format\n",
    "DESCRIBE test;\n",
    "\n",
    "-- Insert some values\n",
    "INSERT INTO test VALUES (1, \"PL\"), (2, \"EN\");\n",
    "\n",
    "-- Select all rows\n",
    "SELECT * FROM test;\n",
    "\n",
    "-- Drop table\n",
    "DROP TABLE test;\n",
    "\n",
    "-- Finish session\n",
    "exit\n",
    "```"
   ]
  },
  {
   "cell_type": "markdown",
   "metadata": {},
   "source": [
    "To stop the database execute:"
   ]
  },
  {
   "cell_type": "code",
   "execution_count": 7,
   "metadata": {},
   "outputs": [
    {
     "name": "stdout",
     "output_type": "stream",
     "text": [
      "Error response from daemon: No such container: mysql\r\n"
     ]
    }
   ],
   "source": [
    "! docker container stop mysql"
   ]
  },
  {
   "cell_type": "markdown",
   "metadata": {},
   "source": [
    "### SQLite"
   ]
  },
  {
   "cell_type": "markdown",
   "metadata": {},
   "source": [
    "Open bash session and open the databse using ```sqlite3``` command:"
   ]
  },
  {
   "cell_type": "markdown",
   "metadata": {},
   "source": [
    "```bash\n",
    "sqlite3 /tmp/sqlite.db \n",
    "```"
   ]
  },
  {
   "cell_type": "markdown",
   "metadata": {},
   "source": [
    "Example commands that can be excued in SQLite:"
   ]
  },
  {
   "cell_type": "markdown",
   "metadata": {},
   "source": [
    "```sql\n",
    "-- Non-SQL command start with dot '.' - for help type:\n",
    ".help\n",
    "\n",
    "-- Show tables\n",
    ".tables\n",
    "\n",
    "-- Create dummy table (SQL)\n",
    "-- HINT: If you get 'readonly database' error check file write permissinons\n",
    "CREATE TABLE dummy (id INTEGER PRIMARY KEY, data TEXT NOT NULL);\n",
    "\n",
    "-- Show tables\n",
    ".tables\n",
    "\n",
    "-- Show command that was used to create given table\n",
    ".schema dummy\n",
    "\n",
    "-- Insert some data into table\n",
    "INSERT INTO dummy VALUES (1, \"Foo\"), (2, \"Bar\");\n",
    "\n",
    "-- Select values from table\n",
    "SELECT * FROM dummy;\n",
    "\n",
    "-- If you do not like default ouput format\n",
    ".headers on\n",
    ".mode column\n",
    "\n",
    "-- Select values from table\n",
    "SELECT * FROM dummy;\n",
    "\n",
    "-- Drop table\n",
    "DROP TABLE dummy;\n",
    "\n",
    "-- Exit from database\n",
    ".quit\n",
    "```"
   ]
  },
  {
   "cell_type": "markdown",
   "metadata": {},
   "source": [
    "Clenaup:"
   ]
  },
  {
   "cell_type": "code",
   "execution_count": null,
   "metadata": {},
   "outputs": [],
   "source": [
    "! rm -f /tmp/sqlite.db "
   ]
  }
 ],
 "metadata": {
  "kernelspec": {
   "display_name": "Python 3 (ipykernel)",
   "language": "python",
   "name": "python3"
  },
  "language_info": {
   "codemirror_mode": {
    "name": "ipython",
    "version": 3
   },
   "file_extension": ".py",
   "mimetype": "text/x-python",
   "name": "python",
   "nbconvert_exporter": "python",
   "pygments_lexer": "ipython3",
   "version": "3.10.4"
  }
 },
 "nbformat": 4,
 "nbformat_minor": 4
}
