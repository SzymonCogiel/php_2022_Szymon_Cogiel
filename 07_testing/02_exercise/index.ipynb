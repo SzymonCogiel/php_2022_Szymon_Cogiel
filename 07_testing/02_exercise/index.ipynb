{
 "cells": [
  {
   "cell_type": "markdown",
   "metadata": {},
   "source": [
    "# PHP 2022"
   ]
  },
  {
   "cell_type": "markdown",
   "metadata": {},
   "source": [
    "## 7. Testing"
   ]
  },
  {
   "cell_type": "markdown",
   "metadata": {},
   "source": [
    "### 7.2 Exercise"
   ]
  },
  {
   "cell_type": "markdown",
   "metadata": {},
   "source": [
    "Implment missing code."
   ]
  },
  {
   "cell_type": "markdown",
   "metadata": {},
   "source": [
    "Start the databses:"
   ]
  },
  {
   "cell_type": "code",
   "execution_count": 1,
   "metadata": {},
   "outputs": [
    {
     "name": "stdout",
     "output_type": "stream",
     "text": [
      "docker: Error response from daemon: Conflict. The container name \"/redis\" is already in use by container \"553dcd435bb9fb4971dfbd5d903feeb610e12671679cb3c3b9bd195e2bbe00c9\". You have to remove (or rename) that container to be able to reuse that name.\r\n",
      "See 'docker run --help'.\r\n"
     ]
    }
   ],
   "source": [
    "! docker run --net=host --rm --name redis -d redis"
   ]
  },
  {
   "cell_type": "code",
   "execution_count": 2,
   "metadata": {},
   "outputs": [
    {
     "name": "stdout",
     "output_type": "stream",
     "text": [
      "docker: Error response from daemon: Conflict. The container name \"/mysql\" is already in use by container \"1896c48c69b03fca0fd80fdd49b499fab2b4b4c1efb871fd0c83cbb55035d1e4\". You have to remove (or rename) that container to be able to reuse that name.\r\n",
      "See 'docker run --help'.\r\n"
     ]
    }
   ],
   "source": [
    "! docker run --name=mysql --net=host --rm --env MYSQL_ROOT_PASSWORD=root123 --env MYSQL_DATABASE=test --env MYSQL_USER=test --env MYSQL_PASSWORD=test123 -d mysql/mysql-server:8.0"
   ]
  },
  {
   "cell_type": "code",
   "execution_count": 3,
   "metadata": {},
   "outputs": [
    {
     "name": "stdout",
     "output_type": "stream",
     "text": [
      "Done.\r\n"
     ]
    }
   ],
   "source": [
    "! while ! timeout 1 bash -c \"echo > /dev/tcp/localhost/6379\" 2> /dev/null; do sleep 1; done; echo \"Done.\";"
   ]
  },
  {
   "cell_type": "code",
   "execution_count": 4,
   "metadata": {},
   "outputs": [
    {
     "name": "stdout",
     "output_type": "stream",
     "text": [
      "Done.\r\n"
     ]
    }
   ],
   "source": [
    "! while ! timeout 1 bash -c \"echo > /dev/tcp/localhost/3306\" 2> /dev/null; do sleep 1; done; echo \"Done.\";"
   ]
  },
  {
   "cell_type": "markdown",
   "metadata": {},
   "source": [
    "Edit the code:"
   ]
  },
  {
   "cell_type": "code",
   "execution_count": null,
   "metadata": {},
   "outputs": [
    {
     "name": "stdout",
     "output_type": "stream",
     "text": [
      "CompileCommand: exclude com/intellij/openapi/vfs/impl/FilePartNodeRoot.trieDescend bool exclude = true\n",
      "2023-05-07 17:04:18,658 [   1326] SEVERE - #c.i.d.LoadingState - Should be called at least in the state COMPONENTS_LOADED, the current state is: CONFIGURATION_STORE_INITIALIZED\n",
      "Current violators count: 1\n",
      "\n",
      "\n",
      "java.lang.Throwable\n",
      "\tat com.intellij.diagnostic.LoadingState.logStateError(LoadingState.java:52)\n",
      "\tat com.intellij.diagnostic.LoadingState.checkOccurred(LoadingState.java:48)\n",
      "\tat com.intellij.openapi.actionSystem.impl.ActionManagerImpl.<init>(ActionManagerImpl.java:133)\n",
      "\tat com.jetbrains.rdserver.ui.actionPopupMenu.BackendActionManager.<init>(BackendActionManager.kt:17)\n",
      "\tat java.base/jdk.internal.reflect.NativeConstructorAccessorImpl.newInstance0(Native Method)\n",
      "\tat java.base/jdk.internal.reflect.NativeConstructorAccessorImpl.newInstance(NativeConstructorAccessorImpl.java:77)\n",
      "\tat java.base/jdk.internal.reflect.DelegatingConstructorAccessorImpl.newInstance(DelegatingConstructorAccessorImpl.java:45)\n",
      "\tat java.base/java.lang.reflect.Constructor.newInstanceWithCaller(Constructor.java:499)\n",
      "\tat java.base/java.lang.reflect.Constructor.newInstance(Constructor.java:480)\n",
      "\tat com.intellij.serviceContainer.ConstructorInjectionKt.instantiateUsingPicoContainer(constructorInjection.kt:47)\n",
      "\tat com.intellij.serviceContainer.ComponentManagerImpl.instantiateClassWithConstructorInjection(ComponentManagerImpl.kt:890)\n",
      "\tat com.intellij.serviceContainer.ServiceComponentAdapter.createAndInitialize(ServiceComponentAdapter.kt:51)\n",
      "\tat com.intellij.serviceContainer.ServiceComponentAdapter.doCreateInstance(ServiceComponentAdapter.kt:41)\n",
      "\tat com.intellij.serviceContainer.BaseComponentAdapter.getInstanceUncached(BaseComponentAdapter.kt:119)\n",
      "\tat com.intellij.serviceContainer.BaseComponentAdapter.getInstance(BaseComponentAdapter.kt:73)\n",
      "\tat com.intellij.serviceContainer.BaseComponentAdapter.getInstance$default(BaseComponentAdapter.kt:66)\n",
      "\tat com.intellij.serviceContainer.ComponentManagerImpl.doGetService(ComponentManagerImpl.kt:609)\n",
      "\tat com.intellij.serviceContainer.ComponentManagerImpl.getService(ComponentManagerImpl.kt:583)\n",
      "\tat com.intellij.openapi.client.ClientAwareComponentManager.getFromSelfOrCurrentSession(ClientAwareComponentManager.kt:37)\n",
      "\tat com.intellij.openapi.client.ClientAwareComponentManager.getService(ClientAwareComponentManager.kt:22)\n",
      "\tat com.intellij.openapi.actionSystem.ActionManager.getInstance(ActionManager.java:29)\n",
      "\tat com.intellij.help.impl.KeymapGenerator.<clinit>(KeymapGenerator.java:33)\n",
      "\tat java.base/jdk.internal.misc.Unsafe.allocateInstance(Native Method)\n",
      "\tat java.base/java.lang.invoke.DirectMethodHandle.allocateInstance(DirectMethodHandle.java:520)\n",
      "\tat com.intellij.serviceContainer.ComponentManagerImpl.instantiateClass(ComponentManagerImpl.kt:844)\n",
      "\tat com.intellij.openapi.extensions.impl.XmlExtensionAdapter.instantiateClass(XmlExtensionAdapter.kt:79)\n",
      "\tat com.intellij.openapi.extensions.impl.XmlExtensionAdapter$SimpleConstructorInjectionAdapter.instantiateClass(XmlExtensionAdapter.kt:90)\n",
      "\tat com.intellij.openapi.extensions.impl.XmlExtensionAdapter.doCreateInstance(XmlExtensionAdapter.kt:50)\n",
      "\tat com.intellij.openapi.extensions.impl.XmlExtensionAdapter.createInstance(XmlExtensionAdapter.kt:31)\n",
      "\tat com.intellij.openapi.extensions.impl.ExtensionPointImpl.processAdapter(ExtensionPointImpl.java:447)\n",
      "\tat com.intellij.openapi.extensions.impl.ExtensionPointImpl.access$200(ExtensionPointImpl.java:33)\n",
      "\tat com.intellij.openapi.extensions.impl.ExtensionPointImpl$1.next(ExtensionPointImpl.java:355)\n",
      "\tat com.intellij.idea.ApplicationLoader.findAppStarter(ApplicationLoader.kt:595)\n",
      "\tat com.intellij.idea.ApplicationLoader.access$findAppStarter(ApplicationLoader.kt:1)\n",
      "\tat com.intellij.idea.ApplicationLoader$initApplication$block$3.apply(ApplicationLoader.kt:170)\n",
      "\tat com.intellij.idea.ApplicationLoader$initApplication$block$3.apply(ApplicationLoader.kt)\n",
      "\tat java.base/java.util.concurrent.CompletableFuture$UniCompose.tryFire(CompletableFuture.java:1150)\n",
      "\tat java.base/java.util.concurrent.CompletableFuture.postComplete(CompletableFuture.java:510)\n",
      "\tat java.base/java.util.concurrent.CompletableFuture.postFire(CompletableFuture.java:614)\n",
      "\tat java.base/java.util.concurrent.CompletableFuture$UniCompose.tryFire(CompletableFuture.java:1163)\n",
      "\tat java.base/java.util.concurrent.CompletableFuture$Completion.exec(CompletableFuture.java:483)\n",
      "\tat java.base/java.util.concurrent.ForkJoinTask.doExec(ForkJoinTask.java:373)\n",
      "\tat java.base/java.util.concurrent.ForkJoinPool$WorkQueue.topLevelExec(ForkJoinPool.java:1182)\n",
      "\tat java.base/java.util.concurrent.ForkJoinPool.scan(ForkJoinPool.java:1655)\n",
      "\tat java.base/java.util.concurrent.ForkJoinPool.runWorker(ForkJoinPool.java:1622)\n",
      "\tat java.base/java.util.concurrent.ForkJoinWorkerThread.run(ForkJoinWorkerThread.java:165)\n",
      "2023-05-07 17:04:18,667 [   1335] SEVERE - #c.i.d.LoadingState - PhpStorm 2022.2.3  Build #PS-222.4345.15\n",
      "2023-05-07 17:04:18,668 [   1336] SEVERE - #c.i.d.LoadingState - JDK: 17.0.4.1; VM: OpenJDK 64-Bit Server VM; Vendor: JetBrains s.r.o.\n",
      "2023-05-07 17:04:18,669 [   1337] SEVERE - #c.i.d.LoadingState - OS: Linux\n",
      "2023-05-07 17:04:19,170 [   1838] SEVERE - #c.i.d.LoadingState - Should be called at least in the state COMPONENTS_LOADED, the current state is: CONFIGURATION_STORE_INITIALIZED\n",
      "Current violators count: 2\n",
      "\n",
      "\n",
      "java.lang.Throwable\n",
      "\tat com.intellij.diagnostic.LoadingState.logStateError(LoadingState.java:52)\n",
      "\tat com.intellij.diagnostic.LoadingState.checkOccurred(LoadingState.java:48)\n",
      "\tat com.intellij.openapi.util.registry.Registry.getInstance(Registry.java:176)\n",
      "\tat com.intellij.openapi.util.registry.Registry.get(Registry.java:50)\n",
      "\tat com.intellij.openapi.util.registry.Registry.is(Registry.java:63)\n",
      "\tat com.intellij.execution.ExecutorRegistryImpl.isExecutorInMainGroup(ExecutorRegistryImpl.java:195)\n",
      "\tat com.intellij.execution.ExecutorRegistryImpl.initExecutorActions(ExecutorRegistryImpl.java:127)\n",
      "\tat com.intellij.execution.ExecutorRegistryImpl.init(ExecutorRegistryImpl.java:278)\n",
      "\tat com.intellij.execution.ExecutorRegistryImpl$ExecutorRegistryActionConfigurationTuner.customize(ExecutorRegistryImpl.java:92)\n",
      "\tat com.intellij.openapi.actionSystem.impl.ActionManagerImpl.lambda$new$0(ActionManagerImpl.java:141)\n",
      "\tat com.intellij.openapi.extensions.impl.ExtensionProcessingHelper.forEachExtensionSafe(ExtensionProcessingHelper.java:34)\n",
      "\tat com.intellij.openapi.extensions.ExtensionPointName.forEachExtensionSafe(ExtensionPointName.java:46)\n",
      "\tat com.intellij.openapi.actionSystem.impl.ActionManagerImpl.<init>(ActionManagerImpl.java:141)\n",
      "\tat com.jetbrains.rdserver.ui.actionPopupMenu.BackendActionManager.<init>(BackendActionManager.kt:17)\n",
      "\tat java.base/jdk.internal.reflect.NativeConstructorAccessorImpl.newInstance0(Native Method)\n",
      "\tat java.base/jdk.internal.reflect.NativeConstructorAccessorImpl.newInstance(NativeConstructorAccessorImpl.java:77)\n",
      "\tat java.base/jdk.internal.reflect.DelegatingConstructorAccessorImpl.newInstance(DelegatingConstructorAccessorImpl.java:45)\n",
      "\tat java.base/java.lang.reflect.Constructor.newInstanceWithCaller(Constructor.java:499)\n",
      "\tat java.base/java.lang.reflect.Constructor.newInstance(Constructor.java:480)\n",
      "\tat com.intellij.serviceContainer.ConstructorInjectionKt.instantiateUsingPicoContainer(constructorInjection.kt:47)\n",
      "\tat com.intellij.serviceContainer.ComponentManagerImpl.instantiateClassWithConstructorInjection(ComponentManagerImpl.kt:890)\n",
      "\tat com.intellij.serviceContainer.ServiceComponentAdapter.createAndInitialize(ServiceComponentAdapter.kt:51)\n",
      "\tat com.intellij.serviceContainer.ServiceComponentAdapter.doCreateInstance(ServiceComponentAdapter.kt:41)\n",
      "\tat com.intellij.serviceContainer.BaseComponentAdapter.getInstanceUncached(BaseComponentAdapter.kt:119)\n",
      "\tat com.intellij.serviceContainer.BaseComponentAdapter.getInstance(BaseComponentAdapter.kt:73)\n",
      "\tat com.intellij.serviceContainer.BaseComponentAdapter.getInstance$default(BaseComponentAdapter.kt:66)\n",
      "\tat com.intellij.serviceContainer.ComponentManagerImpl.doGetService(ComponentManagerImpl.kt:609)\n",
      "\tat com.intellij.serviceContainer.ComponentManagerImpl.getService(ComponentManagerImpl.kt:583)\n",
      "\tat com.intellij.openapi.client.ClientAwareComponentManager.getFromSelfOrCurrentSession(ClientAwareComponentManager.kt:37)\n",
      "\tat com.intellij.openapi.client.ClientAwareComponentManager.getService(ClientAwareComponentManager.kt:22)\n",
      "\tat com.intellij.openapi.actionSystem.ActionManager.getInstance(ActionManager.java:29)\n",
      "\tat com.intellij.help.impl.KeymapGenerator.<clinit>(KeymapGenerator.java:33)\n",
      "\tat java.base/jdk.internal.misc.Unsafe.allocateInstance(Native Method)\n",
      "\tat java.base/java.lang.invoke.DirectMethodHandle.allocateInstance(DirectMethodHandle.java:520)\n",
      "\tat com.intellij.serviceContainer.ComponentManagerImpl.instantiateClass(ComponentManagerImpl.kt:844)\n",
      "\tat com.intellij.openapi.extensions.impl.XmlExtensionAdapter.instantiateClass(XmlExtensionAdapter.kt:79)\n",
      "\tat com.intellij.openapi.extensions.impl.XmlExtensionAdapter$SimpleConstructorInjectionAdapter.instantiateClass(XmlExtensionAdapter.kt:90)\n",
      "\tat com.intellij.openapi.extensions.impl.XmlExtensionAdapter.doCreateInstance(XmlExtensionAdapter.kt:50)\n",
      "\tat com.intellij.openapi.extensions.impl.XmlExtensionAdapter.createInstance(XmlExtensionAdapter.kt:31)\n",
      "\tat com.intellij.openapi.extensions.impl.ExtensionPointImpl.processAdapter(ExtensionPointImpl.java:447)\n",
      "\tat com.intellij.openapi.extensions.impl.ExtensionPointImpl.access$200(ExtensionPointImpl.java:33)\n",
      "\tat com.intellij.openapi.extensions.impl.ExtensionPointImpl$1.next(ExtensionPointImpl.java:355)\n",
      "\tat com.intellij.idea.ApplicationLoader.findAppStarter(ApplicationLoader.kt:595)\n",
      "\tat com.intellij.idea.ApplicationLoader.access$findAppStarter(ApplicationLoader.kt:1)\n",
      "\tat com.intellij.idea.ApplicationLoader$initApplication$block$3.apply(ApplicationLoader.kt:170)\n",
      "\tat com.intellij.idea.ApplicationLoader$initApplication$block$3.apply(ApplicationLoader.kt)\n",
      "\tat java.base/java.util.concurrent.CompletableFuture$UniCompose.tryFire(CompletableFuture.java:1150)\n",
      "\tat java.base/java.util.concurrent.CompletableFuture.postComplete(CompletableFuture.java:510)\n",
      "\tat java.base/java.util.concurrent.CompletableFuture.postFire(CompletableFuture.java:614)\n",
      "\tat java.base/java.util.concurrent.CompletableFuture$UniCompose.tryFire(CompletableFuture.java:1163)\n",
      "\tat java.base/java.util.concurrent.CompletableFuture$Completion.exec(CompletableFuture.java:483)\n",
      "\tat java.base/java.util.concurrent.ForkJoinTask.doExec(ForkJoinTask.java:373)\n",
      "\tat java.base/java.util.concurrent.ForkJoinPool$WorkQueue.topLevelExec(ForkJoinPool.java:1182)\n",
      "\tat java.base/java.util.concurrent.ForkJoinPool.scan(ForkJoinPool.java:1655)\n",
      "\tat java.base/java.util.concurrent.ForkJoinPool.runWorker(ForkJoinPool.java:1622)\n",
      "\tat java.base/java.util.concurrent.ForkJoinWorkerThread.run(ForkJoinWorkerThread.java:165)\n",
      "2023-05-07 17:04:19,173 [   1841] SEVERE - #c.i.d.LoadingState - PhpStorm 2022.2.3  Build #PS-222.4345.15\n",
      "2023-05-07 17:04:19,174 [   1842] SEVERE - #c.i.d.LoadingState - JDK: 17.0.4.1; VM: OpenJDK 64-Bit Server VM; Vendor: JetBrains s.r.o.\n",
      "2023-05-07 17:04:19,175 [   1843] SEVERE - #c.i.d.LoadingState - OS: Linux\n"
     ]
    },
    {
     "name": "stdout",
     "output_type": "stream",
     "text": [
      "2023-05-07 17:04:19,189 [   1857] SEVERE - #c.i.d.LoadingState - Should be called at least in the state COMPONENTS_LOADED, the current state is: CONFIGURATION_STORE_INITIALIZED\n",
      "Current violators count: 3\n",
      "\n",
      "\n",
      "java.lang.Throwable\n",
      "\tat com.intellij.diagnostic.LoadingState.logStateError(LoadingState.java:52)\n",
      "\tat com.intellij.diagnostic.LoadingState.checkOccurred(LoadingState.java:48)\n",
      "\tat com.intellij.openapi.util.registry.Registry.getInstance(Registry.java:176)\n",
      "\tat com.intellij.openapi.util.registry.Registry.get(Registry.java:50)\n",
      "\tat com.intellij.openapi.util.registry.Registry.is(Registry.java:63)\n",
      "\tat com.intellij.openapi.wm.impl.GlobalMenuLinux._loadLibrary(GlobalMenuLinux.java:797)\n",
      "\tat com.intellij.openapi.wm.impl.GlobalMenuLinux.<clinit>(GlobalMenuLinux.java:164)\n",
      "\tat com.intellij.openapi.wm.impl.GlobalMenuLinux$MyActionTuner.customize(GlobalMenuLinux.java:230)\n",
      "\tat com.intellij.openapi.actionSystem.impl.ActionManagerImpl.lambda$new$0(ActionManagerImpl.java:141)\n",
      "\tat com.intellij.openapi.extensions.impl.ExtensionProcessingHelper.forEachExtensionSafe(ExtensionProcessingHelper.java:34)\n",
      "\tat com.intellij.openapi.extensions.ExtensionPointName.forEachExtensionSafe(ExtensionPointName.java:46)\n",
      "\tat com.intellij.openapi.actionSystem.impl.ActionManagerImpl.<init>(ActionManagerImpl.java:141)\n",
      "\tat com.jetbrains.rdserver.ui.actionPopupMenu.BackendActionManager.<init>(BackendActionManager.kt:17)\n",
      "\tat java.base/jdk.internal.reflect.NativeConstructorAccessorImpl.newInstance0(Native Method)\n",
      "\tat java.base/jdk.internal.reflect.NativeConstructorAccessorImpl.newInstance(NativeConstructorAccessorImpl.java:77)\n",
      "\tat java.base/jdk.internal.reflect.DelegatingConstructorAccessorImpl.newInstance(DelegatingConstructorAccessorImpl.java:45)\n",
      "\tat java.base/java.lang.reflect.Constructor.newInstanceWithCaller(Constructor.java:499)\n",
      "\tat java.base/java.lang.reflect.Constructor.newInstance(Constructor.java:480)\n",
      "\tat com.intellij.serviceContainer.ConstructorInjectionKt.instantiateUsingPicoContainer(constructorInjection.kt:47)\n",
      "\tat com.intellij.serviceContainer.ComponentManagerImpl.instantiateClassWithConstructorInjection(ComponentManagerImpl.kt:890)\n",
      "\tat com.intellij.serviceContainer.ServiceComponentAdapter.createAndInitialize(ServiceComponentAdapter.kt:51)\n",
      "\tat com.intellij.serviceContainer.ServiceComponentAdapter.doCreateInstance(ServiceComponentAdapter.kt:41)\n",
      "\tat com.intellij.serviceContainer.BaseComponentAdapter.getInstanceUncached(BaseComponentAdapter.kt:119)\n",
      "\tat com.intellij.serviceContainer.BaseComponentAdapter.getInstance(BaseComponentAdapter.kt:73)\n",
      "\tat com.intellij.serviceContainer.BaseComponentAdapter.getInstance$default(BaseComponentAdapter.kt:66)\n",
      "\tat com.intellij.serviceContainer.ComponentManagerImpl.doGetService(ComponentManagerImpl.kt:609)\n",
      "\tat com.intellij.serviceContainer.ComponentManagerImpl.getService(ComponentManagerImpl.kt:583)\n",
      "\tat com.intellij.openapi.client.ClientAwareComponentManager.getFromSelfOrCurrentSession(ClientAwareComponentManager.kt:37)\n",
      "\tat com.intellij.openapi.client.ClientAwareComponentManager.getService(ClientAwareComponentManager.kt:22)\n",
      "\tat com.intellij.openapi.actionSystem.ActionManager.getInstance(ActionManager.java:29)\n",
      "\tat com.intellij.help.impl.KeymapGenerator.<clinit>(KeymapGenerator.java:33)\n",
      "\tat java.base/jdk.internal.misc.Unsafe.allocateInstance(Native Method)\n",
      "\tat java.base/java.lang.invoke.DirectMethodHandle.allocateInstance(DirectMethodHandle.java:520)\n",
      "\tat com.intellij.serviceContainer.ComponentManagerImpl.instantiateClass(ComponentManagerImpl.kt:844)\n",
      "\tat com.intellij.openapi.extensions.impl.XmlExtensionAdapter.instantiateClass(XmlExtensionAdapter.kt:79)\n",
      "\tat com.intellij.openapi.extensions.impl.XmlExtensionAdapter$SimpleConstructorInjectionAdapter.instantiateClass(XmlExtensionAdapter.kt:90)\n",
      "\tat com.intellij.openapi.extensions.impl.XmlExtensionAdapter.doCreateInstance(XmlExtensionAdapter.kt:50)\n",
      "\tat com.intellij.openapi.extensions.impl.XmlExtensionAdapter.createInstance(XmlExtensionAdapter.kt:31)\n",
      "\tat com.intellij.openapi.extensions.impl.ExtensionPointImpl.processAdapter(ExtensionPointImpl.java:447)\n",
      "\tat com.intellij.openapi.extensions.impl.ExtensionPointImpl.access$200(ExtensionPointImpl.java:33)\n",
      "\tat com.intellij.openapi.extensions.impl.ExtensionPointImpl$1.next(ExtensionPointImpl.java:355)\n",
      "\tat com.intellij.idea.ApplicationLoader.findAppStarter(ApplicationLoader.kt:595)\n",
      "\tat com.intellij.idea.ApplicationLoader.access$findAppStarter(ApplicationLoader.kt:1)\n",
      "\tat com.intellij.idea.ApplicationLoader$initApplication$block$3.apply(ApplicationLoader.kt:170)\n",
      "\tat com.intellij.idea.ApplicationLoader$initApplication$block$3.apply(ApplicationLoader.kt)\n",
      "\tat java.base/java.util.concurrent.CompletableFuture$UniCompose.tryFire(CompletableFuture.java:1150)\n",
      "\tat java.base/java.util.concurrent.CompletableFuture.postComplete(CompletableFuture.java:510)\n",
      "\tat java.base/java.util.concurrent.CompletableFuture.postFire(CompletableFuture.java:614)\n",
      "\tat java.base/java.util.concurrent.CompletableFuture$UniCompose.tryFire(CompletableFuture.java:1163)\n",
      "\tat java.base/java.util.concurrent.CompletableFuture$Completion.exec(CompletableFuture.java:483)\n",
      "\tat java.base/java.util.concurrent.ForkJoinTask.doExec(ForkJoinTask.java:373)\n",
      "\tat java.base/java.util.concurrent.ForkJoinPool$WorkQueue.topLevelExec(ForkJoinPool.java:1182)\n",
      "\tat java.base/java.util.concurrent.ForkJoinPool.scan(ForkJoinPool.java:1655)\n",
      "\tat java.base/java.util.concurrent.ForkJoinPool.runWorker(ForkJoinPool.java:1622)\n",
      "\tat java.base/java.util.concurrent.ForkJoinWorkerThread.run(ForkJoinWorkerThread.java:165)\n",
      "2023-05-07 17:04:19,192 [   1860] SEVERE - #c.i.d.LoadingState - PhpStorm 2022.2.3  Build #PS-222.4345.15\n",
      "2023-05-07 17:04:19,193 [   1861] SEVERE - #c.i.d.LoadingState - JDK: 17.0.4.1; VM: OpenJDK 64-Bit Server VM; Vendor: JetBrains s.r.o.\n",
      "2023-05-07 17:04:19,193 [   1861] SEVERE - #c.i.d.LoadingState - OS: Linux\n",
      "Info  | RdCoroutineScope          | 14:JobScheduler FJ pool 2/3 | RdCoroutineHost overridden \n",
      "2023-05-07 17:04:22,737 [   5405]   WARN - #c.i.o.a.i.ActionUpdater - 232 ms to grab EDT for CWMTelephonyGroup#update@NavBarToolbar (com.jetbrains.rd.platform.codeWithMe.telephony.CWMTelephonyGroup)\n",
      "2023-05-07 17:04:25,873 [   8541]   WARN - #c.i.o.a.i.ActionUpdater - 513 ms to grab EDT for CWMTelephonyGroup#update@NavBarToolbar (com.jetbrains.rd.platform.codeWithMe.telephony.CWMTelephonyGroup)\n",
      "2023-05-07 17:04:27,855 [  10523]   WARN - #c.j.p.c.l.PhpIncludePathManager - Frequent include path update. Delta 3960, old path: []\n",
      "new path: [/home/student/Desktop/PHP_Szymon_Cogiel/php_2022_szymon_cogiel/07_testing/02_exercise/project/vendor/friendsofphp/php-cs-fixer, /home/student/Desktop/PHP_Szymon_Cogiel/php_2022_szymon_cogiel/07_testing/02_exercise/project/vendor/phar-io/manifest, /home/student/Desktop/PHP_Szymon_Cogiel/php_2022_szymon_cogiel/07_testing/02_exercise/project/vendor/phar-io/version, /home/student/Desktop/PHP_Szymon_Cogiel/php_2022_szymon_cogiel/07_testing/02_exercise/project/vendor/predis/predis, /home/student/Desktop/PHP_Szymon_Cogiel/php_2022_szymon_cogiel/07_testing/02_exercise/project/vendor/psy/psysh, /home/student/Desktop/PHP_Szymon_Cogiel/php_2022_szymon_cogiel/07_testing/02_exercise/project/vendor/theseer/tokenizer, /home/student/Desktop/PHP_Szymon_Cogiel/php_2022_szymon_cogiel/07_testing/02_exercise/project/vendor/ralouphie/getallheaders, /home/student/Desktop/PHP_Szymon_Cogiel/php_2022_szymon_cogiel/07_testing/02_exercise/project/vendor/sebastian/global-state, /home/student/Desktop/PHP_Szymon_Cogiel/php_2022_szymon_cogiel/07_testing/02_exercise/project/vendor/sebastian/complexity, /home/student/Desktop/PHP_Szymon_Cogiel/php_2022_szymon_cogiel/07_testing/02_exercise/project/vendor/sebastian/recursion-context, /home/student/Desktop/PHP_Szymon_Cogiel/php_2022_szymon_cogiel/07_testing/02_exercise/project/vendor/sebastian/object-enumerator, /home/student/Desktop/PHP_Szymon_Cogiel/php_2022_szymon_cogiel/07_testing/02_exercise/project/vendor/sebastian/object-reflector, /home/student/Desktop/PHP_Szymon_Cogiel/php_2022_szymon_cogiel/07_testing/02_exercise/project/vendor/sebastian/cli-parser, /home/student/Desktop/PHP_Szymon_Cogiel/php_2022_szymon_cogiel/07_testing/02_exercise/project/vendor/sebastian/diff, /home/student/Desktop/PHP_Szymon_Cogiel/php_2022_szymon_cogiel/07_testing/02_exercise/project/vendor/sebastian/lines-of-code, /home/student/Desktop/PHP_Szymon_Cogiel/php_2022_szymon_cogiel/07_testing/02_exercise/project/vendor/codeception/module-redis, /home/student/Desktop/PHP_Szymon_Cogiel/php_2022_szymon_cogiel/07_testing/02_exercise/project/vendor/sebastian/type, /home/student/Desktop/PHP_Szymon_Cogiel/php_2022_szymon_cogiel/07_testing/02_exercise/project/vendor/codeception/module-db, /home/student/Desktop/PHP_Szymon_Cogiel/php_2022_szymon_cogiel/07_testing/02_exercise/project/vendor/composer, /home/student/Desktop/PHP_Szymon_Cogiel/php_2022_szymon_cogiel/07_testing/02_exercise/project/vendor/sebastian/version, /home/student/Desktop/PHP_Szymon_Cogiel/php_2022_szymon_cogiel/07_testing/02_exercise/project/vendor/codeception/lib-web, /home/student/Desktop/PHP_Szymon_Cogiel/php_2022_szymon_cogiel/07_testing/02_exercise/project/vendor/sebastian/comparator, /home/student/Desktop/PHP_Szymon_Cogiel/php_2022_szymon_cogiel/07_testing/02_exercise/project/vendor/codeception/lib-asserts, /home/student/Desktop/PHP_Szymon_Cogiel/php_2022_szymon_cogiel/07_testing/02_exercise/project/vendor/sebastian/environment, /home/student/Desktop/PHP_Szymon_Cogiel/php_2022_szymon_cogiel/07_testing/02_exercise/project/vendor/codeception/module-webdriver, /home/student/Desktop/PHP_Szymon_Cogiel/php_2022_szymon_cogiel/07_testing/02_exercise/project/vendor/sebastian/exporter, /home/student/Desktop/PHP_Szymon_Cogiel/php_2022_szymon_cogiel/07_testing/02_exercise/project/vendor/codeception/lib-innerbrowser, /home/student/Desktop/PHP_Szymon_Cogiel/php_2022_szymon_cogiel/07_testing/02_exercise/project/vendor/sebastian/phpcpd, /home/student/Desktop/PHP_Szymon_Cogiel/php_2022_szymon_cogiel/07_testing/02_exercise/project/vendor/codeception/module-phpbrowser, /home/student/Desktop/PHP_Szymon_Cogiel/php_2022_szymon_cogiel/07_testing/02_exercise/project/vendor/sebastian/code-unit, /home/student/Desktop/PHP_Szymon_Cogiel/php_2022_szymon_cogiel/07_testing/02_exercise/project/vendor/codeception/module-filesystem, /home/student/Desktop/PHP_Szymon_Cogiel/php_2022_szymon_cogiel/07_testing/02_exercise/project/vendor/sebastian/resource-operations, /home/student/Desktop/PHP_Szymon_Cogiel/php_2022_szymon_cogiel/07_testing/02_exercise/project/vendor/codeception/stub, /home/student/Desktop/PHP_Szymon_Cogiel/php_2022_szymon_cogiel/07_testing/02_exercise/project/vendor/sebastian/code-unit-reverse-lookup, /home/student/Desktop/PHP_Szymon_Cogiel/php_2022_szymon_cogiel/07_testing/02_exercise/project/vendor/codeception/module-asserts, /home/student/Desktop/PHP_Szymon_Cogiel/php_2022_szymon_cogiel/07_testing/02_exercise/project/vendor/codeception/codeception, /home/student/Desktop/PHP_Szymon_Cogiel/php_2022_szymon_cogiel/07_testing/02_exercise/project/vendor/php-webdriver/webdriver, /home/student/Desktop/PHP_Szymon_Cogiel/php_2022_szymon_cogiel/07_testing/02_exercise/project/vendor/guzzlehttp/guzzle, /home/student/Desktop/PHP_Szymon_Cogiel/php_2022_szymon_cogiel/07_testing/02_exercise/project/vendor/guzzlehttp/psr7, /home/student/Desktop/PHP_Szymon_Cogiel/php_2022_szymon_cogiel/07_testing/02_exercise/project/vendor/guzzlehttp/promises, /home/student/Desktop/PHP_Szymon_Cogiel/php_2022_szymon_cogiel/07_testing/02_exercise/project/vendor/nikic/php-parser, /home/student/Desktop/PHP_Szymon_Cogiel/php_2022_szymon_cogiel/07_testing/02_exercise/project/vendor/psr/container, /home/student/Desktop/PHP_Szymon_Cogiel/php_2022_szymon_cogiel/07_testing/02_exercise/project/vendor/psr/http-message, /home/student/Desktop/PHP_Szymon_Cogiel/php_2022_szymon_cogiel/07_testing/02_exercise/project/vendor/psr/http-client, /home/student/Desktop/PHP_Szymon_Cogiel/php_2022_szymon_cogiel/07_testing/02_exercise/project/vendor/symfony/console, /home/student/Desktop/PHP_Szymon_Cogiel/php_2022_szymon_cogiel/07_testing/02_exercise/project/vendor/psr/http-factory, /home/student/Desktop/PHP_Szymon_Cogiel/php_2022_szymon_cogiel/07_testing/02_exercise/project/vendor/symfony/deprecation-contracts, /home/student/Desktop/PHP_Szymon_Cogiel/php_2022_szymon_cogiel/07_testing/02_exercise/project/vendor/psr/cache, /home/student/Desktop/PHP_Szymon_Cogiel/php_2022_szymon_cogiel/07_testing/02_exercise/project/vendor/symfony/process, /home/student/Desktop/PHP_Szymon_Cogiel/php_2022_szymon_cogiel/07_testing/02_exercise/project/vendor/psr/event-dispatcher, /home/student/Desktop/PHP_Szymon_Cogiel/php_2022_szymon_cogiel/07_testing/02_exercise/project/vendor/symfony/string, /home/student/Desktop/PHP_Szymon_Cogiel/php_2022_szymon_cogiel/07_testing/02_exercise/project/vendor/psr/log, /home/student/Desktop/PHP_Szymon_Cogiel/php_2022_szymon_cogiel/07_testing/02_exercise/project/vendor/symfony/service-contracts, /home/student/Desktop/PHP_Szymon_Cogiel/php_2022_szymon_cogiel/07_testing/02_exercise/project/vendor/symfony/options-resolver, /home/student/Desktop/PHP_Szymon_Cogiel/php_2022_szymon_cogiel/07_testing/02_exercise/project/vendor/symfony/var-dumper, /home/student/Desktop/PHP_Szymon_Cogiel/php_2022_szymon_cogiel/07_testing/02_exercise/project/vendor/symfony/polyfill-intl-normalizer, /home/student/Desktop/PHP_Szymon_Cogiel/php_2022_szymon_cogiel/07_testing/02_exercise/project/vendor/symfony/browser-kit, /home/student/Desktop/PHP_Szymon_Cogiel/php_2022_szymon_cogiel/07_testing/02_exercise/project/vendor/symfony/polyfill-php80, /home/student/Desktop/PHP_Szymon_Cogiel/php_2022_szymon_cogiel/07_testing/02_exercise/project/vendor/symfony/filesystem, /home/student/Desktop/PHP_Szymon_Cogiel/php_2022_szymon_cogiel/07_testing/02_exercise/project/vendor/symfony/finder, /home/student/Desktop/PHP_Szymon_Cogiel/php_2022_szymon_cogiel/07_testing/02_exercise/project/vendor/symfony/dom-crawler, /home/student/Desktop/PHP_Szymon_Cogiel/php_2022_szymon_cogiel/07_testing/02_exercise/project/vendor/symfony/polyfill-php81, /home/student/Desktop/PHP_Szymon_Cogiel/php_2022_szymon_cogiel/07_testing/02_exercise/project/vendor/symfony/css-selector, /home/student/Desktop/PHP_Szymon_Cogiel/php_2022_szymon_cogiel/07_testing/02_exercise/project/vendor/symfony/event-dispatcher, /home/student/Desktop/PHP_Szymon_Cogiel/php_2022_szymon_cogiel/07_testing/02_exercise/project/vendor/symfony/polyfill-ctype, /home/student/Desktop/PHP_Szymon_Cogiel/php_2022_szymon_cogiel/07_testing/02_exercise/project/vendor/symfony/polyfill-mbstring, /home/student/Desktop/PHP_Szymon_Cogiel/php_2022_szymon_cogiel/07_testing/02_exercise/project/vendor/symfony/event-dispatcher-contracts, /home/student/Desktop/PHP_Szymon_Cogiel/php_2022_szymon_cogiel/07_testing/02_exercise/project/vendor/symfony/polyfill-intl-grapheme, /home/student/Desktop/PHP_Szymon_Cogiel/php_2022_szymon_cogiel/07_testing/02_exercise/project/vendor/doctrine/instantiator, /home/student/Desktop/PHP_Szymon_Cogiel/php_2022_szymon_cogiel/07_testing/02_exercise/project/vendor/monolog/monolog, /home/student/Desktop/PHP_Szymon_Cogiel/php_2022_szymon_cogiel/07_testing/02_exercise/project/vendor/symfony/stopwatch, /home/student/Desktop/PHP_Szymon_Cogiel/php_2022_szymon_cogiel/07_testing/02_exercise/project/vendor/doctrine/annotations, /home/student/Desktop/PHP_Szymon_Cogiel/php_2022_szymon_cogiel/07_testing/02_exercise/project/vendor/symfony/yaml, /home/student/Desktop/PHP_Szymon_Cogiel/php_2022_szymon_cogiel/07_testing/02_exercise/project/vendor/doctrine/lexer, /home/student/Desktop/PHP_Szymon_Cogiel/php_2022_szymon_cogiel/07_testing/02_exercise/project/vendor/myclabs/deep-copy, /home/student/Desktop/PHP_Szymon_Cogiel/php_2022_szymon_cogiel/07_testing/02_exercise/project/vendor/spaze/phpstan-disallowed-calls, /home/student/Desktop/PHP_Szymon_Cogiel/php_2022_szymon_cogiel/07_testing/02_exercise/project/vendor/phpstan/phpstan, /home/student/Desktop/PHP_Szymon_Cogiel/php_2022_szymon_cogiel/07_testing/02_exercise/project/vendor/masterminds/html5, /home/student/Desktop/PHP_Szymon_Cogiel/php_2022_szymon_cogiel/07_testing/02_exercise/project/vendor/phpunit/php-timer, /home/student/Desktop/PHP_Szymon_Cogiel/php_2022_szymon_cogiel/07_testing/02_exercise/project/vendor/phpunit/php-file-iterator, /home/student/Desktop/PHP_Szymon_Cogiel/php_2022_szymon_cogiel/07_testing/02_exercise/project/vendor/phpunit/php-text-template, /home/student/Desktop/PHP_Szymon_Cogiel/php_2022_szymon_cogiel/07_testing/02_exercise/project/vendor/phpunit/php-invoker, /home/student/Desktop/PHP_Szymon_Cogiel/php_2022_szymon_cogiel/07_testing/02_exercise/project/vendor/phpunit/php-code-coverage, /home/student/Desktop/PHP_Szymon_Cogiel/php_2022_szymon_cogiel/07_testing/02_exercise/project/vendor/phpunit/phpunit, /home/student/Desktop/PHP_Szymon_Cogiel/php_2022_szymon_cogiel/07_testing/02_exercise/project/vendor/behat/gherkin]\n"
     ]
    },
    {
     "name": "stdout",
     "output_type": "stream",
     "text": [
      "2023-05-07 17:04:37,453 [  20121]   WARN - #o.e.l.s.p.EditorConfigJsonSchemaParser - Found illegal descriptor: {}\n",
      "2023-05-07 17:04:37,454 [  20122]   WARN - #o.e.l.s.p.EditorConfigJsonSchemaParser - Found illegal descriptor: {}\n",
      "2023-05-07 17:04:37,463 [  20131]   WARN - #o.e.l.s.p.EditorConfigJsonSchemaParser - Found illegal descriptor: {}\n",
      "2023-05-07 17:04:37,465 [  20133]   WARN - #o.e.l.s.p.EditorConfigJsonSchemaParser - Found illegal descriptor: {}\n",
      "2023-05-07 17:04:37,467 [  20135]   WARN - #o.e.l.s.p.EditorConfigJsonSchemaParser - Found illegal descriptor: {}\n",
      "2023-05-07 17:04:37,467 [  20135]   WARN - #o.e.l.s.p.EditorConfigJsonSchemaParser - Found illegal descriptor: {}\n",
      "2023-05-07 17:04:37,467 [  20135]   WARN - #o.e.l.s.p.EditorConfigJsonSchemaParser - Found illegal descriptor: {}\n",
      "2023-05-07 17:04:37,468 [  20136]   WARN - #o.e.l.s.p.EditorConfigJsonSchemaParser - Found illegal descriptor: {}\n",
      "2023-05-07 17:04:59,777 [  42445]   WARN - #c.j.p.p.PharHandler - Stub end marker missing: /home/student/Desktop/PHP_Szymon_Cogiel/php_2022_szymon_cogiel/07_testing/02_exercise/project/vendor/bin/phpstan.phar\n",
      "java.io.IOException: Stub end marker missing\n",
      "\tat com.jetbrains.php.phar.PharHandler.readStub(PharHandler.java:125)\n",
      "\tat com.jetbrains.php.phar.PharHandler.createEntriesMap(PharHandler.java:60)\n",
      "\tat com.intellij.openapi.vfs.impl.ArchiveHandler.getEntriesMap(ArchiveHandler.java:188)\n",
      "\tat com.intellij.openapi.vfs.impl.ArchiveHandler.getEntryInfo(ArchiveHandler.java:173)\n",
      "\tat com.intellij.openapi.vfs.impl.ArchiveHandler.list(ArchiveHandler.java:90)\n",
      "\tat com.intellij.openapi.vfs.newvfs.ArchiveFileSystem.lambda$new$1(ArchiveFileSystem.java:143)\n",
      "\tat com.intellij.openapi.vfs.DiskQueryRelay.lambda$accessDiskWithCheckCanceled$0(DiskQueryRelay.java:42)\n",
      "\tat java.base/java.util.concurrent.FutureTask.run(FutureTask.java:264)\n",
      "\tat java.base/java.util.concurrent.ThreadPoolExecutor.runWorker(ThreadPoolExecutor.java:1136)\n",
      "\tat java.base/java.util.concurrent.ThreadPoolExecutor$Worker.run(ThreadPoolExecutor.java:635)\n",
      "\tat java.base/java.util.concurrent.Executors$PrivilegedThreadFactory$1$1.run(Executors.java:702)\n",
      "\tat java.base/java.util.concurrent.Executors$PrivilegedThreadFactory$1$1.run(Executors.java:699)\n",
      "\tat java.base/java.security.AccessController.doPrivileged(AccessController.java:399)\n",
      "\tat java.base/java.util.concurrent.Executors$PrivilegedThreadFactory$1.run(Executors.java:699)\n",
      "\tat java.base/java.lang.Thread.run(Thread.java:833)\n",
      "2023-05-07 17:18:53,563 [ 876231]   WARN - #c.i.u.x.Binding - no accessors for org.jetbrains.idea.perforce.perforce.ConnectionId\n",
      "2023-05-07 17:27:40,787 [1403455]   WARN - #c.i.o.a.e.ActionUtil - Can not find action by id CompileDirty\n",
      "2023-05-07 17:29:32,818 [1515486] SEVERE - c.j.t.m.TerminalTextBuffer - Attempt to get line out of bounds: 11 >= 11\n",
      "2023-05-07 17:29:32,819 [1515487] SEVERE - c.j.t.m.TerminalTextBuffer - Attempt to get line out of bounds: 11 >= 11\n",
      "2023-05-07 17:29:38,327 [1520995]   WARN - c.j.t.m.JediTerminal - Unsupported erase in display mode:3\n",
      "2023-05-07 17:29:39,674 [1522342] SEVERE - c.j.t.m.TerminalTextBuffer - Attempt to get line out of bounds: 11 >= 11\n",
      "2023-05-07 17:29:39,675 [1522343] SEVERE - c.j.t.m.TerminalTextBuffer - Attempt to get line out of bounds: 11 >= 11\n",
      "2023-05-07 17:29:51,004 [1533672] SEVERE - c.j.t.m.TerminalTextBuffer - Attempt to get line out of bounds: 11 >= 11\n",
      "2023-05-07 17:30:02,602 [1545270]   WARN - c.j.t.m.JediTerminal - Unsupported erase in display mode:3\n"
     ]
    }
   ],
   "source": [
    "! phpstorm project"
   ]
  },
  {
   "cell_type": "markdown",
   "metadata": {},
   "source": [
    "You can test your solution using included tests:"
   ]
  },
  {
   "cell_type": "code",
   "execution_count": null,
   "metadata": {},
   "outputs": [],
   "source": [
    "%cd project"
   ]
  },
  {
   "cell_type": "code",
   "execution_count": null,
   "metadata": {},
   "outputs": [],
   "source": [
    "! composer install"
   ]
  },
  {
   "cell_type": "code",
   "execution_count": null,
   "metadata": {},
   "outputs": [],
   "source": [
    "! vendor/bin/codecept build"
   ]
  },
  {
   "cell_type": "code",
   "execution_count": null,
   "metadata": {},
   "outputs": [],
   "source": [
    "! vendor/bin/php-cs-fixer fix --diff --dry-run ."
   ]
  },
  {
   "cell_type": "code",
   "execution_count": null,
   "metadata": {},
   "outputs": [],
   "source": [
    "! vendor/bin/phpstan analyze --xdebug -c phpstan.neon"
   ]
  },
  {
   "cell_type": "code",
   "execution_count": null,
   "metadata": {},
   "outputs": [],
   "source": [
    "! vendor/bin/phpcpd . --fuzzy --min-lines 1 --min-tokens 20 --exclude vendor --exclude tests"
   ]
  },
  {
   "cell_type": "code",
   "execution_count": null,
   "metadata": {},
   "outputs": [],
   "source": [
    "! vendor/bin/codecept run Unit"
   ]
  },
  {
   "cell_type": "code",
   "execution_count": null,
   "metadata": {},
   "outputs": [],
   "source": [
    "import subprocess\n",
    "phpServer = subprocess.Popen(['php', '-S', 'localhost:8888', '-t', 'public'])"
   ]
  },
  {
   "cell_type": "code",
   "execution_count": null,
   "metadata": {},
   "outputs": [],
   "source": [
    "! while ! timeout 1 bash -c \"echo > /dev/tcp/localhost/8888\" 2> /dev/null; do sleep 1; done; echo \"Done.\";"
   ]
  },
  {
   "cell_type": "code",
   "execution_count": null,
   "metadata": {},
   "outputs": [],
   "source": [
    "! vendor/bin/codecept run Acceptance"
   ]
  },
  {
   "cell_type": "code",
   "execution_count": null,
   "metadata": {},
   "outputs": [],
   "source": [
    "! vendor/bin/codecept run Acceptance --xml test_report.xml"
   ]
  },
  {
   "cell_type": "code",
   "execution_count": null,
   "metadata": {},
   "outputs": [],
   "source": [
    "phpServer.kill()"
   ]
  },
  {
   "cell_type": "code",
   "execution_count": null,
   "metadata": {},
   "outputs": [],
   "source": [
    "%cd ../"
   ]
  },
  {
   "cell_type": "markdown",
   "metadata": {},
   "source": [
    "Stop the databses:"
   ]
  },
  {
   "cell_type": "code",
   "execution_count": null,
   "metadata": {},
   "outputs": [],
   "source": [
    "! docker container stop redis"
   ]
  },
  {
   "cell_type": "code",
   "execution_count": null,
   "metadata": {},
   "outputs": [],
   "source": [
    "! docker container stop mysql"
   ]
  }
 ],
 "metadata": {
  "kernelspec": {
   "display_name": "Python 3 (ipykernel)",
   "language": "python",
   "name": "python3"
  },
  "language_info": {
   "codemirror_mode": {
    "name": "ipython",
    "version": 3
   },
   "file_extension": ".py",
   "mimetype": "text/x-python",
   "name": "python",
   "nbconvert_exporter": "python",
   "pygments_lexer": "ipython3",
   "version": "3.10.6"
  }
 },
 "nbformat": 4,
 "nbformat_minor": 4
}
