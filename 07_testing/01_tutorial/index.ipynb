{
 "cells": [
  {
   "cell_type": "markdown",
   "metadata": {},
   "source": [
    "# PHP 2022"
   ]
  },
  {
   "cell_type": "markdown",
   "metadata": {},
   "source": [
    "## 7. Testing"
   ]
  },
  {
   "cell_type": "markdown",
   "metadata": {},
   "source": [
    "### 7.1 Tutorial"
   ]
  },
  {
   "cell_type": "markdown",
   "metadata": {},
   "source": [
    "Initialise new project:"
   ]
  },
  {
   "cell_type": "code",
   "execution_count": null,
   "metadata": {},
   "outputs": [],
   "source": [
    "! composer init --no-interaction \\\n",
    "    --name=\"ddgg/testing\" \\\n",
    "    --description=\"Simple testing tutorial\" \\\n",
    "    --author=\"Damian Gwiżdż <damian.gwizdz@gmail.com>\" \\\n",
    "    --type=\"project\" \\\n",
    "    --stability=\"stable\" \\\n",
    "    --license=\"MIT\""
   ]
  },
  {
   "cell_type": "markdown",
   "metadata": {},
   "source": [
    "Add some code:"
   ]
  },
  {
   "cell_type": "code",
   "execution_count": 1,
   "metadata": {},
   "outputs": [],
   "source": [
    "! touch index.php"
   ]
  },
  {
   "cell_type": "markdown",
   "metadata": {},
   "source": [
    "Open the [index.php](../../../edit/07_testing/01_tutorial/index.php) and add following code:\n",
    "\n",
    "```php\n",
    "<?php\n",
    "\n",
    "$status = \"\";\n",
    "\n",
    "if (isset($_POST['user']) and isset($_POST['password'])) {\n",
    "\n",
    "    $user = $_POST['user'];\n",
    "    $password = $_POST['password'];\n",
    "\n",
    "    if ($user and $password) {\n",
    "\n",
    "        if ($user === \"foo\" and $password == \"foo123\") {\n",
    "            $status = \"OK\";\n",
    "        } else {\n",
    "            $status = \"ERROR\";\n",
    "        }\n",
    "    } else {\n",
    "        $status = \"EMPTY\";\n",
    "    }\n",
    "\n",
    "    echo $status;\n",
    "    exit;\n",
    "}\n",
    "?>\n",
    "\n",
    "<html lang=\"en\">\n",
    "<body>\n",
    "\n",
    "<form method=\"post\">\n",
    "    User: <label>\n",
    "        <input type=\"text\" name=\"user\">\n",
    "    </label>\n",
    "    <br/>\n",
    "    Password: <label>\n",
    "        <input type=\"password\" name=\"password\">\n",
    "    </label><br>\n",
    "    <input type=\"submit\" value=\"Login\">\n",
    "</form>\n",
    "\n",
    "</body>\n",
    "</html>\n",
    "```"
   ]
  },
  {
   "cell_type": "markdown",
   "metadata": {},
   "source": [
    "See whether it works:"
   ]
  },
  {
   "cell_type": "code",
   "execution_count": 2,
   "metadata": {},
   "outputs": [
    {
     "name": "stderr",
     "output_type": "stream",
     "text": [
      "[Sun May  7 16:50:11 2023] PHP 8.1.12 Development Server (http://localhost:8888) started\n"
     ]
    }
   ],
   "source": [
    "import subprocess\n",
    "phpServer = subprocess.Popen(['php', '-S', 'localhost:8888'])"
   ]
  },
  {
   "cell_type": "markdown",
   "metadata": {},
   "source": [
    "Open [http://localhost:8888](http://localhost:8888) and check the page."
   ]
  },
  {
   "cell_type": "markdown",
   "metadata": {},
   "source": [
    "Install Codeception:"
   ]
  },
  {
   "cell_type": "code",
   "execution_count": 3,
   "metadata": {},
   "outputs": [
    {
     "name": "stdout",
     "output_type": "stream",
     "text": [
      "\u001b[32mInfo from https://repo.packagist.org: \u001b[37;44m#StandWith\u001b[30;43mUkraine\u001b[0m\u001b[39m\n",
      "Using version \u001b[32m^5.0\u001b[39m for \u001b[32mcodeception/codeception\u001b[39m\n",
      "\u001b[32m./composer.json has been created\u001b[39m\n",
      "\u001b[32mRunning composer update codeception/codeception\u001b[39m\n",
      "\u001b[32mLoading composer repositories with package information\u001b[39m\n",
      "\u001b[32mUpdating dependencies\u001b[39m\n",
      "\u001b[32mLock file operations: 47 installs, 0 updates, 0 removals\u001b[39m\n",
      "  - Locking \u001b[32mbehat/gherkin\u001b[39m (\u001b[33mv4.9.0\u001b[39m)\n",
      "  - Locking \u001b[32mcodeception/codeception\u001b[39m (\u001b[33m5.0.10\u001b[39m)\n",
      "  - Locking \u001b[32mcodeception/lib-asserts\u001b[39m (\u001b[33m2.1.0\u001b[39m)\n",
      "  - Locking \u001b[32mcodeception/stub\u001b[39m (\u001b[33m4.1.0\u001b[39m)\n",
      "  - Locking \u001b[32mmyclabs/deep-copy\u001b[39m (\u001b[33m1.11.1\u001b[39m)\n",
      "  - Locking \u001b[32mnikic/php-parser\u001b[39m (\u001b[33mv4.15.4\u001b[39m)\n",
      "  - Locking \u001b[32mphar-io/manifest\u001b[39m (\u001b[33m2.0.3\u001b[39m)\n",
      "  - Locking \u001b[32mphar-io/version\u001b[39m (\u001b[33m3.2.1\u001b[39m)\n",
      "  - Locking \u001b[32mphpunit/php-code-coverage\u001b[39m (\u001b[33m10.1.1\u001b[39m)\n",
      "  - Locking \u001b[32mphpunit/php-file-iterator\u001b[39m (\u001b[33m4.0.2\u001b[39m)\n",
      "  - Locking \u001b[32mphpunit/php-invoker\u001b[39m (\u001b[33m4.0.0\u001b[39m)\n",
      "  - Locking \u001b[32mphpunit/php-text-template\u001b[39m (\u001b[33m3.0.0\u001b[39m)\n",
      "  - Locking \u001b[32mphpunit/php-timer\u001b[39m (\u001b[33m6.0.0\u001b[39m)\n",
      "  - Locking \u001b[32mphpunit/phpunit\u001b[39m (\u001b[33m10.1.2\u001b[39m)\n",
      "  - Locking \u001b[32mpsr/container\u001b[39m (\u001b[33m2.0.2\u001b[39m)\n",
      "  - Locking \u001b[32mpsr/event-dispatcher\u001b[39m (\u001b[33m1.0.0\u001b[39m)\n",
      "  - Locking \u001b[32mpsy/psysh\u001b[39m (\u001b[33mv0.11.17\u001b[39m)\n",
      "  - Locking \u001b[32msebastian/cli-parser\u001b[39m (\u001b[33m2.0.0\u001b[39m)\n",
      "  - Locking \u001b[32msebastian/code-unit\u001b[39m (\u001b[33m2.0.0\u001b[39m)\n",
      "  - Locking \u001b[32msebastian/code-unit-reverse-lookup\u001b[39m (\u001b[33m3.0.0\u001b[39m)\n",
      "  - Locking \u001b[32msebastian/comparator\u001b[39m (\u001b[33m5.0.0\u001b[39m)\n",
      "  - Locking \u001b[32msebastian/complexity\u001b[39m (\u001b[33m3.0.0\u001b[39m)\n",
      "  - Locking \u001b[32msebastian/diff\u001b[39m (\u001b[33m5.0.3\u001b[39m)\n",
      "  - Locking \u001b[32msebastian/environment\u001b[39m (\u001b[33m6.0.1\u001b[39m)\n",
      "  - Locking \u001b[32msebastian/exporter\u001b[39m (\u001b[33m5.0.0\u001b[39m)\n",
      "  - Locking \u001b[32msebastian/global-state\u001b[39m (\u001b[33m6.0.0\u001b[39m)\n",
      "  - Locking \u001b[32msebastian/lines-of-code\u001b[39m (\u001b[33m2.0.0\u001b[39m)\n",
      "  - Locking \u001b[32msebastian/object-enumerator\u001b[39m (\u001b[33m5.0.0\u001b[39m)\n",
      "  - Locking \u001b[32msebastian/object-reflector\u001b[39m (\u001b[33m3.0.0\u001b[39m)\n",
      "  - Locking \u001b[32msebastian/recursion-context\u001b[39m (\u001b[33m5.0.0\u001b[39m)\n",
      "  - Locking \u001b[32msebastian/type\u001b[39m (\u001b[33m4.0.0\u001b[39m)\n",
      "  - Locking \u001b[32msebastian/version\u001b[39m (\u001b[33m4.0.1\u001b[39m)\n",
      "  - Locking \u001b[32msymfony/console\u001b[39m (\u001b[33mv6.2.10\u001b[39m)\n",
      "  - Locking \u001b[32msymfony/css-selector\u001b[39m (\u001b[33mv6.2.7\u001b[39m)\n",
      "  - Locking \u001b[32msymfony/deprecation-contracts\u001b[39m (\u001b[33mv3.2.1\u001b[39m)\n",
      "  - Locking \u001b[32msymfony/event-dispatcher\u001b[39m (\u001b[33mv6.2.8\u001b[39m)\n",
      "  - Locking \u001b[32msymfony/event-dispatcher-contracts\u001b[39m (\u001b[33mv3.2.1\u001b[39m)\n",
      "  - Locking \u001b[32msymfony/finder\u001b[39m (\u001b[33mv6.2.7\u001b[39m)\n",
      "  - Locking \u001b[32msymfony/polyfill-ctype\u001b[39m (\u001b[33mv1.27.0\u001b[39m)\n",
      "  - Locking \u001b[32msymfony/polyfill-intl-grapheme\u001b[39m (\u001b[33mv1.27.0\u001b[39m)\n",
      "  - Locking \u001b[32msymfony/polyfill-intl-normalizer\u001b[39m (\u001b[33mv1.27.0\u001b[39m)\n",
      "  - Locking \u001b[32msymfony/polyfill-mbstring\u001b[39m (\u001b[33mv1.27.0\u001b[39m)\n",
      "  - Locking \u001b[32msymfony/service-contracts\u001b[39m (\u001b[33mv3.2.1\u001b[39m)\n",
      "  - Locking \u001b[32msymfony/string\u001b[39m (\u001b[33mv6.2.8\u001b[39m)\n",
      "  - Locking \u001b[32msymfony/var-dumper\u001b[39m (\u001b[33mv6.2.10\u001b[39m)\n",
      "  - Locking \u001b[32msymfony/yaml\u001b[39m (\u001b[33mv6.2.10\u001b[39m)\n",
      "  - Locking \u001b[32mtheseer/tokenizer\u001b[39m (\u001b[33m1.2.1\u001b[39m)\n",
      "\u001b[32mWriting lock file\u001b[39m\n",
      "\u001b[32mInstalling dependencies from lock file (including require-dev)\u001b[39m\n",
      "\u001b[32mPackage operations: 47 installs, 0 updates, 0 removals\u001b[39m\n",
      "  - Downloading \u001b[32mbehat/gherkin\u001b[39m (\u001b[33mv4.9.0\u001b[39m)\n",
      "  - Downloading \u001b[32msymfony/polyfill-ctype\u001b[39m (\u001b[33mv1.27.0\u001b[39m)\n",
      "  - Downloading \u001b[32msymfony/yaml\u001b[39m (\u001b[33mv6.2.10\u001b[39m)\n",
      "  - Downloading \u001b[32msymfony/polyfill-mbstring\u001b[39m (\u001b[33mv1.27.0\u001b[39m)\n",
      "  - Downloading \u001b[32msymfony/var-dumper\u001b[39m (\u001b[33mv6.2.10\u001b[39m)\n",
      "  - Downloading \u001b[32msymfony/finder\u001b[39m (\u001b[33mv6.2.7\u001b[39m)\n",
      "  - Downloading \u001b[32mpsr/event-dispatcher\u001b[39m (\u001b[33m1.0.0\u001b[39m)\n",
      "  - Downloading \u001b[32msymfony/event-dispatcher-contracts\u001b[39m (\u001b[33mv3.2.1\u001b[39m)\n",
      "  - Downloading \u001b[32msymfony/event-dispatcher\u001b[39m (\u001b[33mv6.2.8\u001b[39m)\n",
      "  - Downloading \u001b[32msymfony/css-selector\u001b[39m (\u001b[33mv6.2.7\u001b[39m)\n",
      "  - Downloading \u001b[32msymfony/polyfill-intl-normalizer\u001b[39m (\u001b[33mv1.27.0\u001b[39m)\n",
      "  - Downloading \u001b[32msymfony/polyfill-intl-grapheme\u001b[39m (\u001b[33mv1.27.0\u001b[39m)\n",
      "  - Downloading \u001b[32msymfony/string\u001b[39m (\u001b[33mv6.2.8\u001b[39m)\n",
      "  - Downloading \u001b[32mpsr/container\u001b[39m (\u001b[33m2.0.2\u001b[39m)\n",
      "  - Downloading \u001b[32msymfony/service-contracts\u001b[39m (\u001b[33mv3.2.1\u001b[39m)\n",
      "  - Downloading \u001b[32msymfony/deprecation-contracts\u001b[39m (\u001b[33mv3.2.1\u001b[39m)\n",
      "  - Downloading \u001b[32msymfony/console\u001b[39m (\u001b[33mv6.2.10\u001b[39m)\n",
      "  - Downloading \u001b[32msebastian/diff\u001b[39m (\u001b[33m5.0.3\u001b[39m)\n",
      "  - Downloading \u001b[32msebastian/recursion-context\u001b[39m (\u001b[33m5.0.0\u001b[39m)\n",
      "  - Downloading \u001b[32msebastian/exporter\u001b[39m (\u001b[33m5.0.0\u001b[39m)\n",
      "  - Downloading \u001b[32msebastian/comparator\u001b[39m (\u001b[33m5.0.0\u001b[39m)\n",
      "  - Downloading \u001b[32mnikic/php-parser\u001b[39m (\u001b[33mv4.15.4\u001b[39m)\n",
      "  - Downloading \u001b[32mpsy/psysh\u001b[39m (\u001b[33mv0.11.17\u001b[39m)\n",
      "  - Downloading \u001b[32msebastian/version\u001b[39m (\u001b[33m4.0.1\u001b[39m)\n",
      "  - Downloading \u001b[32msebastian/type\u001b[39m (\u001b[33m4.0.0\u001b[39m)\n",
      "  - Downloading \u001b[32msebastian/object-reflector\u001b[39m (\u001b[33m3.0.0\u001b[39m)\n",
      "  - Downloading \u001b[32msebastian/object-enumerator\u001b[39m (\u001b[33m5.0.0\u001b[39m)\n",
      "  - Downloading \u001b[32msebastian/global-state\u001b[39m (\u001b[33m6.0.0\u001b[39m)\n",
      "  - Downloading \u001b[32msebastian/environment\u001b[39m (\u001b[33m6.0.1\u001b[39m)\n",
      "  - Downloading \u001b[32msebastian/code-unit\u001b[39m (\u001b[33m2.0.0\u001b[39m)\n",
      "  - Downloading \u001b[32msebastian/cli-parser\u001b[39m (\u001b[33m2.0.0\u001b[39m)\n",
      "  - Downloading \u001b[32mphpunit/php-timer\u001b[39m (\u001b[33m6.0.0\u001b[39m)\n",
      "  - Downloading \u001b[32mphpunit/php-text-template\u001b[39m (\u001b[33m3.0.0\u001b[39m)\n",
      "  - Downloading \u001b[32mphpunit/php-invoker\u001b[39m (\u001b[33m4.0.0\u001b[39m)\n",
      "  - Downloading \u001b[32mphpunit/php-file-iterator\u001b[39m (\u001b[33m4.0.2\u001b[39m)\n",
      "  - Downloading \u001b[32mtheseer/tokenizer\u001b[39m (\u001b[33m1.2.1\u001b[39m)\n",
      "  - Downloading \u001b[32msebastian/lines-of-code\u001b[39m (\u001b[33m2.0.0\u001b[39m)\n",
      "  - Downloading \u001b[32msebastian/complexity\u001b[39m (\u001b[33m3.0.0\u001b[39m)\n",
      "  - Downloading \u001b[32msebastian/code-unit-reverse-lookup\u001b[39m (\u001b[33m3.0.0\u001b[39m)\n",
      "  - Downloading \u001b[32mphpunit/php-code-coverage\u001b[39m (\u001b[33m10.1.1\u001b[39m)\n",
      "  - Downloading \u001b[32mphar-io/version\u001b[39m (\u001b[33m3.2.1\u001b[39m)\n",
      "  - Downloading \u001b[32mphar-io/manifest\u001b[39m (\u001b[33m2.0.3\u001b[39m)\n",
      "  - Downloading \u001b[32mmyclabs/deep-copy\u001b[39m (\u001b[33m1.11.1\u001b[39m)\n",
      "  - Downloading \u001b[32mphpunit/phpunit\u001b[39m (\u001b[33m10.1.2\u001b[39m)\n",
      "  - Downloading \u001b[32mcodeception/stub\u001b[39m (\u001b[33m4.1.0\u001b[39m)\n",
      "  - Downloading \u001b[32mcodeception/lib-asserts\u001b[39m (\u001b[33m2.1.0\u001b[39m)\n",
      "  - Downloading \u001b[32mcodeception/codeception\u001b[39m (\u001b[33m5.0.10\u001b[39m)\n",
      "  0/47 [>---------------------------]   0%\u001b[1G\u001b[2K 11/47 [======>---------------------]  23%\u001b[1G\u001b[2K 20/47 [===========>----------------]  42%\u001b[1G\u001b[2K 30/47 [=================>----------]  63%\u001b[1G\u001b[2K 37/47 [======================>-----]  78%\u001b[1G\u001b[2K 42/47 [=========================>--]  89%\u001b[1G\u001b[2K 45/47 [==========================>-]  95%\u001b[1G\u001b[2K 47/47 [============================] 100%\u001b[1G\u001b[2K  - Installing \u001b[32mbehat/gherkin\u001b[39m (\u001b[33mv4.9.0\u001b[39m): Extracting archive\n",
      "  - Installing \u001b[32msymfony/polyfill-ctype\u001b[39m (\u001b[33mv1.27.0\u001b[39m): Extracting archive\n",
      "  - Installing \u001b[32msymfony/yaml\u001b[39m (\u001b[33mv6.2.10\u001b[39m): Extracting archive\n",
      "  - Installing \u001b[32msymfony/polyfill-mbstring\u001b[39m (\u001b[33mv1.27.0\u001b[39m): Extracting archive\n",
      "  - Installing \u001b[32msymfony/var-dumper\u001b[39m (\u001b[33mv6.2.10\u001b[39m): Extracting archive\n",
      "  - Installing \u001b[32msymfony/finder\u001b[39m (\u001b[33mv6.2.7\u001b[39m): Extracting archive\n",
      "  - Installing \u001b[32mpsr/event-dispatcher\u001b[39m (\u001b[33m1.0.0\u001b[39m): Extracting archive\n",
      "  - Installing \u001b[32msymfony/event-dispatcher-contracts\u001b[39m (\u001b[33mv3.2.1\u001b[39m): Extracting archive\n",
      "  - Installing \u001b[32msymfony/event-dispatcher\u001b[39m (\u001b[33mv6.2.8\u001b[39m): Extracting archive\n",
      "  - Installing \u001b[32msymfony/css-selector\u001b[39m (\u001b[33mv6.2.7\u001b[39m): Extracting archive\n",
      "  - Installing \u001b[32msymfony/polyfill-intl-normalizer\u001b[39m (\u001b[33mv1.27.0\u001b[39m): Extracting archive\n",
      "  - Installing \u001b[32msymfony/polyfill-intl-grapheme\u001b[39m (\u001b[33mv1.27.0\u001b[39m): Extracting archive\n",
      "  - Installing \u001b[32msymfony/string\u001b[39m (\u001b[33mv6.2.8\u001b[39m): Extracting archive\n",
      "  - Installing \u001b[32mpsr/container\u001b[39m (\u001b[33m2.0.2\u001b[39m): Extracting archive\n",
      "  - Installing \u001b[32msymfony/service-contracts\u001b[39m (\u001b[33mv3.2.1\u001b[39m): Extracting archive\n",
      "  - Installing \u001b[32msymfony/deprecation-contracts\u001b[39m (\u001b[33mv3.2.1\u001b[39m): Extracting archive\n",
      "  - Installing \u001b[32msymfony/console\u001b[39m (\u001b[33mv6.2.10\u001b[39m): Extracting archive\n",
      "  - Installing \u001b[32msebastian/diff\u001b[39m (\u001b[33m5.0.3\u001b[39m): Extracting archive\n",
      "  - Installing \u001b[32msebastian/recursion-context\u001b[39m (\u001b[33m5.0.0\u001b[39m): Extracting archive\n",
      "  - Installing \u001b[32msebastian/exporter\u001b[39m (\u001b[33m5.0.0\u001b[39m): Extracting archive\n",
      "  - Installing \u001b[32msebastian/comparator\u001b[39m (\u001b[33m5.0.0\u001b[39m): Extracting archive\n",
      "  - Installing \u001b[32mnikic/php-parser\u001b[39m (\u001b[33mv4.15.4\u001b[39m): Extracting archive\n",
      "  - Installing \u001b[32mpsy/psysh\u001b[39m (\u001b[33mv0.11.17\u001b[39m): Extracting archive\n",
      "  - Installing \u001b[32msebastian/version\u001b[39m (\u001b[33m4.0.1\u001b[39m): Extracting archive\n",
      "  - Installing \u001b[32msebastian/type\u001b[39m (\u001b[33m4.0.0\u001b[39m): Extracting archive\n",
      "  - Installing \u001b[32msebastian/object-reflector\u001b[39m (\u001b[33m3.0.0\u001b[39m): Extracting archive\n",
      "  - Installing \u001b[32msebastian/object-enumerator\u001b[39m (\u001b[33m5.0.0\u001b[39m): Extracting archive\n",
      "  - Installing \u001b[32msebastian/global-state\u001b[39m (\u001b[33m6.0.0\u001b[39m): Extracting archive\n",
      "  - Installing \u001b[32msebastian/environment\u001b[39m (\u001b[33m6.0.1\u001b[39m): Extracting archive\n",
      "  - Installing \u001b[32msebastian/code-unit\u001b[39m (\u001b[33m2.0.0\u001b[39m): Extracting archive\n",
      "  - Installing \u001b[32msebastian/cli-parser\u001b[39m (\u001b[33m2.0.0\u001b[39m): Extracting archive\n",
      "  - Installing \u001b[32mphpunit/php-timer\u001b[39m (\u001b[33m6.0.0\u001b[39m): Extracting archive\n",
      "  - Installing \u001b[32mphpunit/php-text-template\u001b[39m (\u001b[33m3.0.0\u001b[39m): Extracting archive\n",
      "  - Installing \u001b[32mphpunit/php-invoker\u001b[39m (\u001b[33m4.0.0\u001b[39m): Extracting archive\n",
      "  - Installing \u001b[32mphpunit/php-file-iterator\u001b[39m (\u001b[33m4.0.2\u001b[39m): Extracting archive\n"
     ]
    },
    {
     "name": "stdout",
     "output_type": "stream",
     "text": [
      "  - Installing \u001b[32mtheseer/tokenizer\u001b[39m (\u001b[33m1.2.1\u001b[39m): Extracting archive\n",
      "  - Installing \u001b[32msebastian/lines-of-code\u001b[39m (\u001b[33m2.0.0\u001b[39m): Extracting archive\n",
      "  - Installing \u001b[32msebastian/complexity\u001b[39m (\u001b[33m3.0.0\u001b[39m): Extracting archive\n",
      "  - Installing \u001b[32msebastian/code-unit-reverse-lookup\u001b[39m (\u001b[33m3.0.0\u001b[39m): Extracting archive\n",
      "  - Installing \u001b[32mphpunit/php-code-coverage\u001b[39m (\u001b[33m10.1.1\u001b[39m): Extracting archive\n",
      "  - Installing \u001b[32mphar-io/version\u001b[39m (\u001b[33m3.2.1\u001b[39m): Extracting archive\n",
      "  - Installing \u001b[32mphar-io/manifest\u001b[39m (\u001b[33m2.0.3\u001b[39m): Extracting archive\n",
      "  - Installing \u001b[32mmyclabs/deep-copy\u001b[39m (\u001b[33m1.11.1\u001b[39m): Extracting archive\n",
      "  - Installing \u001b[32mphpunit/phpunit\u001b[39m (\u001b[33m10.1.2\u001b[39m): Extracting archive\n",
      "  - Installing \u001b[32mcodeception/stub\u001b[39m (\u001b[33m4.1.0\u001b[39m): Extracting archive\n",
      "  - Installing \u001b[32mcodeception/lib-asserts\u001b[39m (\u001b[33m2.1.0\u001b[39m): Extracting archive\n",
      "  - Installing \u001b[32mcodeception/codeception\u001b[39m (\u001b[33m5.0.10\u001b[39m): Extracting archive\n",
      "  0/47 [>---------------------------]   0%\u001b[1G\u001b[2K 20/47 [===========>----------------]  42%\u001b[1G\u001b[2K 30/47 [=================>----------]  63%\u001b[1G\u001b[2K 45/47 [==========================>-]  95%\u001b[1G\u001b[2K 47/47 [============================] 100%\u001b[1G\u001b[2K\u001b[32m18 package suggestions were added by new dependencies, use `composer suggest` to see details.\u001b[39m\n",
      "\u001b[32mGenerating autoload files\u001b[39m\n",
      "\u001b[32m38 packages you are using are looking for funding.\u001b[39m\n",
      "\u001b[32mUse the `composer fund` command to find out more!\u001b[39m\n",
      "\u001b[32mNo security vulnerability advisories found\u001b[39m\n"
     ]
    }
   ],
   "source": [
    "! composer require codeception/codeception --dev"
   ]
  },
  {
   "cell_type": "code",
   "execution_count": 4,
   "metadata": {},
   "outputs": [
    {
     "name": "stdout",
     "output_type": "stream",
     "text": [
      "Using version \u001b[32m^3.0\u001b[39m for \u001b[32mcodeception/module-asserts\u001b[39m\n",
      "\u001b[32m./composer.json has been updated\u001b[39m\n",
      "\u001b[32mRunning composer update codeception/module-asserts\u001b[39m\n",
      "\u001b[32mLoading composer repositories with package information\u001b[39m\n",
      "\u001b[32mUpdating dependencies\u001b[39m\n",
      "\u001b[32mLock file operations: 1 install, 0 updates, 0 removals\u001b[39m\n",
      "  - Locking \u001b[32mcodeception/module-asserts\u001b[39m (\u001b[33m3.0.0\u001b[39m)\n",
      "\u001b[32mWriting lock file\u001b[39m\n",
      "\u001b[32mInstalling dependencies from lock file (including require-dev)\u001b[39m\n",
      "\u001b[32mPackage operations: 1 install, 0 updates, 0 removals\u001b[39m\n",
      "  - Downloading \u001b[32mcodeception/module-asserts\u001b[39m (\u001b[33m3.0.0\u001b[39m)\n",
      "  - Installing \u001b[32mcodeception/module-asserts\u001b[39m (\u001b[33m3.0.0\u001b[39m): Extracting archive\n",
      "\u001b[32mGenerating autoload files\u001b[39m\n",
      "\u001b[32m38 packages you are using are looking for funding.\u001b[39m\n",
      "\u001b[32mUse the `composer fund` command to find out more!\u001b[39m\n",
      "\u001b[32mNo security vulnerability advisories found\u001b[39m\n"
     ]
    }
   ],
   "source": [
    "! composer require codeception/module-asserts --dev"
   ]
  },
  {
   "cell_type": "code",
   "execution_count": 5,
   "metadata": {},
   "outputs": [
    {
     "name": "stdout",
     "output_type": "stream",
     "text": [
      "Using version \u001b[32m^3.0\u001b[39m for \u001b[32mcodeception/module-phpbrowser\u001b[39m\n",
      "\u001b[32m./composer.json has been updated\u001b[39m\n",
      "\u001b[32mRunning composer update codeception/module-phpbrowser\u001b[39m\n",
      "\u001b[32mLoading composer repositories with package information\u001b[39m\n",
      "\u001b[32mUpdating dependencies\u001b[39m\n",
      "\u001b[32mLock file operations: 13 installs, 0 updates, 0 removals\u001b[39m\n",
      "  - Locking \u001b[32mcodeception/lib-innerbrowser\u001b[39m (\u001b[33m4.0.0\u001b[39m)\n",
      "  - Locking \u001b[32mcodeception/lib-web\u001b[39m (\u001b[33m1.0.2\u001b[39m)\n",
      "  - Locking \u001b[32mcodeception/module-phpbrowser\u001b[39m (\u001b[33m3.0.0\u001b[39m)\n",
      "  - Locking \u001b[32mguzzlehttp/guzzle\u001b[39m (\u001b[33m7.5.1\u001b[39m)\n",
      "  - Locking \u001b[32mguzzlehttp/promises\u001b[39m (\u001b[33m1.5.2\u001b[39m)\n",
      "  - Locking \u001b[32mguzzlehttp/psr7\u001b[39m (\u001b[33m2.5.0\u001b[39m)\n",
      "  - Locking \u001b[32mmasterminds/html5\u001b[39m (\u001b[33m2.8.0\u001b[39m)\n",
      "  - Locking \u001b[32mpsr/http-client\u001b[39m (\u001b[33m1.0.2\u001b[39m)\n",
      "  - Locking \u001b[32mpsr/http-factory\u001b[39m (\u001b[33m1.0.2\u001b[39m)\n",
      "  - Locking \u001b[32mpsr/http-message\u001b[39m (\u001b[33m2.0\u001b[39m)\n",
      "  - Locking \u001b[32mralouphie/getallheaders\u001b[39m (\u001b[33m3.0.3\u001b[39m)\n",
      "  - Locking \u001b[32msymfony/browser-kit\u001b[39m (\u001b[33mv6.2.7\u001b[39m)\n",
      "  - Locking \u001b[32msymfony/dom-crawler\u001b[39m (\u001b[33mv6.2.9\u001b[39m)\n",
      "\u001b[32mWriting lock file\u001b[39m\n",
      "\u001b[32mInstalling dependencies from lock file (including require-dev)\u001b[39m\n",
      "\u001b[32mPackage operations: 13 installs, 0 updates, 0 removals\u001b[39m\n",
      "  - Downloading \u001b[32mralouphie/getallheaders\u001b[39m (\u001b[33m3.0.3\u001b[39m)\n",
      "  - Downloading \u001b[32mpsr/http-message\u001b[39m (\u001b[33m2.0\u001b[39m)\n",
      "  - Downloading \u001b[32mpsr/http-factory\u001b[39m (\u001b[33m1.0.2\u001b[39m)\n",
      "  - Downloading \u001b[32mguzzlehttp/psr7\u001b[39m (\u001b[33m2.5.0\u001b[39m)\n",
      "  - Downloading \u001b[32mcodeception/lib-web\u001b[39m (\u001b[33m1.0.2\u001b[39m)\n",
      "  - Downloading \u001b[32mmasterminds/html5\u001b[39m (\u001b[33m2.8.0\u001b[39m)\n",
      "  - Downloading \u001b[32msymfony/dom-crawler\u001b[39m (\u001b[33mv6.2.9\u001b[39m)\n",
      "  - Downloading \u001b[32msymfony/browser-kit\u001b[39m (\u001b[33mv6.2.7\u001b[39m)\n",
      "  - Downloading \u001b[32mpsr/http-client\u001b[39m (\u001b[33m1.0.2\u001b[39m)\n",
      "  - Downloading \u001b[32mguzzlehttp/promises\u001b[39m (\u001b[33m1.5.2\u001b[39m)\n",
      "  - Downloading \u001b[32mguzzlehttp/guzzle\u001b[39m (\u001b[33m7.5.1\u001b[39m)\n",
      "  - Downloading \u001b[32mcodeception/lib-innerbrowser\u001b[39m (\u001b[33m4.0.0\u001b[39m)\n",
      "  - Downloading \u001b[32mcodeception/module-phpbrowser\u001b[39m (\u001b[33m3.0.0\u001b[39m)\n",
      "  0/13 [>---------------------------]   0%\u001b[1G\u001b[2K 11/13 [=======================>----]  84%\u001b[1G\u001b[2K 12/13 [=========================>--]  92%\u001b[1G\u001b[2K 13/13 [============================] 100%\u001b[1G\u001b[2K  - Installing \u001b[32mralouphie/getallheaders\u001b[39m (\u001b[33m3.0.3\u001b[39m): Extracting archive\n",
      "  - Installing \u001b[32mpsr/http-message\u001b[39m (\u001b[33m2.0\u001b[39m): Extracting archive\n",
      "  - Installing \u001b[32mpsr/http-factory\u001b[39m (\u001b[33m1.0.2\u001b[39m): Extracting archive\n",
      "  - Installing \u001b[32mguzzlehttp/psr7\u001b[39m (\u001b[33m2.5.0\u001b[39m): Extracting archive\n",
      "  - Installing \u001b[32mcodeception/lib-web\u001b[39m (\u001b[33m1.0.2\u001b[39m): Extracting archive\n",
      "  - Installing \u001b[32mmasterminds/html5\u001b[39m (\u001b[33m2.8.0\u001b[39m): Extracting archive\n",
      "  - Installing \u001b[32msymfony/dom-crawler\u001b[39m (\u001b[33mv6.2.9\u001b[39m): Extracting archive\n",
      "  - Installing \u001b[32msymfony/browser-kit\u001b[39m (\u001b[33mv6.2.7\u001b[39m): Extracting archive\n",
      "  - Installing \u001b[32mpsr/http-client\u001b[39m (\u001b[33m1.0.2\u001b[39m): Extracting archive\n",
      "  - Installing \u001b[32mguzzlehttp/promises\u001b[39m (\u001b[33m1.5.2\u001b[39m): Extracting archive\n",
      "  - Installing \u001b[32mguzzlehttp/guzzle\u001b[39m (\u001b[33m7.5.1\u001b[39m): Extracting archive\n",
      "  - Installing \u001b[32mcodeception/lib-innerbrowser\u001b[39m (\u001b[33m4.0.0\u001b[39m): Extracting archive\n",
      "  - Installing \u001b[32mcodeception/module-phpbrowser\u001b[39m (\u001b[33m3.0.0\u001b[39m): Extracting archive\n",
      "  0/13 [>---------------------------]   0%\u001b[1G\u001b[2K 10/13 [=====================>------]  76%\u001b[1G\u001b[2K 13/13 [============================] 100%\u001b[1G\u001b[2K\u001b[32m5 package suggestions were added by new dependencies, use `composer suggest` to see details.\u001b[39m\n",
      "\u001b[32mGenerating autoload files\u001b[39m\n",
      "\u001b[32m43 packages you are using are looking for funding.\u001b[39m\n",
      "\u001b[32mUse the `composer fund` command to find out more!\u001b[39m\n",
      "\u001b[32mNo security vulnerability advisories found\u001b[39m\n"
     ]
    }
   ],
   "source": [
    "! composer require codeception/module-phpbrowser --dev"
   ]
  },
  {
   "cell_type": "markdown",
   "metadata": {},
   "source": [
    "Try running tests:"
   ]
  },
  {
   "cell_type": "code",
   "execution_count": 6,
   "metadata": {},
   "outputs": [
    {
     "name": "stdout",
     "output_type": "stream",
     "text": [
      "\n",
      "\u001b[33mIn Configuration.php line 181:\u001b[39m\n",
      "\u001b[37;41m                                              \u001b[39;49m\n",
      "\u001b[37;41m  Configuration file could not be found.      \u001b[39;49m\n",
      "\u001b[37;41m  Run `bootstrap` to initialize Codeception.  \u001b[39;49m\n",
      "\u001b[37;41m                                              \u001b[39;49m\n",
      "\n",
      "\u001b[32mrun [-o|--override OVERRIDE] [-e|--ext EXT] [--report] [--html [HTML]] [--xml [XML]] [--phpunit-xml [PHPUNIT-XML]] [--colors] [--no-colors] [--silent] [--steps] [-d|--debug] [--shard SHARD] [--filter FILTER] [--grep GREP] [--bootstrap [BOOTSTRAP]] [--no-redirect] [--coverage [COVERAGE]] [--coverage-html [COVERAGE-HTML]] [--coverage-xml [COVERAGE-XML]] [--coverage-text [COVERAGE-TEXT]] [--coverage-crap4j [COVERAGE-CRAP4J]] [--coverage-cobertura [COVERAGE-COBERTURA]] [--coverage-phpunit [COVERAGE-PHPUNIT]] [--no-exit] [-g|--group GROUP] [-s|--skip SKIP] [-x|--skip-group SKIP-GROUP] [--env ENV] [-f|--fail-fast [FAIL-FAST]] [--no-rebuild] [--seed SEED] [--no-artifacts] [--] [<suite> [<test>]]\u001b[39m\n",
      "\n"
     ]
    }
   ],
   "source": [
    "! vendor/bin/codecept run"
   ]
  },
  {
   "cell_type": "markdown",
   "metadata": {},
   "source": [
    "Bootstrap Codeception:"
   ]
  },
  {
   "cell_type": "code",
   "execution_count": 7,
   "metadata": {},
   "outputs": [
    {
     "name": "stdout",
     "output_type": "stream",
     "text": [
      "\u001b[37;45m Bootstrapping Codeception \u001b[39;49m\n",
      "\n",
      "File codeception.yml created       <- global configuration\n",
      "\u001b[36m UnitTester actor has been created in tests/Support\u001b[39m\n",
      "\u001b[36m Actions have been loaded\u001b[39m\n",
      "tests/Unit created                 <- unit tests\n",
      "tests/Unit.suite.yml written       <- unit tests suite configuration\n",
      "\u001b[36m FunctionalTester actor has been created in tests/Support\u001b[39m\n",
      "\u001b[36m Actions have been loaded\u001b[39m\n",
      "tests/Functional created           <- functional tests\n",
      "tests/Functional.suite.yml written <- functional tests suite configuration\n",
      "\u001b[36m AcceptanceTester actor has been created in tests/Support\u001b[39m\n",
      "\u001b[36m Actions have been loaded\u001b[39m\n",
      "tests/Acceptance created           <- acceptance tests\n",
      "tests/Acceptance.suite.yml written <- acceptance tests suite configuration\n",
      " --- \n",
      "\n",
      "\u001b[37;42;1m Codeception is installed for acceptance, functional, and unit testing \u001b[39;49;22m\n",
      "\n",
      "\u001b[1mNext steps:\u001b[22m\n",
      "1. Edit \u001b[1mtests/acceptance.suite.yml\u001b[22m to set url of your application. Change PhpBrowser to WebDriver to enable browser testing\n",
      "2. Edit \u001b[1mtests/functional.suite.yml\u001b[22m to enable a framework module. Remove this file if you don't use a framework\n",
      "3. Create your first acceptance tests using \u001b[33mcodecept g:cest acceptance First\u001b[39m\n",
      "4. Write first test in \u001b[1mtests/acceptance/FirstCest.php\u001b[22m\n",
      "5. Run tests using: \u001b[33mcodecept run\u001b[39m\n"
     ]
    }
   ],
   "source": [
    "! vendor/bin/codecept bootstrap --no-interaction"
   ]
  },
  {
   "cell_type": "markdown",
   "metadata": {},
   "source": [
    "See the file structure:"
   ]
  },
  {
   "cell_type": "code",
   "execution_count": 8,
   "metadata": {},
   "outputs": [
    {
     "name": "stdout",
     "output_type": "stream",
     "text": [
      "total 180\r\n",
      "-rw-r--r--  1 student student    260 May  7 16:50 codeception.yml\r\n",
      "-rw-r--r--  1 student student    168 May  7 16:50 composer.json\r\n",
      "-rw-r--r--  1 student student 149898 May  7 16:50 composer.lock\r\n",
      "-rw-r--r--  1 student student    681 May  7 16:50 index.php\r\n",
      "drwxr-xr-x  7 student student   4096 May  7 16:50 tests\r\n",
      "drwxr-xr-x 18 student student   4096 May  7 16:50 vendor\r\n"
     ]
    }
   ],
   "source": [
    "! ls -l | grep -v *ipynb"
   ]
  },
  {
   "cell_type": "code",
   "execution_count": 9,
   "metadata": {},
   "outputs": [
    {
     "name": "stdout",
     "output_type": "stream",
     "text": [
      "namespace: Tests\r\n",
      "support_namespace: Support\r\n",
      "paths:\r\n",
      "    tests: tests\r\n",
      "    output: tests/_output\r\n",
      "    data: tests/Support/Data\r\n",
      "    support: tests/Support\r\n",
      "    envs: tests/_envs\r\n",
      "actor_suffix: Tester\r\n",
      "extensions:\r\n",
      "    enabled:\r\n",
      "        - Codeception\\Extension\\RunFailed\r\n"
     ]
    }
   ],
   "source": [
    "! cat codeception.yml"
   ]
  },
  {
   "cell_type": "code",
   "execution_count": 10,
   "metadata": {},
   "outputs": [
    {
     "name": "stdout",
     "output_type": "stream",
     "text": [
      "tests:\r\n",
      "total 32\r\n",
      "drwxr-xr-x 2 student student 4096 May  7 16:50 Acceptance\r\n",
      "-rw-r--r-- 1 student student  511 May  7 16:50 Acceptance.suite.yml\r\n",
      "drwxr-xr-x 2 student student 4096 May  7 16:50 Functional\r\n",
      "-rw-r--r-- 1 student student  359 May  7 16:50 Functional.suite.yml\r\n",
      "drwxr-xr-x 5 student student 4096 May  7 16:50 Support\r\n",
      "drwxr-xr-x 2 student student 4096 May  7 16:50 Unit\r\n",
      "-rw-r--r-- 1 student student  158 May  7 16:50 Unit.suite.yml\r\n",
      "drwxr-xr-x 2 student student 4096 May  7 16:50 _output\r\n",
      "\r\n",
      "tests/Acceptance:\r\n",
      "total 0\r\n",
      "\r\n",
      "tests/Functional:\r\n",
      "total 0\r\n",
      "\r\n",
      "tests/Support:\r\n",
      "total 24\r\n",
      "-rw-r--r-- 1 student student  625 May  7 16:50 AcceptanceTester.php\r\n",
      "drwxr-xr-x 2 student student 4096 May  7 16:50 Data\r\n",
      "-rw-r--r-- 1 student student  625 May  7 16:50 FunctionalTester.php\r\n",
      "drwxr-xr-x 2 student student 4096 May  7 16:50 Helper\r\n",
      "-rw-r--r-- 1 student student  613 May  7 16:50 UnitTester.php\r\n",
      "drwxr-xr-x 2 student student 4096 May  7 16:50 _generated\r\n",
      "\r\n",
      "tests/Support/Data:\r\n",
      "total 0\r\n",
      "\r\n",
      "tests/Support/Helper:\r\n",
      "total 0\r\n",
      "\r\n",
      "tests/Support/_generated:\r\n",
      "total 240\r\n",
      "-rw-r--r-- 1 student student 168871 May  7 16:50 AcceptanceTesterActions.php\r\n",
      "-rw-r--r-- 1 student student    381 May  7 16:50 FunctionalTesterActions.php\r\n",
      "-rw-r--r-- 1 student student  66137 May  7 16:50 UnitTesterActions.php\r\n",
      "\r\n",
      "tests/Unit:\r\n",
      "total 0\r\n",
      "\r\n",
      "tests/_output:\r\n",
      "total 0\r\n"
     ]
    }
   ],
   "source": [
    "! ls -lR tests"
   ]
  },
  {
   "cell_type": "markdown",
   "metadata": {},
   "source": [
    "Run tests:"
   ]
  },
  {
   "cell_type": "code",
   "execution_count": 11,
   "metadata": {},
   "outputs": [
    {
     "name": "stdout",
     "output_type": "stream",
     "text": [
      "Codeception PHP Testing Framework v5.0.10 https://helpukrainewin.org\n",
      "\n",
      "\u001b[1mTests.Acceptance Tests (0) \u001b[22m-----------------------------------------------------\n",
      "--------------------------------------------------------------------------------\n",
      "\n",
      "\u001b[1mTests.Functional Tests (0) \u001b[22m-----------------------------------------------------\n",
      "--------------------------------------------------------------------------------\n",
      "\n",
      "\u001b[1mTests.Unit Tests (0) \u001b[22m-----------------------------------------------------------\n",
      "--------------------------------------------------------------------------------\n",
      "\n",
      "\u001b[30;43mNo tests executed!\u001b[39;49m\n"
     ]
    }
   ],
   "source": [
    "! vendor/bin/codecept run"
   ]
  },
  {
   "cell_type": "markdown",
   "metadata": {},
   "source": [
    "New Acceptance test:"
   ]
  },
  {
   "cell_type": "code",
   "execution_count": 12,
   "metadata": {},
   "outputs": [
    {
     "name": "stdout",
     "output_type": "stream",
     "text": [
      "\u001b[32mTest was created in /home/student/Desktop/PHP_Szymon_Cogiel/php_2022_szymon_cogiel/07_testing/01_tutorial/tests/Acceptance/DemoTest.php\u001b[39m\r\n"
     ]
    }
   ],
   "source": [
    "! vendor/bin/codecept generate:test Acceptance DemoTest"
   ]
  },
  {
   "cell_type": "markdown",
   "metadata": {},
   "source": [
    "Open the [tests/Acceptance/DemoTest.php](../../../edit/07_testing/01_tutorial/tests/Acceptance/DemoTest.php) file."
   ]
  },
  {
   "cell_type": "code",
   "execution_count": 13,
   "metadata": {},
   "outputs": [
    {
     "name": "stdout",
     "output_type": "stream",
     "text": [
      "\u001b[32mTest was created in /home/student/Desktop/PHP_Szymon_Cogiel/php_2022_szymon_cogiel/07_testing/01_tutorial/tests/Acceptance/DemoCest.php\u001b[39m\r\n"
     ]
    }
   ],
   "source": [
    "! vendor/bin/codecept generate:cest Acceptance DemoCest"
   ]
  },
  {
   "cell_type": "markdown",
   "metadata": {},
   "source": [
    "Open the [tests/acceptance/DemoCest.php](../../../edit/07_testing/01_tutorial/tests/Acceptance/DemoCest.php) file."
   ]
  },
  {
   "cell_type": "code",
   "execution_count": 14,
   "metadata": {},
   "outputs": [
    {
     "name": "stdout",
     "output_type": "stream",
     "text": [
      "Codeception PHP Testing Framework v5.0.10 https://helpukrainewin.org\n",
      "\n",
      "\u001b[1mTests.Acceptance Tests (2) \u001b[22m-----------------------------------------------------\n",
      "\u001b[32;1m✔\u001b[39;22m \u001b[35;1mDemoCest:\u001b[39;22m Try to test\u001b[32m(0.00s)\u001b[39m\n",
      "\u001b[32;1m✔\u001b[39;22m \u001b[35;1mDemoTest:\u001b[39;22m Some feature\u001b[32m(0.01s)\u001b[39m\n",
      "--------------------------------------------------------------------------------\n",
      "\n",
      "\u001b[1mTests.Functional Tests (0) \u001b[22m-----------------------------------------------------\n",
      "--------------------------------------------------------------------------------\n",
      "\n",
      "\u001b[1mTests.Unit Tests (0) \u001b[22m-----------------------------------------------------------\n",
      "--------------------------------------------------------------------------------\n",
      "Time: 00:00.084, Memory: 14.00 MB\n",
      "\n",
      "\u001b[30;42mOK (2 tests, 0 assertions)\u001b[39;49m\n"
     ]
    }
   ],
   "source": [
    "! vendor/bin/codecept run"
   ]
  },
  {
   "cell_type": "markdown",
   "metadata": {},
   "source": [
    "Open the [tests/acceptance/DemoCest.php](../../../edit/07_testing/01_tutorial/tests/Acceptance/DemoCest.php) and add following code:\n",
    "\n",
    "```php\n",
    "<?php\n",
    "\n",
    "namespace Tests\\Acceptance;\n",
    "\n",
    "use Tests\\Support\\AcceptanceTester;\n",
    "\n",
    "class DemoCest\n",
    "{\n",
    "    public function login(AcceptanceTester $I)\n",
    "    {\n",
    "        $I->amOnPage(\"/\");\n",
    "        $I->click(\"Login\");\n",
    "        $I->see(\"EMPTY\");\n",
    "\n",
    "        $I->amOnPage(\"/\");\n",
    "        $I->fillField(\"user\", \"foo\");\n",
    "        $I->click(\"Login\");\n",
    "        $I->see(\"EMPTY\");\n",
    "\n",
    "        $I->amOnPage(\"/\");\n",
    "        $I->fillField(\"user\", \"foo\");\n",
    "        $I->fillField(\"password\", \"foo\");\n",
    "        $I->click(\"Login\");\n",
    "        $I->see(\"ERROR\");\n",
    "\n",
    "        $I->amOnPage(\"/\");\n",
    "        $I->fillField(\"user\", \"foo\");\n",
    "        $I->fillField(\"password\", \"foo123\");\n",
    "        $I->click(\"Login\");\n",
    "        $I->see(\"OK\");\n",
    "    }\n",
    "}\n",
    "\n",
    "```"
   ]
  },
  {
   "cell_type": "markdown",
   "metadata": {},
   "source": [
    "Run tests:"
   ]
  },
  {
   "cell_type": "code",
   "execution_count": null,
   "metadata": {},
   "outputs": [],
   "source": [
    "! vendor/bin/codecept run"
   ]
  },
  {
   "cell_type": "markdown",
   "metadata": {},
   "source": [
    "To fix the URL in configuration open the [tests/Acceptance.suite.yml](../../../edit/07_testing/01_tutorial/tests/Acceptance.suite.yml) and change:\n",
    "\n",
    "```yml\n",
    "modules:\n",
    "    enabled:\n",
    "        - PhpBrowser:\n",
    "            url: http://localhost/myapp\n",
    "```\n",
    "\n",
    "to\n",
    "\n",
    "```yml\n",
    "modules:\n",
    "    enabled:\n",
    "        - PhpBrowser:\n",
    "            url: http://localhost:8888\n",
    "```"
   ]
  },
  {
   "cell_type": "markdown",
   "metadata": {},
   "source": [
    "Run tests:"
   ]
  },
  {
   "cell_type": "code",
   "execution_count": null,
   "metadata": {},
   "outputs": [],
   "source": [
    "! vendor/bin/codecept run"
   ]
  },
  {
   "cell_type": "markdown",
   "metadata": {},
   "source": [
    "Tests should now be green!"
   ]
  },
  {
   "cell_type": "markdown",
   "metadata": {},
   "source": [
    "Install WebDriver:"
   ]
  },
  {
   "cell_type": "code",
   "execution_count": null,
   "metadata": {},
   "outputs": [],
   "source": [
    "! composer require --dev codeception/module-webdriver"
   ]
  },
  {
   "cell_type": "markdown",
   "metadata": {},
   "source": [
    "To fix the URL in configuration open the [tests/Acceptance.suite.yml](../../../edit/07_testing/01_tutorial/tests/Acceptance.suite.yml) and change:\n",
    "\n",
    "```yml\n",
    "modules:\n",
    "    enabled:\n",
    "        - PhpBrowser:\n",
    "            url: http://localhost:8888\n",
    "```\n",
    "\n",
    "to\n",
    "\n",
    "```yml\n",
    "modules:\n",
    "    enabled:\n",
    "        - WebDriver:\n",
    "            url: http://localhost:8888\n",
    "            browser: chrome\n",
    "```"
   ]
  },
  {
   "cell_type": "markdown",
   "metadata": {},
   "source": [
    "Run tests:"
   ]
  },
  {
   "cell_type": "code",
   "execution_count": null,
   "metadata": {},
   "outputs": [],
   "source": [
    "! vendor/bin/codecept run"
   ]
  },
  {
   "cell_type": "markdown",
   "metadata": {},
   "source": [
    "Start Selenium:"
   ]
  },
  {
   "cell_type": "code",
   "execution_count": null,
   "metadata": {},
   "outputs": [],
   "source": [
    "import subprocess\n",
    "seleniumServer = subprocess.Popen(['java', '-jar', 'selenium-server-4.4.0.jar', 'standalone'], cwd='/opt/selenium/')"
   ]
  },
  {
   "cell_type": "markdown",
   "metadata": {},
   "source": [
    "Run tests:"
   ]
  },
  {
   "cell_type": "code",
   "execution_count": null,
   "metadata": {},
   "outputs": [],
   "source": [
    "! vendor/bin/codecept run"
   ]
  },
  {
   "cell_type": "markdown",
   "metadata": {},
   "source": [
    "You should see the browser window during tests execution. Tests should be green."
   ]
  },
  {
   "cell_type": "markdown",
   "metadata": {},
   "source": [
    "Stop Selenium:"
   ]
  },
  {
   "cell_type": "code",
   "execution_count": null,
   "metadata": {},
   "outputs": [],
   "source": [
    "seleniumServer.kill()"
   ]
  },
  {
   "cell_type": "markdown",
   "metadata": {},
   "source": [
    "Stop the server:"
   ]
  },
  {
   "cell_type": "code",
   "execution_count": null,
   "metadata": {},
   "outputs": [],
   "source": [
    "phpServer.kill()"
   ]
  },
  {
   "cell_type": "markdown",
   "metadata": {},
   "source": [
    "Cleanup:"
   ]
  },
  {
   "cell_type": "code",
   "execution_count": null,
   "metadata": {},
   "outputs": [],
   "source": [
    "! git clean -fdx ."
   ]
  }
 ],
 "metadata": {
  "kernelspec": {
   "display_name": "Python 3 (ipykernel)",
   "language": "python",
   "name": "python3"
  },
  "language_info": {
   "codemirror_mode": {
    "name": "ipython",
    "version": 3
   },
   "file_extension": ".py",
   "mimetype": "text/x-python",
   "name": "python",
   "nbconvert_exporter": "python",
   "pygments_lexer": "ipython3",
   "version": "3.10.6"
  }
 },
 "nbformat": 4,
 "nbformat_minor": 4
}
