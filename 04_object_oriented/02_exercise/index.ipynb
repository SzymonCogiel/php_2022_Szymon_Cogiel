{
 "cells": [
  {
   "cell_type": "markdown",
   "metadata": {},
   "source": [
    "# PHP 2022"
   ]
  },
  {
   "cell_type": "markdown",
   "metadata": {},
   "source": [
    "## 4. Object-Oriented Programming"
   ]
  },
  {
   "cell_type": "markdown",
   "metadata": {},
   "source": [
    "### 4.2 Exercise"
   ]
  },
  {
   "cell_type": "markdown",
   "metadata": {},
   "source": [
    "Implement the below class diagram."
   ]
  },
  {
   "cell_type": "code",
   "execution_count": 1,
   "metadata": {},
   "outputs": [],
   "source": [
    "import iplantuml;"
   ]
  },
  {
   "cell_type": "code",
   "execution_count": 2,
   "metadata": {},
   "outputs": [
    {
     "name": "stdout",
     "output_type": "stream",
     "text": [
      "Writing output for /home/student/Desktop/PHP_Szymon_Cogiel/php_2022_szymon_cogiel/04_object_oriented/02_exercise/3fa76694-51a6-461c-8de5-e2e60deb3d17.uml to 3fa76694-51a6-461c-8de5-e2e60deb3d17.svg\n"
     ]
    },
    {
     "data": {
      "image/svg+xml": [
       "<svg xmlns=\"http://www.w3.org/2000/svg\" xmlns:xlink=\"http://www.w3.org/1999/xlink\" contentStyleType=\"text/css\" height=\"1090px\" preserveAspectRatio=\"none\" style=\"width:2188px;height:1090px;background:#FFFFFF;\" version=\"1.1\" viewBox=\"0 0 2188 1090\" width=\"2188px\" zoomAndPan=\"magnify\"><defs/><g><!--cluster Widget--><g id=\"cluster_Widget\"><path d=\"M512.5,701.5 L570.5,701.5 A3.75,3.75 0 0 1 573,704 L580,723.7969 L1256.5,723.7969 A2.5,2.5 0 0 1 1259,726.2969 L1259,1081 A2.5,2.5 0 0 1 1256.5,1083.5 L512.5,1083.5 A2.5,2.5 0 0 1 510,1081 L510,704 A2.5,2.5 0 0 1 512.5,701.5 \" fill=\"none\" style=\"stroke:#000000;stroke-width:1.5;\"/><line style=\"stroke:#000000;stroke-width:1.5;\" x1=\"510\" x2=\"580\" y1=\"723.7969\" y2=\"723.7969\"/><text fill=\"#000000\" font-family=\"sans-serif\" font-size=\"14\" font-weight=\"bold\" lengthAdjust=\"spacing\" textLength=\"57\" x=\"514\" y=\"716.4951\">Widget</text></g><!--cluster Concept--><g id=\"cluster_Concept\"><path d=\"M74.5,481.5 L141.5,481.5 A3.75,3.75 0 0 1 144,484 L151,503.7969 L483.5,503.7969 A2.5,2.5 0 0 1 486,506.2969 L486,817.5 A2.5,2.5 0 0 1 483.5,820 L74.5,820 A2.5,2.5 0 0 1 72,817.5 L72,484 A2.5,2.5 0 0 1 74.5,481.5 \" fill=\"none\" style=\"stroke:#000000;stroke-width:1.5;\"/><line style=\"stroke:#000000;stroke-width:1.5;\" x1=\"72\" x2=\"151\" y1=\"503.7969\" y2=\"503.7969\"/><text fill=\"#000000\" font-family=\"sans-serif\" font-size=\"14\" font-weight=\"bold\" lengthAdjust=\"spacing\" textLength=\"66\" x=\"76\" y=\"496.4951\">Concept</text></g><!--cluster Config--><g id=\"cluster_Config\"><path d=\"M1823.5,660.5 L1876.5,660.5 A3.75,3.75 0 0 1 1879,663 L1886,682.7969 L2178.5,682.7969 A2.5,2.5 0 0 1 2181,685.2969 L2181,968 A2.5,2.5 0 0 1 2178.5,970.5 L1823.5,970.5 A2.5,2.5 0 0 1 1821,968 L1821,663 A2.5,2.5 0 0 1 1823.5,660.5 \" fill=\"none\" style=\"stroke:#000000;stroke-width:1.5;\"/><line style=\"stroke:#000000;stroke-width:1.5;\" x1=\"1821\" x2=\"1886\" y1=\"682.7969\" y2=\"682.7969\"/><text fill=\"#000000\" font-family=\"sans-serif\" font-size=\"14\" font-weight=\"bold\" lengthAdjust=\"spacing\" textLength=\"52\" x=\"1825\" y=\"675.4951\">Config</text></g><!--cluster Storage--><g id=\"cluster_Storage\"><path d=\"M1285.5,300 L1350.5,300 A3.75,3.75 0 0 1 1353,302.5 L1360,322.2969 L1634.5,322.2969 A2.5,2.5 0 0 1 1637,324.7969 L1637,809.5 A2.5,2.5 0 0 1 1634.5,812 L1285.5,812 A2.5,2.5 0 0 1 1283,809.5 L1283,302.5 A2.5,2.5 0 0 1 1285.5,300 \" fill=\"none\" style=\"stroke:#000000;stroke-width:1.5;\"/><line style=\"stroke:#000000;stroke-width:1.5;\" x1=\"1283\" x2=\"1360\" y1=\"322.2969\" y2=\"322.2969\"/><text fill=\"#000000\" font-family=\"sans-serif\" font-size=\"14\" font-weight=\"bold\" lengthAdjust=\"spacing\" textLength=\"64\" x=\"1287\" y=\"314.9951\">Storage</text></g><!--cluster index--><g id=\"cluster_index\"><path d=\"M1911.5,6 L1955.5,6 A3.75,3.75 0 0 1 1958,8.5 L1965,28.2969 L1988.5,28.2969 A2.5,2.5 0 0 1 1991,30.7969 L1991,90.5 A2.5,2.5 0 0 1 1988.5,93 L1911.5,93 A2.5,2.5 0 0 1 1909,90.5 L1909,8.5 A2.5,2.5 0 0 1 1911.5,6 \" fill=\"none\" style=\"stroke:#000000;stroke-width:1.5;\"/><line style=\"stroke:#000000;stroke-width:1.5;\" x1=\"1909\" x2=\"1965\" y1=\"28.2969\" y2=\"28.2969\"/><text fill=\"#000000\" font-family=\"sans-serif\" font-size=\"14\" font-weight=\"bold\" lengthAdjust=\"spacing\" textLength=\"43\" x=\"1913\" y=\"20.9951\">index</text></g><!--class Widget--><g id=\"elem_Widget\"><rect codeLine=\"18\" fill=\"#F1F1F1\" height=\"64.2969\" id=\"Widget\" rx=\"2.5\" ry=\"2.5\" style=\"stroke:#181818;stroke-width:0.5;\" width=\"109\" x=\"799.5\" y=\"736.5\"/><ellipse cx=\"826.65\" cy=\"752.5\" fill=\"#A9DCDF\" rx=\"11\" ry=\"11\" style=\"stroke:#181818;stroke-width:1.0;\"/><path d=\"M828.7281,754.3125 L829.1188,755.2969 L828.7281,755.2969 C828.275,755.2969 828.1656,755.3125 828.0094,755.4219 C827.7594,755.5781 827.6031,755.8594 827.6031,756.1563 C827.6031,756.4219 827.7438,756.6719 827.9625,756.8281 C828.1031,756.9531 828.3063,757 828.7281,757 L831.0875,757 C831.4469,757 831.6656,756.9688 831.8063,756.875 C832.0563,756.7344 832.2125,756.4375 832.2125,756.1563 C832.2125,755.875 832.0719,755.625 831.8531,755.4688 C831.6813,755.3281 831.525,755.2969 831.0563,755.2969 L827.6656,747.0938 L823.9938,747.0938 C823.5406,747.0938 823.4156,747.1094 823.2594,747.2031 C823.0094,747.375 822.8531,747.6563 822.8531,747.9375 C822.8531,748.2188 822.9938,748.4688 823.2125,748.6406 C823.3844,748.75 823.5563,748.7813 823.9938,748.7813 L825.0719,748.7813 L822.4313,755.2969 C822.0094,755.2969 821.8531,755.3125 821.6969,755.4219 C821.4469,755.5781 821.2906,755.8594 821.2906,756.1563 C821.2906,756.7188 821.6656,757 822.4156,757 L824.6813,757 C825.0406,757 825.2594,756.9688 825.3844,756.875 C825.65,756.7344 825.7906,756.4375 825.7906,756.1563 C825.7906,755.875 825.6656,755.625 825.4469,755.4531 C825.275,755.3281 825.1344,755.2969 824.6813,755.2969 L824.2906,755.2969 L824.6813,754.3125 L828.7281,754.3125 Z M828.025,752.6094 L825.3531,752.6094 L826.6969,749.3438 L828.025,752.6094 Z \" fill=\"#000000\"/><text fill=\"#000000\" font-family=\"sans-serif\" font-size=\"14\" font-style=\"italic\" lengthAdjust=\"spacing\" textLength=\"50\" x=\"843.35\" y=\"757.3467\">Widget</text><line style=\"stroke:#181818;stroke-width:0.5;\" x1=\"800.5\" x2=\"907.5\" y1=\"768.5\" y2=\"768.5\"/><line style=\"stroke:#181818;stroke-width:0.5;\" x1=\"800.5\" x2=\"907.5\" y1=\"776.5\" y2=\"776.5\"/><ellipse cx=\"810.5\" cy=\"790.1484\" fill=\"#84BE84\" rx=\"3\" ry=\"3\" style=\"stroke:#038048;stroke-width:1.0;\"/><text fill=\"#000000\" font-family=\"sans-serif\" font-size=\"14\" lengthAdjust=\"spacing\" textLength=\"83\" x=\"819.5\" y=\"793.4951\">draw(): void</text></g><!--class Link--><g id=\"elem_Link\"><rect codeLine=\"22\" fill=\"#F1F1F1\" height=\"64.2969\" id=\"Link\" rx=\"2.5\" ry=\"2.5\" style=\"stroke:#181818;stroke-width:0.5;\" width=\"109\" x=\"612.5\" y=\"902.5\"/><ellipse cx=\"648.65\" cy=\"918.5\" fill=\"#ADD1B2\" rx=\"11\" ry=\"11\" style=\"stroke:#181818;stroke-width:1.0;\"/><path d=\"M650.9938,914.1719 C650.0563,913.7344 649.4625,913.5938 648.5875,913.5938 C645.9625,913.5938 643.9625,915.6719 643.9625,918.3906 L643.9625,919.5156 C643.9625,922.0938 646.0719,923.9844 648.9625,923.9844 C650.1813,923.9844 651.3375,923.6875 652.0875,923.1406 C652.6656,922.7344 652.9938,922.2813 652.9938,921.8906 C652.9938,921.4375 652.6031,921.0469 652.1344,921.0469 C651.9156,921.0469 651.7125,921.125 651.525,921.3125 C651.0719,921.7969 651.0719,921.7969 650.8844,921.8906 C650.4625,922.1563 649.775,922.2813 649.0094,922.2813 C646.9625,922.2813 645.6656,921.1875 645.6656,919.4844 L645.6656,918.3906 C645.6656,916.6094 646.9156,915.2969 648.65,915.2969 C649.2281,915.2969 649.8375,915.4531 650.3063,915.7031 C650.7906,915.9844 650.9625,916.2031 651.0563,916.6094 C651.1188,917.0156 651.15,917.1406 651.2906,917.2656 C651.4313,917.4063 651.6656,917.5156 651.8844,917.5156 C652.15,917.5156 652.4156,917.375 652.5875,917.1563 C652.6969,917 652.7281,916.8125 652.7281,916.3906 L652.7281,914.9688 C652.7281,914.5313 652.7125,914.4063 652.6188,914.25 C652.4625,913.9844 652.1813,913.8438 651.8844,913.8438 C651.5875,913.8438 651.3844,913.9375 651.1656,914.25 L650.9938,914.1719 Z \" fill=\"#000000\"/><text fill=\"#000000\" font-family=\"sans-serif\" font-size=\"14\" lengthAdjust=\"spacing\" textLength=\"30\" x=\"667.35\" y=\"923.3467\">Link</text><line style=\"stroke:#181818;stroke-width:0.5;\" x1=\"613.5\" x2=\"720.5\" y1=\"934.5\" y2=\"934.5\"/><line style=\"stroke:#181818;stroke-width:0.5;\" x1=\"613.5\" x2=\"720.5\" y1=\"942.5\" y2=\"942.5\"/><ellipse cx=\"623.5\" cy=\"956.1484\" fill=\"#84BE84\" rx=\"3\" ry=\"3\" style=\"stroke:#038048;stroke-width:1.0;\"/><text fill=\"#000000\" font-family=\"sans-serif\" font-size=\"14\" lengthAdjust=\"spacing\" textLength=\"83\" x=\"632.5\" y=\"959.4951\">draw(): void</text></g><g id=\"elem_LinkNote\"><path d=\"M526,1027.5 L526,1067.7656 A0,0 0 0 0 526,1067.7656 L808,1067.7656 A0,0 0 0 0 808,1067.7656 L808,1037.5 L798,1027.5 L671,1027.5 L667,966.715 L663,1027.5 L526,1027.5 A0,0 0 0 0 526,1027.5 \" fill=\"#FEFFDD\" style=\"stroke:#181818;stroke-width:0.5;\"/><path d=\"M798,1027.5 L798,1037.5 L808,1037.5 L798,1027.5 \" fill=\"#FEFFDD\" style=\"stroke:#181818;stroke-width:0.5;\"/><text fill=\"#000000\" font-family=\"sans-serif\" font-size=\"13\" lengthAdjust=\"spacing\" textLength=\"245\" x=\"532\" y=\"1044.5669\">Prints link HTML using echo command.</text><text fill=\"#000000\" font-family=\"sans-serif\" font-size=\"13\" lengthAdjust=\"spacing\" textLength=\"261\" x=\"532\" y=\"1059.6997\">Example: &lt;a href=&quot;&quot;&gt;widget_link_1&lt;/a&gt;</text></g><!--class Button--><g id=\"elem_Button\"><rect codeLine=\"33\" fill=\"#F1F1F1\" height=\"64.2969\" id=\"Button\" rx=\"2.5\" ry=\"2.5\" style=\"stroke:#181818;stroke-width:0.5;\" width=\"109\" x=\"988.5\" y=\"902.5\"/><ellipse cx=\"1015.65\" cy=\"918.5\" fill=\"#ADD1B2\" rx=\"11\" ry=\"11\" style=\"stroke:#181818;stroke-width:1.0;\"/><path d=\"M1017.9938,914.1719 C1017.0563,913.7344 1016.4625,913.5938 1015.5875,913.5938 C1012.9625,913.5938 1010.9625,915.6719 1010.9625,918.3906 L1010.9625,919.5156 C1010.9625,922.0938 1013.0719,923.9844 1015.9625,923.9844 C1017.1813,923.9844 1018.3375,923.6875 1019.0875,923.1406 C1019.6656,922.7344 1019.9938,922.2813 1019.9938,921.8906 C1019.9938,921.4375 1019.6031,921.0469 1019.1344,921.0469 C1018.9156,921.0469 1018.7125,921.125 1018.525,921.3125 C1018.0719,921.7969 1018.0719,921.7969 1017.8844,921.8906 C1017.4625,922.1563 1016.775,922.2813 1016.0094,922.2813 C1013.9625,922.2813 1012.6656,921.1875 1012.6656,919.4844 L1012.6656,918.3906 C1012.6656,916.6094 1013.9156,915.2969 1015.65,915.2969 C1016.2281,915.2969 1016.8375,915.4531 1017.3063,915.7031 C1017.7906,915.9844 1017.9625,916.2031 1018.0563,916.6094 C1018.1188,917.0156 1018.15,917.1406 1018.2906,917.2656 C1018.4313,917.4063 1018.6656,917.5156 1018.8844,917.5156 C1019.15,917.5156 1019.4156,917.375 1019.5875,917.1563 C1019.6969,917 1019.7281,916.8125 1019.7281,916.3906 L1019.7281,914.9688 C1019.7281,914.5313 1019.7125,914.4063 1019.6188,914.25 C1019.4625,913.9844 1019.1813,913.8438 1018.8844,913.8438 C1018.5875,913.8438 1018.3844,913.9375 1018.1656,914.25 L1017.9938,914.1719 Z \" fill=\"#000000\"/><text fill=\"#000000\" font-family=\"sans-serif\" font-size=\"14\" lengthAdjust=\"spacing\" textLength=\"50\" x=\"1032.35\" y=\"923.3467\">Button</text><line style=\"stroke:#181818;stroke-width:0.5;\" x1=\"989.5\" x2=\"1096.5\" y1=\"934.5\" y2=\"934.5\"/><line style=\"stroke:#181818;stroke-width:0.5;\" x1=\"989.5\" x2=\"1096.5\" y1=\"942.5\" y2=\"942.5\"/><ellipse cx=\"999.5\" cy=\"956.1484\" fill=\"#84BE84\" rx=\"3\" ry=\"3\" style=\"stroke:#038048;stroke-width:1.0;\"/><text fill=\"#000000\" font-family=\"sans-serif\" font-size=\"14\" lengthAdjust=\"spacing\" textLength=\"83\" x=\"1008.5\" y=\"959.4951\">draw(): void</text></g><g id=\"elem_ButtonNote\"><path d=\"M843.5,1027.5 L843.5,1067.7656 A0,0 0 0 0 843.5,1067.7656 L1242.5,1067.7656 A0,0 0 0 0 1242.5,1067.7656 L1242.5,1037.5 L1232.5,1027.5 L1047,1027.5 L1043,966.715 L1039,1027.5 L843.5,1027.5 A0,0 0 0 0 843.5,1027.5 \" fill=\"#FEFFDD\" style=\"stroke:#181818;stroke-width:0.5;\"/><path d=\"M1232.5,1027.5 L1232.5,1037.5 L1242.5,1037.5 L1232.5,1027.5 \" fill=\"#FEFFDD\" style=\"stroke:#181818;stroke-width:0.5;\"/><text fill=\"#000000\" font-family=\"sans-serif\" font-size=\"13\" lengthAdjust=\"spacing\" textLength=\"266\" x=\"849.5\" y=\"1044.5669\">Prints button HTML using echo command.</text><text fill=\"#000000\" font-family=\"sans-serif\" font-size=\"13\" lengthAdjust=\"spacing\" textLength=\"378\" x=\"849.5\" y=\"1059.6997\">Example: &lt;input type=&quot;button&quot; value=&quot;widget_button_2&quot;&gt;</text></g><!--class Distinguishable--><g id=\"elem_Distinguishable\"><rect codeLine=\"54\" fill=\"#F1F1F1\" height=\"80.5938\" id=\"Distinguishable\" rx=\"2.5\" ry=\"2.5\" style=\"stroke:#181818;stroke-width:0.5;\" width=\"141\" x=\"328.5\" y=\"516.5\"/><ellipse cx=\"343.5\" cy=\"532.5\" fill=\"#A9DCDF\" rx=\"11\" ry=\"11\" style=\"stroke:#181818;stroke-width:1.0;\"/><path d=\"M345.5781,534.3125 L345.9688,535.2969 L345.5781,535.2969 C345.125,535.2969 345.0156,535.3125 344.8594,535.4219 C344.6094,535.5781 344.4531,535.8594 344.4531,536.1563 C344.4531,536.4219 344.5938,536.6719 344.8125,536.8281 C344.9531,536.9531 345.1563,537 345.5781,537 L347.9375,537 C348.2969,537 348.5156,536.9688 348.6563,536.875 C348.9063,536.7344 349.0625,536.4375 349.0625,536.1563 C349.0625,535.875 348.9219,535.625 348.7031,535.4688 C348.5313,535.3281 348.375,535.2969 347.9063,535.2969 L344.5156,527.0938 L340.8438,527.0938 C340.3906,527.0938 340.2656,527.1094 340.1094,527.2031 C339.8594,527.375 339.7031,527.6563 339.7031,527.9375 C339.7031,528.2188 339.8438,528.4688 340.0625,528.6406 C340.2344,528.75 340.4063,528.7813 340.8438,528.7813 L341.9219,528.7813 L339.2813,535.2969 C338.8594,535.2969 338.7031,535.3125 338.5469,535.4219 C338.2969,535.5781 338.1406,535.8594 338.1406,536.1563 C338.1406,536.7188 338.5156,537 339.2656,537 L341.5313,537 C341.8906,537 342.1094,536.9688 342.2344,536.875 C342.5,536.7344 342.6406,536.4375 342.6406,536.1563 C342.6406,535.875 342.5156,535.625 342.2969,535.4531 C342.125,535.3281 341.9844,535.2969 341.5313,535.2969 L341.1406,535.2969 L341.5313,534.3125 L345.5781,534.3125 Z M344.875,532.6094 L342.2031,532.6094 L343.5469,529.3438 L344.875,532.6094 Z \" fill=\"#000000\"/><text fill=\"#000000\" font-family=\"sans-serif\" font-size=\"14\" font-style=\"italic\" lengthAdjust=\"spacing\" textLength=\"109\" x=\"357.5\" y=\"537.3467\">Distinguishable</text><line style=\"stroke:#181818;stroke-width:0.5;\" x1=\"329.5\" x2=\"468.5\" y1=\"548.5\" y2=\"548.5\"/><rect fill=\"none\" height=\"6\" style=\"stroke:#C82930;stroke-width:1.0;\" width=\"6\" x=\"336.5\" y=\"559.1484\"/><text fill=\"#000000\" font-family=\"sans-serif\" font-size=\"14\" lengthAdjust=\"spacing\" textLength=\"42\" x=\"348.5\" y=\"565.4951\">id: int</text><line style=\"stroke:#181818;stroke-width:0.5;\" x1=\"329.5\" x2=\"468.5\" y1=\"572.7969\" y2=\"572.7969\"/><ellipse cx=\"339.5\" cy=\"586.4453\" fill=\"#84BE84\" rx=\"3\" ry=\"3\" style=\"stroke:#038048;stroke-width:1.0;\"/><text fill=\"#000000\" font-family=\"sans-serif\" font-size=\"14\" lengthAdjust=\"spacing\" textLength=\"91\" x=\"348.5\" y=\"589.792\">key() : string</text></g><g id=\"elem_DistinguishableNote\"><path d=\"M88.5,733 L88.5,803.5313 A0,0 0 0 0 88.5,803.5313 L469.5,803.5313 A0,0 0 0 0 469.5,803.5313 L469.5,743 L459.5,733 L302.786,733 L376.146,597.898 L294.786,733 L88.5,733 A0,0 0 0 0 88.5,733 \" fill=\"#FEFFDD\" style=\"stroke:#181818;stroke-width:0.5;\"/><path d=\"M459.5,733 L459.5,743 L469.5,743 L459.5,733 \" fill=\"#FEFFDD\" style=\"stroke:#181818;stroke-width:0.5;\"/><text fill=\"#000000\" font-family=\"sans-serif\" font-size=\"13\" lengthAdjust=\"spacing\" textLength=\"234\" x=\"94.5\" y=\"750.0669\">Creates unique key for every object.</text><text fill=\"#000000\" font-family=\"sans-serif\" font-size=\"13\" lengthAdjust=\"spacing\" textLength=\"360\" x=\"94.5\" y=\"765.1997\">Takes id in constructor and combines it with type name.</text><text fill=\"#000000\" font-family=\"sans-serif\" font-size=\"13\" lengthAdjust=\"spacing\" textLength=\"266\" x=\"94.5\" y=\"780.3325\">Example: widget_link_1, widget_button_2</text><text fill=\"#000000\" font-family=\"sans-serif\" font-size=\"13\" lengthAdjust=\"spacing\" textLength=\"299\" x=\"94.5\" y=\"795.4653\">Uses static::class to get type of deriving class.</text></g><!--class Directory--><g id=\"elem_Directory\"><rect codeLine=\"73\" fill=\"#F1F1F1\" height=\"145.7813\" id=\"Directory\" rx=\"2.5\" ry=\"2.5\" style=\"stroke:#181818;stroke-width:0.5;\" width=\"146\" x=\"1928\" y=\"695.5\"/><ellipse cx=\"1963.7\" cy=\"711.5\" fill=\"#ADD1B2\" rx=\"11\" ry=\"11\" style=\"stroke:#181818;stroke-width:1.0;\"/><path d=\"M1966.0438,707.1719 C1965.1063,706.7344 1964.5125,706.5938 1963.6375,706.5938 C1961.0125,706.5938 1959.0125,708.6719 1959.0125,711.3906 L1959.0125,712.5156 C1959.0125,715.0938 1961.1219,716.9844 1964.0125,716.9844 C1965.2313,716.9844 1966.3875,716.6875 1967.1375,716.1406 C1967.7156,715.7344 1968.0438,715.2813 1968.0438,714.8906 C1968.0438,714.4375 1967.6531,714.0469 1967.1844,714.0469 C1966.9656,714.0469 1966.7625,714.125 1966.575,714.3125 C1966.1219,714.7969 1966.1219,714.7969 1965.9344,714.8906 C1965.5125,715.1563 1964.825,715.2813 1964.0594,715.2813 C1962.0125,715.2813 1960.7156,714.1875 1960.7156,712.4844 L1960.7156,711.3906 C1960.7156,709.6094 1961.9656,708.2969 1963.7,708.2969 C1964.2781,708.2969 1964.8875,708.4531 1965.3563,708.7031 C1965.8406,708.9844 1966.0125,709.2031 1966.1063,709.6094 C1966.1688,710.0156 1966.2,710.1406 1966.3406,710.2656 C1966.4813,710.4063 1966.7156,710.5156 1966.9344,710.5156 C1967.2,710.5156 1967.4656,710.375 1967.6375,710.1563 C1967.7469,710 1967.7781,709.8125 1967.7781,709.3906 L1967.7781,707.9688 C1967.7781,707.5313 1967.7625,707.4063 1967.6688,707.25 C1967.5125,706.9844 1967.2313,706.8438 1966.9344,706.8438 C1966.6375,706.8438 1966.4344,706.9375 1966.2156,707.25 L1966.0438,707.1719 Z \" fill=\"#000000\"/><text fill=\"#000000\" font-family=\"sans-serif\" font-size=\"14\" lengthAdjust=\"spacing\" textLength=\"68\" x=\"1982.3\" y=\"716.3467\">Directory</text><line style=\"stroke:#181818;stroke-width:0.5;\" x1=\"1929\" x2=\"2073\" y1=\"727.5\" y2=\"727.5\"/><rect fill=\"none\" height=\"6\" style=\"stroke:#C82930;stroke-width:1.0;\" width=\"6\" x=\"1936\" y=\"738.1484\"/><text fill=\"#000000\" font-family=\"sans-serif\" font-size=\"14\" lengthAdjust=\"spacing\" text-decoration=\"underline\" textLength=\"82\" x=\"1948\" y=\"744.4951\">root: string</text><line style=\"stroke:#181818;stroke-width:0.5;\" x1=\"1929\" x2=\"2073\" y1=\"751.7969\" y2=\"751.7969\"/><ellipse cx=\"1939\" cy=\"765.4453\" fill=\"#84BE84\" rx=\"3\" ry=\"3\" style=\"stroke:#038048;stroke-width:1.0;\"/><text fill=\"#000000\" font-family=\"sans-serif\" font-size=\"14\" lengthAdjust=\"spacing\" text-decoration=\"underline\" textLength=\"114\" x=\"1948\" y=\"768.792\">set(string): void</text><ellipse cx=\"1939\" cy=\"781.7422\" fill=\"#84BE84\" rx=\"3\" ry=\"3\" style=\"stroke:#038048;stroke-width:1.0;\"/><text fill=\"#000000\" font-family=\"sans-serif\" font-size=\"14\" lengthAdjust=\"spacing\" text-decoration=\"underline\" textLength=\"96\" x=\"1948\" y=\"785.0889\">root() : string</text><ellipse cx=\"1939\" cy=\"798.0391\" fill=\"#84BE84\" rx=\"3\" ry=\"3\" style=\"stroke:#038048;stroke-width:1.0;\"/><text fill=\"#000000\" font-family=\"sans-serif\" font-size=\"14\" lengthAdjust=\"spacing\" text-decoration=\"underline\" textLength=\"120\" x=\"1948\" y=\"801.3857\">storage() : string</text><ellipse cx=\"1939\" cy=\"814.3359\" fill=\"#84BE84\" rx=\"3\" ry=\"3\" style=\"stroke:#038048;stroke-width:1.0;\"/><text fill=\"#000000\" font-family=\"sans-serif\" font-size=\"14\" lengthAdjust=\"spacing\" text-decoration=\"underline\" textLength=\"97\" x=\"1948\" y=\"817.6826\">view() : string</text><ellipse cx=\"1939\" cy=\"830.6328\" fill=\"#84BE84\" rx=\"3\" ry=\"3\" style=\"stroke:#038048;stroke-width:1.0;\"/><text fill=\"#000000\" font-family=\"sans-serif\" font-size=\"14\" lengthAdjust=\"spacing\" text-decoration=\"underline\" textLength=\"86\" x=\"1948\" y=\"833.9795\">src() : string</text></g><g id=\"elem_DirectoryNote\"><path d=\"M1837.5,914.5 L1837.5,954.7656 A0,0 0 0 0 1837.5,954.7656 L2164.5,954.7656 A0,0 0 0 0 2164.5,954.7656 L2164.5,924.5 L2154.5,914.5 L2005,914.5 L2001,841.91 L1997,914.5 L1837.5,914.5 A0,0 0 0 0 1837.5,914.5 \" fill=\"#FEFFDD\" style=\"stroke:#181818;stroke-width:0.5;\"/><path d=\"M2154.5,914.5 L2154.5,924.5 L2164.5,924.5 L2154.5,914.5 \" fill=\"#FEFFDD\" style=\"stroke:#181818;stroke-width:0.5;\"/><text fill=\"#000000\" font-family=\"sans-serif\" font-size=\"13\" lengthAdjust=\"spacing\" textLength=\"306\" x=\"1843.5\" y=\"931.5669\">Used to set path to main directory in index.php.</text><text fill=\"#000000\" font-family=\"sans-serif\" font-size=\"13\" lengthAdjust=\"spacing\" textLength=\"288\" x=\"1843.5\" y=\"946.6997\">Return path to storage/ and views/ directory.</text></g><!--class Storage--><g id=\"elem_Storage\"><rect codeLine=\"92\" fill=\"#F1F1F1\" height=\"80.5938\" id=\"Storage\" rx=\"2.5\" ry=\"2.5\" style=\"stroke:#181818;stroke-width:0.5;\" width=\"223\" x=\"1299.5\" y=\"335\"/><ellipse cx=\"1378.75\" cy=\"351\" fill=\"#B4A7E5\" rx=\"11\" ry=\"11\" style=\"stroke:#181818;stroke-width:1.0;\"/><path d=\"M1379.7031,347.7813 L1381.4219,347.7813 C1381.8125,347.7813 1382,347.75 1382.125,347.6719 C1382.3906,347.5156 1382.5313,347.2344 1382.5313,346.9375 C1382.5313,346.6719 1382.4219,346.4063 1382.1875,346.2344 C1382.0156,346.125 1381.875,346.0938 1381.4219,346.0938 L1376.2813,346.0938 C1375.8438,346.0938 1375.7188,346.1094 1375.5625,346.2031 C1375.3125,346.3594 1375.1563,346.6563 1375.1563,346.9375 C1375.1563,347.2188 1375.2969,347.4688 1375.5156,347.6406 C1375.6719,347.75 1375.8594,347.7813 1376.2813,347.7813 L1378,347.7813 L1378,354.2969 L1376.2813,354.2969 C1375.8438,354.2969 1375.7188,354.3125 1375.5625,354.4219 C1375.3125,354.5781 1375.1563,354.8594 1375.1563,355.1563 C1375.1563,355.4063 1375.2969,355.6719 1375.5156,355.8281 C1375.6719,355.9531 1375.875,356 1376.2813,356 L1381.4219,356 C1382.1719,356 1382.5313,355.7188 1382.5313,355.1563 C1382.5313,354.875 1382.4219,354.625 1382.1875,354.4531 C1382.0156,354.3281 1381.875,354.2969 1381.4219,354.2969 L1379.7031,354.2969 L1379.7031,347.7813 Z \" fill=\"#000000\"/><text fill=\"#000000\" font-family=\"sans-serif\" font-size=\"14\" font-style=\"italic\" lengthAdjust=\"spacing\" textLength=\"56\" x=\"1399.25\" y=\"355.8467\">Storage</text><line style=\"stroke:#181818;stroke-width:0.5;\" x1=\"1300.5\" x2=\"1521.5\" y1=\"367\" y2=\"367\"/><line style=\"stroke:#181818;stroke-width:0.5;\" x1=\"1300.5\" x2=\"1521.5\" y1=\"375\" y2=\"375\"/><ellipse cx=\"1310.5\" cy=\"388.6484\" fill=\"#84BE84\" rx=\"3\" ry=\"3\" style=\"stroke:#038048;stroke-width:1.0;\"/><text fill=\"#000000\" font-family=\"sans-serif\" font-size=\"14\" lengthAdjust=\"spacing\" textLength=\"197\" x=\"1319.5\" y=\"391.9951\">store(Distinguishable): void</text><ellipse cx=\"1310.5\" cy=\"404.9453\" fill=\"#84BE84\" rx=\"3\" ry=\"3\" style=\"stroke:#038048;stroke-width:1.0;\"/><text fill=\"#000000\" font-family=\"sans-serif\" font-size=\"14\" lengthAdjust=\"spacing\" textLength=\"191\" x=\"1319.5\" y=\"408.292\">loadAll() : Distinguishable[]</text></g><!--class FileStorage--><g id=\"elem_FileStorage\"><rect codeLine=\"97\" fill=\"#F1F1F1\" height=\"80.5938\" id=\"FileStorage\" rx=\"2.5\" ry=\"2.5\" style=\"stroke:#181818;stroke-width:0.5;\" width=\"223\" x=\"1384.5\" y=\"516.5\"/><ellipse cx=\"1450.75\" cy=\"532.5\" fill=\"#ADD1B2\" rx=\"11\" ry=\"11\" style=\"stroke:#181818;stroke-width:1.0;\"/><path d=\"M1453.0938,528.1719 C1452.1563,527.7344 1451.5625,527.5938 1450.6875,527.5938 C1448.0625,527.5938 1446.0625,529.6719 1446.0625,532.3906 L1446.0625,533.5156 C1446.0625,536.0938 1448.1719,537.9844 1451.0625,537.9844 C1452.2813,537.9844 1453.4375,537.6875 1454.1875,537.1406 C1454.7656,536.7344 1455.0938,536.2813 1455.0938,535.8906 C1455.0938,535.4375 1454.7031,535.0469 1454.2344,535.0469 C1454.0156,535.0469 1453.8125,535.125 1453.625,535.3125 C1453.1719,535.7969 1453.1719,535.7969 1452.9844,535.8906 C1452.5625,536.1563 1451.875,536.2813 1451.1094,536.2813 C1449.0625,536.2813 1447.7656,535.1875 1447.7656,533.4844 L1447.7656,532.3906 C1447.7656,530.6094 1449.0156,529.2969 1450.75,529.2969 C1451.3281,529.2969 1451.9375,529.4531 1452.4063,529.7031 C1452.8906,529.9844 1453.0625,530.2031 1453.1563,530.6094 C1453.2188,531.0156 1453.25,531.1406 1453.3906,531.2656 C1453.5313,531.4063 1453.7656,531.5156 1453.9844,531.5156 C1454.25,531.5156 1454.5156,531.375 1454.6875,531.1563 C1454.7969,531 1454.8281,530.8125 1454.8281,530.3906 L1454.8281,528.9688 C1454.8281,528.5313 1454.8125,528.4063 1454.7188,528.25 C1454.5625,527.9844 1454.2813,527.8438 1453.9844,527.8438 C1453.6875,527.8438 1453.4844,527.9375 1453.2656,528.25 L1453.0938,528.1719 Z \" fill=\"#000000\"/><text fill=\"#000000\" font-family=\"sans-serif\" font-size=\"14\" lengthAdjust=\"spacing\" textLength=\"82\" x=\"1471.25\" y=\"537.3467\">FileStorage</text><line style=\"stroke:#181818;stroke-width:0.5;\" x1=\"1385.5\" x2=\"1606.5\" y1=\"548.5\" y2=\"548.5\"/><line style=\"stroke:#181818;stroke-width:0.5;\" x1=\"1385.5\" x2=\"1606.5\" y1=\"556.5\" y2=\"556.5\"/><ellipse cx=\"1395.5\" cy=\"570.1484\" fill=\"#84BE84\" rx=\"3\" ry=\"3\" style=\"stroke:#038048;stroke-width:1.0;\"/><text fill=\"#000000\" font-family=\"sans-serif\" font-size=\"14\" lengthAdjust=\"spacing\" textLength=\"197\" x=\"1404.5\" y=\"573.4951\">store(Distinguishable): void</text><ellipse cx=\"1395.5\" cy=\"586.4453\" fill=\"#84BE84\" rx=\"3\" ry=\"3\" style=\"stroke:#038048;stroke-width:1.0;\"/><text fill=\"#000000\" font-family=\"sans-serif\" font-size=\"14\" lengthAdjust=\"spacing\" textLength=\"191\" x=\"1404.5\" y=\"589.792\">loadAll() : Distinguishable[]</text></g><g id=\"elem_FileStorageNote\"><path d=\"M1299,741 L1299,796.3984 L1621,796.3984 L1621,751 L1611,741 L1299,741 \" fill=\"#FEFFDD\" style=\"stroke:#181818;stroke-width:0.5;\"/><path d=\"M1611,741 L1611,751 L1621,751 L1611,741 \" fill=\"#FEFFDD\" style=\"stroke:#181818;stroke-width:1.0;\"/><text fill=\"#000000\" font-family=\"sans-serif\" font-size=\"13\" lengthAdjust=\"spacing\" textLength=\"292\" x=\"1305\" y=\"758.0669\">Stores serialized objects in storage/ directory.</text><text fill=\"#000000\" font-family=\"sans-serif\" font-size=\"13\" lengthAdjust=\"spacing\" textLength=\"301\" x=\"1305\" y=\"773.1997\">Example file storage/widget_button_2 contains</text><text fill=\"#000000\" font-family=\"sans-serif\" font-size=\"13\" lengthAdjust=\"spacing\" textLength=\"261\" x=\"1305\" y=\"788.3325\">serialized object of type Button with id 2.</text></g><!--entity php--><g id=\"elem_php\"><rect fill=\"#F1F1F1\" height=\"36.2969\" rx=\"2.5\" ry=\"2.5\" style=\"stroke:#181818;stroke-width:0.5;\" width=\"49\" x=\"1925.5\" y=\"41\"/><text fill=\"#000000\" font-family=\"sans-serif\" font-size=\"14\" lengthAdjust=\"spacing\" textLength=\"29\" x=\"1935.5\" y=\"63.9951\">php</text></g><!--class App--><g id=\"elem_App\"><rect codeLine=\"1\" fill=\"#F1F1F1\" height=\"80.5938\" id=\"App\" rx=\"2.5\" ry=\"2.5\" style=\"stroke:#181818;stroke-width:0.5;\" width=\"232\" x=\"1477\" y=\"156\"/><ellipse cx=\"1573.75\" cy=\"172\" fill=\"#ADD1B2\" rx=\"11\" ry=\"11\" style=\"stroke:#181818;stroke-width:1.0;\"/><path d=\"M1576.0938,167.6719 C1575.1563,167.2344 1574.5625,167.0938 1573.6875,167.0938 C1571.0625,167.0938 1569.0625,169.1719 1569.0625,171.8906 L1569.0625,173.0156 C1569.0625,175.5938 1571.1719,177.4844 1574.0625,177.4844 C1575.2813,177.4844 1576.4375,177.1875 1577.1875,176.6406 C1577.7656,176.2344 1578.0938,175.7813 1578.0938,175.3906 C1578.0938,174.9375 1577.7031,174.5469 1577.2344,174.5469 C1577.0156,174.5469 1576.8125,174.625 1576.625,174.8125 C1576.1719,175.2969 1576.1719,175.2969 1575.9844,175.3906 C1575.5625,175.6563 1574.875,175.7813 1574.1094,175.7813 C1572.0625,175.7813 1570.7656,174.6875 1570.7656,172.9844 L1570.7656,171.8906 C1570.7656,170.1094 1572.0156,168.7969 1573.75,168.7969 C1574.3281,168.7969 1574.9375,168.9531 1575.4063,169.2031 C1575.8906,169.4844 1576.0625,169.7031 1576.1563,170.1094 C1576.2188,170.5156 1576.25,170.6406 1576.3906,170.7656 C1576.5313,170.9063 1576.7656,171.0156 1576.9844,171.0156 C1577.25,171.0156 1577.5156,170.875 1577.6875,170.6563 C1577.7969,170.5 1577.8281,170.3125 1577.8281,169.8906 L1577.8281,168.4688 C1577.8281,168.0313 1577.8125,167.9063 1577.7188,167.75 C1577.5625,167.4844 1577.2813,167.3438 1576.9844,167.3438 C1576.6875,167.3438 1576.4844,167.4375 1576.2656,167.75 L1576.0938,167.6719 Z \" fill=\"#000000\"/><text fill=\"#000000\" font-family=\"sans-serif\" font-size=\"14\" lengthAdjust=\"spacing\" textLength=\"30\" x=\"1594.25\" y=\"176.8467\">App</text><line style=\"stroke:#181818;stroke-width:0.5;\" x1=\"1478\" x2=\"1708\" y1=\"188\" y2=\"188\"/><line style=\"stroke:#181818;stroke-width:0.5;\" x1=\"1478\" x2=\"1708\" y1=\"196\" y2=\"196\"/><ellipse cx=\"1488\" cy=\"209.6484\" fill=\"#84BE84\" rx=\"3\" ry=\"3\" style=\"stroke:#038048;stroke-width:1.0;\"/><text fill=\"#000000\" font-family=\"sans-serif\" font-size=\"14\" lengthAdjust=\"spacing\" textLength=\"72\" x=\"1497\" y=\"212.9951\">run(): void</text><rect fill=\"#F24D5C\" height=\"6\" style=\"stroke:#C82930;stroke-width:1.0;\" width=\"6\" x=\"1485\" y=\"222.9453\"/><text fill=\"#000000\" font-family=\"sans-serif\" font-size=\"14\" lengthAdjust=\"spacing\" textLength=\"206\" x=\"1497\" y=\"229.292\">render(Widget\\Widget): void</text></g><g id=\"elem_AppNote\"><path d=\"M1749,332.5 L1749,418.1641 L2023,418.1641 L2023,342.5 L2013,332.5 L1749,332.5 \" fill=\"#FEFFDD\" style=\"stroke:#181818;stroke-width:0.5;\"/><path d=\"M2013,332.5 L2013,342.5 L2023,342.5 L2013,332.5 \" fill=\"#FEFFDD\" style=\"stroke:#181818;stroke-width:1.0;\"/><text fill=\"#000000\" font-family=\"sans-serif\" font-size=\"13\" lengthAdjust=\"spacing\" textLength=\"166\" x=\"1755\" y=\"349.5669\">1. Creates storage object.</text><text fill=\"#000000\" font-family=\"sans-serif\" font-size=\"13\" lengthAdjust=\"spacing\" textLength=\"175\" x=\"1755\" y=\"364.6997\">2. Creates several widgets.</text><text fill=\"#000000\" font-family=\"sans-serif\" font-size=\"13\" lengthAdjust=\"spacing\" textLength=\"196\" x=\"1755\" y=\"379.8325\">3. Stores widgets into storage.</text><text fill=\"#000000\" font-family=\"sans-serif\" font-size=\"13\" lengthAdjust=\"spacing\" textLength=\"200\" x=\"1755\" y=\"394.9653\">4. Loads widgets from storage.</text><text fill=\"#000000\" font-family=\"sans-serif\" font-size=\"13\" lengthAdjust=\"spacing\" textLength=\"253\" x=\"1755\" y=\"410.0981\">5. Draws widgets using render method.</text></g><!--link App to AppNote--><g id=\"link_App_AppNote\"><path codeLine=\"14\" d=\"M1668.98,237.033 C1686.56,246.561 1705.06,256.911 1722,267 C1756.51,287.557 1794.05,312.003 1824.5,332.385 \" fill=\"none\" id=\"App-AppNote\" style=\"stroke:#181818;stroke-width:1.0;stroke-dasharray:7.0,7.0;\"/></g><!--reverse link Widget to Link--><g id=\"link_Widget_Link\"><path codeLine=\"44\" d=\"M803.046,814.187 C771.17,842.142 730.909,877.451 702.481,902.383 \" fill=\"none\" id=\"Widget-backto-Link\" style=\"stroke:#181818;stroke-width:1.0;\"/><polygon fill=\"none\" points=\"798.734,808.658,818.387,800.733,807.965,819.183,798.734,808.658\" style=\"stroke:#181818;stroke-width:1.0;\"/></g><!--reverse link Widget to Button--><g id=\"link_Widget_Button\"><path codeLine=\"45\" d=\"M905.499,814.187 C937.716,842.142 978.407,877.451 1007.14,902.383 \" fill=\"none\" id=\"Widget-backto-Button\" style=\"stroke:#181818;stroke-width:1.0;\"/><polygon fill=\"none\" points=\"900.512,819.128,889.994,800.733,909.688,808.554,900.512,819.128\" style=\"stroke:#181818;stroke-width:1.0;\"/></g><!--link App to Widget--><g id=\"link_App_Widget\"><path codeLine=\"48\" d=\"M1476.66,218.167 C1415.82,232.523 1341.95,255.754 1283,292 C1089.26,411.113 931.241,643.449 875.545,732.031 \" fill=\"none\" id=\"App-to-Widget\" style=\"stroke:#181818;stroke-width:1.0;stroke-dasharray:7.0,7.0;\"/><polygon fill=\"#181818\" points=\"872.812,736.393,880.9797,730.8894,875.4664,732.1557,874.2,726.6424,872.812,736.393\" style=\"stroke:#181818;stroke-width:1.0;\"/><text fill=\"#000000\" font-family=\"sans-serif\" font-size=\"13\" lengthAdjust=\"spacing\" textLength=\"39\" x=\"1094\" y=\"461.5669\">draws</text></g><!--link App to Button--><g id=\"link_App_Button\"><path codeLine=\"49\" d=\"M1632.53,237.331 C1661.57,270.944 1696,321.881 1696,374.5 C1696,374.5 1696,374.5 1696,769.5 C1696,810.872 1672.92,820.98 1637,841.5 C1546.42,893.242 1235.03,920.278 1102.97,929.639 \" fill=\"none\" id=\"App-to-Button\" style=\"stroke:#181818;stroke-width:1.0;stroke-dasharray:7.0,7.0;\"/><polygon fill=\"#181818\" points=\"1097.96,929.992,1107.2132,933.3653,1102.9482,929.6491,1106.6645,925.3841,1097.96,929.992\" style=\"stroke:#181818;stroke-width:1.0;\"/><text fill=\"#000000\" font-family=\"sans-serif\" font-size=\"13\" lengthAdjust=\"spacing\" textLength=\"48\" x=\"1697\" y=\"561.5669\">creates</text></g><!--link App to Link--><g id=\"link_App_Link\"><path codeLine=\"50\" d=\"M1476.95,198.273 C1111.1,202.232 6,226.442 6,374.5 C6,374.5 6,374.5 6,769.5 C6,892.753 444.405,924.024 607.142,931.386 \" fill=\"none\" id=\"App-to-Link\" style=\"stroke:#181818;stroke-width:1.0;stroke-dasharray:7.0,7.0;\"/><polygon fill=\"#181818\" points=\"612.345,931.618,603.5322,927.2209,607.35,931.3952,603.1757,935.2129,612.345,931.618\" style=\"stroke:#181818;stroke-width:1.0;\"/><text fill=\"#000000\" font-family=\"sans-serif\" font-size=\"13\" lengthAdjust=\"spacing\" textLength=\"48\" x=\"7\" y=\"561.5669\">creates</text></g><!--reverse link Distinguishable to Widget--><g id=\"link_Distinguishable_Widget\"><path codeLine=\"69\" d=\"M487.963,598.962 C580.415,641.531 722.158,706.795 799.325,742.326 \" fill=\"none\" id=\"Distinguishable-backto-Widget\" style=\"stroke:#181818;stroke-width:1.0;\"/><polygon fill=\"none\" points=\"484.834,605.228,469.595,590.505,490.689,592.511,484.834,605.228\" style=\"stroke:#181818;stroke-width:1.0;\"/></g><!--link FileStorage to FileStorageNote--><g id=\"link_FileStorage_FileStorageNote\"><path codeLine=\"108\" d=\"M1484.76,597.864 C1482.29,607.512 1479.87,617.832 1478,627.5 C1470.45,666.6 1465.24,712.471 1462.43,740.763 \" fill=\"none\" id=\"FileStorage-FileStorageNote\" style=\"stroke:#181818;stroke-width:1.0;stroke-dasharray:7.0,7.0;\"/></g><!--reverse link Storage to FileStorage--><g id=\"link_Storage_FileStorage\"><path codeLine=\"110\" d=\"M1438.44,434.446 C1451.1,461.182 1465.81,492.244 1477.19,516.274 \" fill=\"none\" id=\"Storage-backto-FileStorage\" style=\"stroke:#181818;stroke-width:1.0;\"/><polygon fill=\"none\" points=\"1432.1,437.409,1429.86,416.337,1444.75,431.417,1432.1,437.409\" style=\"stroke:#181818;stroke-width:1.0;\"/></g><!--link Storage to Distinguishable--><g id=\"link_Storage_Distinguishable\"><path codeLine=\"113\" d=\"M1324.62,416.107 C1282.44,433.877 1230.44,453.498 1182,465.5 C927.916,528.453 616.362,547.856 475.092,553.643 \" fill=\"none\" id=\"Storage-to-Distinguishable\" style=\"stroke:#181818;stroke-width:1.0;stroke-dasharray:7.0,7.0;\"/><polygon fill=\"#181818\" points=\"469.727,553.86,478.8819,557.4916,474.7229,553.6571,478.5573,549.4981,469.727,553.86\" style=\"stroke:#181818;stroke-width:1.0;\"/><text fill=\"#000000\" font-family=\"sans-serif\" font-size=\"13\" lengthAdjust=\"spacing\" textLength=\"78\" x=\"1235\" y=\"461.5669\">stores/loads</text></g><!--link FileStorage to Directory--><g id=\"link_FileStorage_Directory\"><path codeLine=\"114\" d=\"M1591.28,597.528 C1687.32,637.369 1833.75,698.116 1923.08,735.174 \" fill=\"none\" id=\"FileStorage-to-Directory\" style=\"stroke:#181818;stroke-width:1.0;stroke-dasharray:7.0,7.0;\"/><polygon fill=\"#181818\" points=\"1927.82,737.141,1921.0374,729.9998,1923.201,735.2265,1917.9743,737.3902,1927.82,737.141\" style=\"stroke:#181818;stroke-width:1.0;\"/><text fill=\"#000000\" font-family=\"sans-serif\" font-size=\"13\" lengthAdjust=\"spacing\" textLength=\"30\" x=\"1705\" y=\"640.5669\">uses</text></g><!--link App to FileStorage--><g id=\"link_App_FileStorage\"><path codeLine=\"116\" d=\"M1584.4,237.251 C1574.58,281.67 1557.58,355.611 1540,418.5 C1531.27,449.746 1520.12,484.548 1511.22,511.322 \" fill=\"none\" id=\"App-to-FileStorage\" style=\"stroke:#181818;stroke-width:1.0;stroke-dasharray:7.0,7.0;\"/><polygon fill=\"#181818\" points=\"1509.59,516.225,1516.2295,508.9506,1511.1703,511.4813,1508.6395,506.4221,1509.59,516.225\" style=\"stroke:#181818;stroke-width:1.0;\"/><text fill=\"#000000\" font-family=\"sans-serif\" font-size=\"13\" lengthAdjust=\"spacing\" textLength=\"48\" x=\"1573\" y=\"380.0669\">creates</text></g><!--link App to Storage--><g id=\"link_App_Storage\"><path codeLine=\"117\" d=\"M1552.16,237.222 C1523.47,265.12 1485.11,302.422 1455.62,331.101 \" fill=\"none\" id=\"App-to-Storage\" style=\"stroke:#181818;stroke-width:1.0;stroke-dasharray:7.0,7.0;\"/><polygon fill=\"#181818\" points=\"1451.71,334.91,1460.9508,331.503,1455.2945,331.4241,1455.3733,325.7678,1451.71,334.91\" style=\"stroke:#181818;stroke-width:1.0;\"/><text fill=\"#000000\" font-family=\"sans-serif\" font-size=\"13\" lengthAdjust=\"spacing\" textLength=\"30\" x=\"1520\" y=\"280.0669\">uses</text></g><!--link php to App--><g id=\"link_php_App\"><path codeLine=\"122\" d=\"M1925.46,69.31 C1880.14,86.51 1780.79,124.224 1702.43,153.965 \" fill=\"none\" id=\"php-to-App\" style=\"stroke:#181818;stroke-width:1.0;stroke-dasharray:7.0,7.0;\"/><polygon fill=\"#181818\" points=\"1697.3,155.912,1707.1334,156.463,1701.9755,154.1401,1704.2984,148.9822,1697.3,155.912\" style=\"stroke:#181818;stroke-width:1.0;\"/><text fill=\"#000000\" font-family=\"sans-serif\" font-size=\"13\" lengthAdjust=\"spacing\" textLength=\"48\" x=\"1815\" y=\"122.0669\">creates</text></g><!--link php to Directory--><g id=\"link_php_Directory\"><path codeLine=\"123\" d=\"M1974.58,69.85 C2015.47,88.04 2093,131.03 2093,195.5 C2093,195.5 2093,195.5 2093,558 C2093,604.57 2073.71,652.422 2052.79,690.616 \" fill=\"none\" id=\"php-to-Directory\" style=\"stroke:#181818;stroke-width:1.0;stroke-dasharray:7.0,7.0;\"/><polygon fill=\"#181818\" points=\"2050.23,695.225,2058.0945,689.2962,2052.656,690.853,2051.0993,685.4146,2050.23,695.225\" style=\"stroke:#181818;stroke-width:1.0;\"/><text fill=\"#000000\" font-family=\"sans-serif\" font-size=\"13\" lengthAdjust=\"spacing\" textLength=\"67\" x=\"2094\" y=\"380.0669\">configures</text></g><!--SRC=[lLLDRnCn4BtlhnZbbAfaenQuhD98fGLnA0ZH8Ww0AcVNIKmswyNsfWqb_vqPs_lbf6gvi9V4dW_FUs_6JdEcDPoN9Jn4WDyngAeO7YMmaIApEoDGlCYu6duLsOARx-wdzjX5KI4D1sQJVCI_qKaC5uepmpLe8nLRS92pdpmrSNJQCV4DLoo7EvjEnz7B6AxH7Kr-2qHXP9qYZbx5S2LPrfhdIgvRy-iOBXMxQysL5iN2rmvhRfOoYoDS0TKRHGGvZfkYeuAjkIvPoi41H3uiV3RJHh7KG6gPQepWlsF8yDWUOpiNwGAkHB5wbdjD8mNOacZpaq8IDEIKvFtDXokFYgTB2QbShrc1eCZnxJrRbpbFOC9WgVZyR32OEYPkAVZsP39cK-lPKa0hMnxoq9pQAVrDPOmi_gbu5nAMFtE9dWb056Lbm6nBVZPmaGFOiBp2fKVaTczF1uSG-QeHKwSOQ_7QJVwCHXRltgOBe9vstJ7rrjWx9HQ_3gt-n0HIrzkXtNBSMZkjTY6Bb9UFzTgbq0R9geHUibdEEqACG6G9pKT7cXNV3e_m64o1GOV42V8rAjKZMHNYLyKf4Sob0XhGRJEwv7Z3LkWcCZmPnIlmf2h5-GCKaSISYOBC1aVGBAs0G503VNjT-G82IQtl5stl3cP4cYIE2xm9I06RLCu1Prfig96iDJxG1Y5vs0-7y2D5NeGuZB0jqMk0GBgvMDJArO8fJeHiUr8zE2GxK5AQdZvEkCQkkHawQtV20YTA4keSvd5tuXDU6y7ldagaqYTRoYDkcWcroqWj10CbepwGi6ROC5b33Yu4tihtSRaidNIVkQbKqVXx06FRM5Id7hVXXyMkSrkPkpNjkg9T-_V8guO3nDMyRsXfe2huCEYAVMLoV9JEyzmI5JX_-x7_7hmJEVyVfzKATSvhDFBlhCOXOhduZOAvAQSdjoK_ODmFCCmnOUCKJ2_T2WR5rZPYBpzDhfrWVsFQUmAlazD3cdQ9GbL370qGijjHxNYGwlvltEQOmcEZdZZwzPZerKreluIfd_cuxRO4dpEwqUiB_r3W_hCGLbPdmHPTqReP3fXCFkD9h5ZaV3h5Ta5OhP5IKShsWBxjGBMftQeGwLy0]--></g></svg>"
      ],
      "text/plain": [
       "<IPython.core.display.SVG object>"
      ]
     },
     "execution_count": 2,
     "metadata": {},
     "output_type": "execute_result"
    }
   ],
   "source": [
    "%%plantuml\n",
    "\n",
    "@startuml\n",
    "\n",
    "class App {\n",
    "    + run(): void\n",
    "    - render(Widget\\Widget): void\n",
    "}\n",
    "\n",
    "note as AppNote\n",
    "1. Creates storage object.\n",
    "2. Creates several widgets.\n",
    "3. Stores widgets into storage.\n",
    "4. Loads widgets from storage.\n",
    "5. Draws widgets using render method.\n",
    "end note\n",
    "\n",
    "App .. AppNote\n",
    "\n",
    "namespace Widget {\n",
    "\n",
    "    abstract class Widget {\n",
    "        + draw(): void\n",
    "    }\n",
    "\n",
    "    class Link {\n",
    "        + draw(): void\n",
    "    }\n",
    "\n",
    "    note as LinkNote\n",
    "    Prints link HTML using echo command.\n",
    "    Example: <a href=\"\">widget_link_1</a>\n",
    "    end note\n",
    "\n",
    "    Link .. LinkNote\n",
    "\n",
    "    class Button {\n",
    "        + draw(): void\n",
    "    }\n",
    "\n",
    "    note as ButtonNote\n",
    "    Prints button HTML using echo command.\n",
    "    Example: <input type=\"button\" value=\"widget_button_2\">\n",
    "    end note\n",
    "\n",
    "    Button .. ButtonNote\n",
    "\n",
    "    Widget <|-- Link\n",
    "    Widget <|-- Button\n",
    "}\n",
    "\n",
    "App ..> Widget.Widget : draws\n",
    "App ..> Widget.Button : creates\n",
    "App ..> Widget.Link : creates\n",
    "\n",
    "namespace Concept {\n",
    "\n",
    "    abstract class Distinguishable {\n",
    "        - id: int\n",
    "        + key() : string\n",
    "    }\n",
    "\n",
    "    note as DistinguishableNote\n",
    "    Creates unique key for every object.\n",
    "    Takes id in constructor and combines it with type name.\n",
    "    Example: widget_link_1, widget_button_2\n",
    "    Uses static::class to get type of deriving class.\n",
    "    end note\n",
    "\n",
    "    Distinguishable .. DistinguishableNote\n",
    "}\n",
    "\n",
    "Concept.Distinguishable <|-- Widget.Widget\n",
    "\n",
    "namespace Config {\n",
    "\n",
    "    class Directory {\n",
    "        - {static} root: string\n",
    "        + {static} set(string): void\n",
    "        + {static} root() : string\n",
    "        + {static} storage() : string\n",
    "        + {static} view() : string\n",
    "        + {static} src() : string\n",
    "    }\n",
    "\n",
    "    note as DirectoryNote\n",
    "    Used to set path to main directory in index.php.\n",
    "    Return path to storage/ and views/ directory.\n",
    "    end note\n",
    "\n",
    "    Directory .. DirectoryNote\n",
    "}\n",
    "\n",
    "namespace Storage {\n",
    "\n",
    "    interface Storage {\n",
    "        + store(Distinguishable): void\n",
    "        + loadAll() : Distinguishable[]\n",
    "    }\n",
    "\n",
    "    class FileStorage {\n",
    "        + store(Distinguishable): void\n",
    "        + loadAll() : Distinguishable[]\n",
    "    }\n",
    "\n",
    "    note as FileStorageNote\n",
    "    Stores serialized objects in storage/ directory.\n",
    "    Example file storage/widget_button_2 contains\n",
    "    serialized object of type Button with id 2.\n",
    "    end note\n",
    "\n",
    "    FileStorage .. FileStorageNote\n",
    "\n",
    "    Storage <|-- FileStorage\n",
    "}\n",
    "\n",
    "Storage.Storage ..> Concept.Distinguishable : stores/loads\n",
    "Storage.FileStorage ..> Config.Directory : uses\n",
    "\n",
    "App ..> Storage.FileStorage : creates\n",
    "App ..> Storage.Storage : uses\n",
    "\n",
    "package index.php <<Rectangle>> {\n",
    "}\n",
    "\n",
    "index.php ..> App : creates\n",
    "index.php ..> Config.Directory : configures\n",
    "\n",
    "@enduml"
   ]
  },
  {
   "cell_type": "code",
   "execution_count": null,
   "metadata": {},
   "outputs": [
    {
     "name": "stdout",
     "output_type": "stream",
     "text": [
      "Info  | RdCoroutineScope          | 42:JobScheduler FJ pool 3/3 | RdCoroutineHost overridden \n",
      "2023-03-23 19:09:31,632 [  14875]   WARN - #c.i.o.a.i.ActionUpdater - 1288 ms to grab EDT for BackAction#update@MainToolbar (com.intellij.ide.actions.BackAction)\n",
      "2023-03-23 19:09:32,047 [  15290]   WARN - #c.i.o.v.ExternallyAddedFilesProcessorImpl - Cannot find project config directory for non-default and non-directory based project project\n",
      "2023-03-23 19:09:34,863 [  18106]   WARN - #c.i.o.v.ExternallyAddedFilesProcessorImpl - Cannot find project config directory for non-default and non-directory based project project\n",
      "2023-03-23 19:38:38,243 [1761486]   WARN - #c.i.u.x.Binding - no accessors for org.jetbrains.idea.perforce.perforce.ConnectionId\n",
      "2023-03-23 19:40:54,090 [1897333]   WARN - #c.i.o.a.e.ActionUtil - Can not find action by id CompileDirty\n"
     ]
    }
   ],
   "source": [
    "! phpstorm project"
   ]
  },
  {
   "cell_type": "markdown",
   "metadata": {},
   "source": [
    "You can test your solution using included tests:"
   ]
  },
  {
   "cell_type": "code",
   "execution_count": null,
   "metadata": {},
   "outputs": [],
   "source": [
    "! composer global require phpstan/phpstan"
   ]
  },
  {
   "cell_type": "code",
   "execution_count": null,
   "metadata": {},
   "outputs": [],
   "source": [
    "! ~/.composer/vendor/bin/phpstan analyze --level max project"
   ]
  },
  {
   "cell_type": "code",
   "execution_count": null,
   "metadata": {},
   "outputs": [],
   "source": [
    "import subprocess\n",
    "phpServer = subprocess.Popen(['php', '-S', 'localhost:8888', '-t', 'project/public'])"
   ]
  },
  {
   "cell_type": "code",
   "execution_count": null,
   "metadata": {},
   "outputs": [],
   "source": [
    "! cd tests && composer install && vendor/bin/codecept run"
   ]
  },
  {
   "cell_type": "code",
   "execution_count": null,
   "metadata": {},
   "outputs": [],
   "source": [
    "phpServer.kill()"
   ]
  }
 ],
 "metadata": {
  "kernelspec": {
   "display_name": "Python 3 (ipykernel)",
   "language": "python",
   "name": "python3"
  },
  "language_info": {
   "codemirror_mode": {
    "name": "ipython",
    "version": 3
   },
   "file_extension": ".py",
   "mimetype": "text/x-python",
   "name": "python",
   "nbconvert_exporter": "python",
   "pygments_lexer": "ipython3",
   "version": "3.10.4"
  }
 },
 "nbformat": 4,
 "nbformat_minor": 4
}
