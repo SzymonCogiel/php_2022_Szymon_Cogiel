{
 "cells": [
  {
   "cell_type": "markdown",
   "metadata": {},
   "source": [
    "# PHP 2022"
   ]
  },
  {
   "cell_type": "markdown",
   "metadata": {},
   "source": [
    "## 2. Superglobals"
   ]
  },
  {
   "cell_type": "markdown",
   "metadata": {},
   "source": [
    "### 2.2 Chessboard"
   ]
  },
  {
   "cell_type": "markdown",
   "metadata": {},
   "source": [
    "Requirements:\n",
    "\n",
    "- The colour of the array is sored in a cookie\n",
    "- The default colour is grey, but it can be changed to red, green and blue\n",
    "- The size of the chessboard is stored in the session and can be configured using the post method\n",
    "- The array is constructed from links that can be clicked\n",
    "- After clicking two points, a white line is drawn between the points\n",
    "- Multiple lines can be added\n",
    "\n",
    "When in doubt, run the acceptance tests :)"
   ]
  },
  {
   "cell_type": "markdown",
   "metadata": {},
   "source": [
    "To start editing run:"
   ]
  },
  {
   "cell_type": "code",
   "execution_count": null,
   "metadata": {},
   "outputs": [
    {
     "name": "stdout",
     "output_type": "stream",
     "text": [
      "Info  | RdCoroutineScope          | 13:JobScheduler FJ pool 1/3 | RdCoroutineHost overridden \n",
      "2023-03-12 13:07:53,780 [   6604] SEVERE - #c.i.i.p.PluginManager - Not implemented in com.intellij.openapi.ui.impl.GlassPaneDialogWrapperPeer\n",
      "java.lang.UnsupportedOperationException: Not implemented in com.intellij.openapi.ui.impl.GlassPaneDialogWrapperPeer\n",
      "\tat com.intellij.openapi.ui.impl.GlassPaneDialogWrapperPeer.getOwner(GlassPaneDialogWrapperPeer.java:163)\n",
      "\tat com.intellij.openapi.ui.DialogWrapper.getOwner(DialogWrapper.java:1222)\n",
      "\tat com.intellij.openapi.progress.util.ProgressWindow.isPartOf(ProgressWindow.java:385)\n",
      "\tat com.intellij.openapi.application.impl.LaterInvocator.isInModalContext(LaterInvocator.java:301)\n",
      "\tat com.intellij.openapi.wm.impl.ProjectFrameHelper$2.windowClosing(ProjectFrameHelper.java:227)\n",
      "\tat java.desktop/java.awt.AWTEventMulticaster.windowClosing(AWTEventMulticaster.java:357)\n",
      "\tat java.desktop/java.awt.AWTEventMulticaster.windowClosing(AWTEventMulticaster.java:357)\n",
      "\tat java.desktop/java.awt.Window.processWindowEvent(Window.java:2107)\n",
      "\tat java.desktop/javax.swing.JFrame.processWindowEvent(JFrame.java:298)\n",
      "\tat java.desktop/java.awt.Window.processEvent(Window.java:2066)\n",
      "\tat java.desktop/java.awt.Component.dispatchEventImpl(Component.java:5022)\n",
      "\tat java.desktop/java.awt.Container.dispatchEventImpl(Container.java:2324)\n",
      "\tat java.desktop/java.awt.Window.dispatchEventImpl(Window.java:2802)\n",
      "\tat java.desktop/java.awt.Component.dispatchEvent(Component.java:4854)\n",
      "\tat java.desktop/java.awt.EventQueue.dispatchEventImpl(EventQueue.java:781)\n",
      "\tat java.desktop/java.awt.EventQueue$4.run(EventQueue.java:730)\n",
      "\tat java.desktop/java.awt.EventQueue$4.run(EventQueue.java:724)\n",
      "\tat java.base/java.security.AccessController.doPrivileged(AccessController.java:399)\n",
      "\tat java.base/java.security.ProtectionDomain$JavaSecurityAccessImpl.doIntersectionPrivilege(ProtectionDomain.java:86)\n",
      "\tat java.base/java.security.ProtectionDomain$JavaSecurityAccessImpl.doIntersectionPrivilege(ProtectionDomain.java:97)\n",
      "\tat java.desktop/java.awt.EventQueue$5.run(EventQueue.java:754)\n",
      "\tat java.desktop/java.awt.EventQueue$5.run(EventQueue.java:752)\n",
      "\tat java.base/java.security.AccessController.doPrivileged(AccessController.java:399)\n",
      "\tat java.base/java.security.ProtectionDomain$JavaSecurityAccessImpl.doIntersectionPrivilege(ProtectionDomain.java:86)\n",
      "\tat java.desktop/java.awt.EventQueue.dispatchEvent(EventQueue.java:751)\n",
      "\tat com.intellij.ide.IdeEventQueue.defaultDispatchEvent(IdeEventQueue.java:918)\n",
      "\tat com.intellij.ide.IdeEventQueue._dispatchEvent(IdeEventQueue.java:766)\n",
      "\tat com.intellij.ide.IdeEventQueue.lambda$dispatchEvent$6(IdeEventQueue.java:450)\n",
      "\tat com.intellij.openapi.progress.impl.CoreProgressManager.computePrioritized(CoreProgressManager.java:791)\n",
      "\tat com.intellij.ide.IdeEventQueue.lambda$dispatchEvent$7(IdeEventQueue.java:449)\n",
      "\tat com.intellij.openapi.application.TransactionGuardImpl.performActivity(TransactionGuardImpl.java:113)\n",
      "\tat com.intellij.ide.IdeEventQueue.performActivity(IdeEventQueue.java:624)\n",
      "\tat com.intellij.ide.IdeEventQueue.lambda$dispatchEvent$8(IdeEventQueue.java:447)\n",
      "\tat com.intellij.openapi.application.impl.ApplicationImpl.runIntendedWriteActionOnCurrentThread(ApplicationImpl.java:881)\n",
      "\tat com.intellij.ide.IdeEventQueue.dispatchEvent(IdeEventQueue.java:493)\n",
      "\tat java.desktop/java.awt.EventDispatchThread.pumpOneEventForFilters(EventDispatchThread.java:207)\n",
      "\tat java.desktop/java.awt.EventDispatchThread.pumpEventsForFilter(EventDispatchThread.java:128)\n",
      "\tat java.desktop/java.awt.EventDispatchThread.pumpEventsForHierarchy(EventDispatchThread.java:117)\n",
      "\tat java.desktop/java.awt.EventDispatchThread.pumpEvents(EventDispatchThread.java:113)\n",
      "\tat java.desktop/java.awt.EventDispatchThread.pumpEvents(EventDispatchThread.java:105)\n",
      "\tat java.desktop/java.awt.EventDispatchThread.run(EventDispatchThread.java:92)\n",
      "2023-03-12 13:07:53,784 [   6608] SEVERE - #c.i.i.p.PluginManager - PhpStorm 2022.2.1  Build #PS-222.3739.61\n",
      "2023-03-12 13:07:53,784 [   6608] SEVERE - #c.i.i.p.PluginManager - JDK: 17.0.3; VM: OpenJDK 64-Bit Server VM; Vendor: JetBrains s.r.o.\n",
      "2023-03-12 13:07:53,784 [   6608] SEVERE - #c.i.i.p.PluginManager - OS: Linux\n",
      "2023-03-12 13:07:54,938 [   7762]   WARN - #c.i.o.a.e.ActionUtil - Can not find action by id CompileDirty\n"
     ]
    }
   ],
   "source": [
    "! phpstorm project"
   ]
  },
  {
   "cell_type": "markdown",
   "metadata": {},
   "source": [
    "Working application:\n",
    "\n",
    "![01_initial](images/01_initial.jpg)\n",
    "![02_click](images/02_click.jpg)\n",
    "![03_clicked](images/03_clicked.jpg)\n",
    "![04_click](images/04_click.jpg)\n",
    "![05_clicked](images/05_clicked.jpg)\n",
    "![06_change](images/06_change.jpg)\n",
    "![07_changed](images/07_changed.jpg)\n",
    "![08_color_change](images/08_color_change.jpg)\n",
    "![09_color_changed](images/09_color_changed.jpg)"
   ]
  },
  {
   "cell_type": "markdown",
   "metadata": {},
   "source": [
    "You can test your solution using included tests:"
   ]
  },
  {
   "cell_type": "code",
   "execution_count": 2,
   "metadata": {},
   "outputs": [
    {
     "name": "stderr",
     "output_type": "stream",
     "text": [
      "[Sun Mar 12 13:02:22 2023] PHP 8.1.9 Development Server (http://localhost:8888) started\n"
     ]
    }
   ],
   "source": [
    "import subprocess\n",
    "phpServer = subprocess.Popen(['php', '-S', 'localhost:8888', '-t', 'project/'])"
   ]
  },
  {
   "cell_type": "code",
   "execution_count": 3,
   "metadata": {},
   "outputs": [
    {
     "name": "stdout",
     "output_type": "stream",
     "text": [
      "\u001b[32mInstalling dependencies from lock file (including require-dev)\u001b[39m\n",
      "\u001b[32mVerifying lock file contents can be installed on current platform.\u001b[39m\n",
      "Nothing to install, update or remove\n",
      "\u001b[30;43mPackage sebastian/resource-operations is abandoned, you should avoid using it. No replacement was suggested.\u001b[39;49m\n",
      "\u001b[32mGenerating autoload files\u001b[39m\n",
      "\u001b[32m44 packages you are using are looking for funding.\u001b[39m\n",
      "\u001b[32mUse the `composer fund` command to find out more!\u001b[39m\n",
      "Codeception PHP Testing Framework v4.1.22\n",
      "Powered by PHPUnit 9.5.9 by Sebastian Bergmann and contributors.\n",
      "\n",
      "\u001b[1mAcceptance Tests (3) \u001b[22m-----------------------------------------------------------\n",
      "- \u001b[35;1mColorsCept:\u001b[39;22m "
     ]
    },
    {
     "name": "stderr",
     "output_type": "stream",
     "text": [
      "[Sun Mar 12 13:02:24 2023] [::1]:46378 Accepted\n",
      "[Sun Mar 12 13:02:24 2023] [::1]:46378 [200]: GET /\n",
      "[Sun Mar 12 13:02:24 2023] [::1]:46378 Closing\n",
      "[Sun Mar 12 13:02:24 2023] [::1]:46390 Accepted\n",
      "[Sun Mar 12 13:02:24 2023] [::1]:46390 [200]: POST /\n",
      "[Sun Mar 12 13:02:24 2023] [::1]:46390 Closing\n",
      "[Sun Mar 12 13:02:24 2023] [::1]:46400 Accepted\n",
      "[Sun Mar 12 13:02:24 2023] [::1]:46400 [200]: POST /\n",
      "[Sun Mar 12 13:02:24 2023] [::1]:46400 Closing\n",
      "[Sun Mar 12 13:02:24 2023] [::1]:46414 Accepted\n",
      "[Sun Mar 12 13:02:24 2023] [::1]:46414 [200]: POST /\n",
      "[Sun Mar 12 13:02:24 2023] [::1]:46414 Closing\n",
      "[Sun Mar 12 13:02:25 2023] [::1]:46422 Accepted\n",
      "[Sun Mar 12 13:02:25 2023] [::1]:46422 [200]: GET /\n",
      "[Sun Mar 12 13:02:25 2023] [::1]:46422 Closing\n"
     ]
    },
    {
     "name": "stdout",
     "output_type": "stream",
     "text": [
      "\r",
      "\u001b[32;1m✔\u001b[39;22m \u001b[35;1mColorsCept:\u001b[39;22m  \u001b[32m(1.21s)\u001b[39m\r\n",
      "- \u001b[35;1mPatternCept:\u001b[39;22m "
     ]
    },
    {
     "name": "stderr",
     "output_type": "stream",
     "text": [
      "[Sun Mar 12 13:02:25 2023] [::1]:46430 Accepted\n",
      "[Sun Mar 12 13:02:25 2023] [::1]:46430 [200]: GET /\n",
      "[Sun Mar 12 13:02:25 2023] [::1]:46430 Closing\n",
      "[Sun Mar 12 13:02:25 2023] [::1]:46436 Accepted\n",
      "[Sun Mar 12 13:02:25 2023] [::1]:46436 [200]: GET /?x=1&z=1\n",
      "[Sun Mar 12 13:02:25 2023] [::1]:46436 Closing\n",
      "[Sun Mar 12 13:02:25 2023] [::1]:46448 Accepted\n",
      "[Sun Mar 12 13:02:25 2023] [::1]:46448 [200]: GET /?x=8&z=8\n",
      "[Sun Mar 12 13:02:25 2023] [::1]:46448 Closing\n",
      "[Sun Mar 12 13:02:26 2023] [::1]:46460 Accepted\n",
      "[Sun Mar 12 13:02:26 2023] [::1]:46460 [200]: GET /?x=8&z=1\n",
      "[Sun Mar 12 13:02:26 2023] [::1]:46460 Closing\n",
      "[Sun Mar 12 13:02:26 2023] [::1]:46470 Accepted\n",
      "[Sun Mar 12 13:02:26 2023] [::1]:46470 [200]: GET /?x=1&z=8\n",
      "[Sun Mar 12 13:02:26 2023] [::1]:46470 Closing\n",
      "[Sun Mar 12 13:02:26 2023] [::1]:46480 Accepted\n",
      "[Sun Mar 12 13:02:26 2023] [::1]:46480 [200]: GET /?x=4&z=0\n",
      "[Sun Mar 12 13:02:26 2023] [::1]:46480 Closing\n",
      "[Sun Mar 12 13:02:26 2023] [::1]:46492 Accepted\n"
     ]
    },
    {
     "name": "stdout",
     "output_type": "stream",
     "text": [
      "\u001b[31;1mE\u001b[39;22m \u001b[35;1mPatternCept:\u001b[39;22m  \u001b[32m(12.17s)\u001b[39m\n",
      "\u001b[31;1mE\u001b[39;22m \u001b[35;1mSizeCept:\u001b[39;22m  \u001b[32m(0.01s)\u001b[39m\n",
      "--------------------------------------------------------------------------------\n",
      "\n",
      "\n",
      "Time: 00:13.561, Memory: 14.00 MB\n",
      "\n",
      "There were 2 errors:\n",
      "\n",
      "---------\n",
      "1) \u001b[35;1mPatternCept:\u001b[39;22m \n",
      "\u001b[37;41;1m Test \u001b[39;49;22m tests/acceptance/PatternCept.php\n",
      "\u001b[37;41;1m                                                                                                                                                                              \u001b[39;49;22m\n",
      "\u001b[37;41;1m  [GuzzleHttp\\Exception\\ConnectException] cURL error 52: Empty reply from server (see https://curl.haxx.se/libcurl/c/libcurl-errors.html) for http://localhost:8888/?x=5&z=9  \u001b[39;49;22m\n",
      "\u001b[37;41;1m                                                                                                                                                                              \u001b[39;49;22m\n",
      "\u001b[33m\n",
      "Scenario Steps:\n",
      "\u001b[39m\n",
      "\u001b[1m 615. $I->amOnPage(\"/?x=5&z=9\")\u001b[22m at \u001b[32mtests/acceptance/PatternCept.php:91\u001b[39m\n",
      " 614. $I->seeNumberOfElements(\"a\",100) at \u001b[32mtests/_support/AcceptanceTester.php:55\u001b[39m\n",
      " 613. $I->seeElement(\"a\",{\"href\":\"?x=9&z=9\",\"class\":\"block gray\"}) at \u001b[32mtests/_support/AcceptanceTester.php:51\u001b[39m\n",
      " 612. $I->seeElement(\"a\",{\"href\":\"?x=8&z=9\",\"class\":\"block gray\"}) at \u001b[32mtests/_support/AcceptanceTester.php:51\u001b[39m\n",
      " 611. $I->seeElement(\"a\",{\"href\":\"?x=7&z=9\",\"class\":\"block gray\"}) at \u001b[32mtests/_support/AcceptanceTester.php:51\u001b[39m\n",
      " 610. $I->seeElement(\"a\",{\"href\":\"?x=6&z=9\",\"class\":\"block gray\"}) at \u001b[32mtests/_support/AcceptanceTester.php:51\u001b[39m\n",
      "\n",
      "#1  /home/student/Desktop/PHP_Szymon_Cogiel/php_2022_szymon_cogiel/02_superglobals/02_chessboard/tests/vendor/guzzlehttp/guzzle/src/Handler/CurlFactory.php:210\n",
      "#2  /home/student/Desktop/PHP_Szymon_Cogiel/php_2022_szymon_cogiel/02_superglobals/02_chessboard/tests/vendor/guzzlehttp/guzzle/src/Handler/CurlFactory.php:158\n",
      "#3  /home/student/Desktop/PHP_Szymon_Cogiel/php_2022_szymon_cogiel/02_superglobals/02_chessboard/tests/vendor/guzzlehttp/guzzle/src/Handler/CurlFactory.php:110\n",
      "#4  /home/student/Desktop/PHP_Szymon_Cogiel/php_2022_szymon_cogiel/02_superglobals/02_chessboard/tests/vendor/guzzlehttp/guzzle/src/Handler/CurlHandler.php:47\n",
      "#5  /home/student/Desktop/PHP_Szymon_Cogiel/php_2022_szymon_cogiel/02_superglobals/02_chessboard/tests/vendor/guzzlehttp/guzzle/src/PrepareBodyMiddleware.php:35\n",
      "#6  /home/student/Desktop/PHP_Szymon_Cogiel/php_2022_szymon_cogiel/02_superglobals/02_chessboard/tests/vendor/guzzlehttp/guzzle/src/Middleware.php:37\n",
      "#7  /home/student/Desktop/PHP_Szymon_Cogiel/php_2022_szymon_cogiel/02_superglobals/02_chessboard/tests/vendor/guzzlehttp/guzzle/src/RedirectMiddleware.php:55\n",
      "#8  /home/student/Desktop/PHP_Szymon_Cogiel/php_2022_szymon_cogiel/02_superglobals/02_chessboard/tests/vendor/guzzlehttp/guzzle/src/Middleware.php:63\n",
      "#9  /home/student/Desktop/PHP_Szymon_Cogiel/php_2022_szymon_cogiel/02_superglobals/02_chessboard/tests/vendor/guzzlehttp/guzzle/src/HandlerStack.php:75\n",
      "#10 /home/student/Desktop/PHP_Szymon_Cogiel/php_2022_szymon_cogiel/02_superglobals/02_chessboard/tests/vendor/guzzlehttp/guzzle/src/Client.php:331\n",
      "\u001b[33mArtifacts:\u001b[39m\n",
      "\n",
      "Html: \u001b[36m/home/student/Desktop/PHP_Szymon_Cogiel/php_2022_szymon_cogiel/02_superglobals/02_chessboard/tests/tests/_output/PatternCept.fail.html\u001b[39m\n",
      "Response: \u001b[36m/home/student/Desktop/PHP_Szymon_Cogiel/php_2022_szymon_cogiel/02_superglobals/02_chessboard/tests/tests/_output/PatternCept.fail.html\u001b[39m\n",
      "\n",
      "---------\n",
      "2) \u001b[35;1mSizeCept:\u001b[39;22m \n",
      "\u001b[37;41;1m Test \u001b[39;49;22m tests/acceptance/SizeCept.php\n",
      "\u001b[37;41;1m                                                                                                                                                                                                                     \u001b[39;49;22m\n",
      "\u001b[37;41;1m  [GuzzleHttp\\Exception\\ConnectException] cURL error 7: Failed to connect to localhost port 8888 after 2 ms: Connection refused (see https://curl.haxx.se/libcurl/c/libcurl-errors.html) for http://localhost:8888/  \u001b[39;49;22m\n",
      "\u001b[37;41;1m                                                                                                                                                                                                                     \u001b[39;49;22m\n",
      "\u001b[33m\n",
      "Scenario Steps:\n",
      "\u001b[39m\n",
      "\u001b[1m 1. $I->amOnPage(\"/\")\u001b[22m at \u001b[32mtests/acceptance/SizeCept.php:5\u001b[39m\n",
      "\n",
      "#1  /home/student/Desktop/PHP_Szymon_Cogiel/php_2022_szymon_cogiel/02_superglobals/02_chessboard/tests/vendor/guzzlehttp/guzzle/src/Handler/CurlFactory.php:210\n",
      "#2  /home/student/Desktop/PHP_Szymon_Cogiel/php_2022_szymon_cogiel/02_superglobals/02_chessboard/tests/vendor/guzzlehttp/guzzle/src/Handler/CurlFactory.php:158\n",
      "#3  /home/student/Desktop/PHP_Szymon_Cogiel/php_2022_szymon_cogiel/02_superglobals/02_chessboard/tests/vendor/guzzlehttp/guzzle/src/Handler/CurlFactory.php:110\n",
      "#4  /home/student/Desktop/PHP_Szymon_Cogiel/php_2022_szymon_cogiel/02_superglobals/02_chessboard/tests/vendor/guzzlehttp/guzzle/src/Handler/CurlHandler.php:47\n",
      "#5  /home/student/Desktop/PHP_Szymon_Cogiel/php_2022_szymon_cogiel/02_superglobals/02_chessboard/tests/vendor/guzzlehttp/guzzle/src/PrepareBodyMiddleware.php:35\n",
      "#6  /home/student/Desktop/PHP_Szymon_Cogiel/php_2022_szymon_cogiel/02_superglobals/02_chessboard/tests/vendor/guzzlehttp/guzzle/src/Middleware.php:37\n",
      "#7  /home/student/Desktop/PHP_Szymon_Cogiel/php_2022_szymon_cogiel/02_superglobals/02_chessboard/tests/vendor/guzzlehttp/guzzle/src/RedirectMiddleware.php:55\n",
      "#8  /home/student/Desktop/PHP_Szymon_Cogiel/php_2022_szymon_cogiel/02_superglobals/02_chessboard/tests/vendor/guzzlehttp/guzzle/src/Middleware.php:63\n",
      "#9  /home/student/Desktop/PHP_Szymon_Cogiel/php_2022_szymon_cogiel/02_superglobals/02_chessboard/tests/vendor/guzzlehttp/guzzle/src/HandlerStack.php:75\n",
      "#10 /home/student/Desktop/PHP_Szymon_Cogiel/php_2022_szymon_cogiel/02_superglobals/02_chessboard/tests/vendor/guzzlehttp/guzzle/src/Client.php:331\n",
      "\n",
      "\u001b[37;41mERRORS!\u001b[0m\n",
      "\u001b[37;41mTests: 3\u001b[0m\u001b[37;41m, Assertions: 1142\u001b[0m\u001b[37;41m, Errors: 2\u001b[0m\u001b[37;41m.\u001b[0m\n"
     ]
    }
   ],
   "source": [
    "! cd tests && composer install && vendor/bin/codecept run"
   ]
  },
  {
   "cell_type": "code",
   "execution_count": null,
   "metadata": {},
   "outputs": [],
   "source": [
    "phpServer.kill()"
   ]
  },
  {
   "cell_type": "code",
   "execution_count": null,
   "metadata": {},
   "outputs": [],
   "source": []
  }
 ],
 "metadata": {
  "kernelspec": {
   "display_name": "Python 3 (ipykernel)",
   "language": "python",
   "name": "python3"
  },
  "language_info": {
   "codemirror_mode": {
    "name": "ipython",
    "version": 3
   },
   "file_extension": ".py",
   "mimetype": "text/x-python",
   "name": "python",
   "nbconvert_exporter": "python",
   "pygments_lexer": "ipython3",
   "version": "3.10.4"
  }
 },
 "nbformat": 4,
 "nbformat_minor": 4
}
