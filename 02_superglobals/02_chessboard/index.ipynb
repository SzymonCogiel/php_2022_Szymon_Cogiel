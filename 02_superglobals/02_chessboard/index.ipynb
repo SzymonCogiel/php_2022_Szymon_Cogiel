{
 "cells": [
  {
   "cell_type": "markdown",
   "metadata": {},
   "source": [
    "# PHP 2022"
   ]
  },
  {
   "cell_type": "markdown",
   "metadata": {},
   "source": [
    "## 2. Superglobals"
   ]
  },
  {
   "cell_type": "markdown",
   "metadata": {},
   "source": [
    "### 2.2 Chessboard"
   ]
  },
  {
   "cell_type": "markdown",
   "metadata": {},
   "source": [
    "Requirements:\n",
    "\n",
    "- The colour of the array is sored in a cookie\n",
    "- The default colour is grey, but it can be changed to red, green and blue\n",
    "- The size of the chessboard is stored in the session and can be configured using the post method\n",
    "- The array is constructed from links that can be clicked\n",
    "- After clicking two points, a white line is drawn between the points\n",
    "- Multiple lines can be added\n",
    "\n",
    "When in doubt, run the acceptance tests :)"
   ]
  },
  {
   "cell_type": "markdown",
   "metadata": {},
   "source": [
    "To start editing run:"
   ]
  },
  {
   "cell_type": "code",
   "execution_count": 1,
   "metadata": {},
   "outputs": [
    {
     "name": "stdout",
     "output_type": "stream",
     "text": [
      "Info  | RdCoroutineScope          | 13:JobScheduler FJ pool 1/3 | RdCoroutineHost overridden \n",
      "2023-03-12 12:56:51,584 [   9183]   WARN - #c.i.o.a.e.ActionUtil - Can not find action by id CompileDirty\n",
      "2023-03-12 12:56:54,553 [  12152]   WARN - #c.i.o.a.i.ActionUpdater - 518 ms to grab EDT for #update@ToolwindowTitle (com.intellij.toolWindow.ToolWindowHeader$2)\n",
      "2023-03-12 12:57:04,780 [  22379]   WARN - #c.i.u.x.Binding - no accessors for org.jetbrains.idea.perforce.perforce.ConnectionId\n"
     ]
    }
   ],
   "source": [
    "! phpstorm project"
   ]
  },
  {
   "cell_type": "markdown",
   "metadata": {},
   "source": [
    "Working application:\n",
    "\n",
    "![01_initial](images/01_initial.jpg)\n",
    "![02_click](images/02_click.jpg)\n",
    "![03_clicked](images/03_clicked.jpg)\n",
    "![04_click](images/04_click.jpg)\n",
    "![05_clicked](images/05_clicked.jpg)\n",
    "![06_change](images/06_change.jpg)\n",
    "![07_changed](images/07_changed.jpg)\n",
    "![08_color_change](images/08_color_change.jpg)\n",
    "![09_color_changed](images/09_color_changed.jpg)"
   ]
  },
  {
   "cell_type": "markdown",
   "metadata": {},
   "source": [
    "You can test your solution using included tests:"
   ]
  },
  {
   "cell_type": "code",
   "execution_count": 2,
   "metadata": {},
   "outputs": [
    {
     "name": "stderr",
     "output_type": "stream",
     "text": [
      "[Sun Mar 12 12:57:06 2023] PHP 8.1.9 Development Server (http://localhost:8888) started\n"
     ]
    }
   ],
   "source": [
    "import subprocess\n",
    "phpServer = subprocess.Popen(['php', '-S', 'localhost:8888', '-t', 'project/'])"
   ]
  },
  {
   "cell_type": "code",
   "execution_count": null,
   "metadata": {},
   "outputs": [],
   "source": [
    "! cd tests && composer install && vendor/bin/codecept run"
   ]
  },
  {
   "cell_type": "code",
   "execution_count": null,
   "metadata": {},
   "outputs": [],
   "source": [
    "phpServer.kill()"
   ]
  },
  {
   "cell_type": "code",
   "execution_count": null,
   "metadata": {},
   "outputs": [],
   "source": []
  }
 ],
 "metadata": {
  "kernelspec": {
   "display_name": "Python 3 (ipykernel)",
   "language": "python",
   "name": "python3"
  },
  "language_info": {
   "codemirror_mode": {
    "name": "ipython",
    "version": 3
   },
   "file_extension": ".py",
   "mimetype": "text/x-python",
   "name": "python",
   "nbconvert_exporter": "python",
   "pygments_lexer": "ipython3",
   "version": "3.10.4"
  }
 },
 "nbformat": 4,
 "nbformat_minor": 4
}
