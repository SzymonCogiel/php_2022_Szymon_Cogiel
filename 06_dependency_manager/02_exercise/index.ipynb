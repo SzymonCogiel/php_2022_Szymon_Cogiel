{
 "cells": [
  {
   "cell_type": "markdown",
   "metadata": {},
   "source": [
    "# PHP 2022"
   ]
  },
  {
   "cell_type": "markdown",
   "metadata": {},
   "source": [
    "## 6. Dependency Manager"
   ]
  },
  {
   "cell_type": "markdown",
   "metadata": {},
   "source": [
    "### 6.2 Exercise"
   ]
  },
  {
   "cell_type": "markdown",
   "metadata": {},
   "source": [
    "Configure ```Composer```, add ```predis/predis``` package and implement the ```RedisStorage``` class."
   ]
  },
  {
   "cell_type": "markdown",
   "metadata": {},
   "source": [
    "Start the databses:"
   ]
  },
  {
   "cell_type": "code",
   "execution_count": 1,
   "metadata": {},
   "outputs": [
    {
     "name": "stdout",
     "output_type": "stream",
     "text": [
      "a6308bb03880d358990b30670123e8783dd0e834f821f26c117537dedc867ecf\r\n"
     ]
    }
   ],
   "source": [
    "! docker run --net=host --rm --name redis -d redis"
   ]
  },
  {
   "cell_type": "code",
   "execution_count": 2,
   "metadata": {},
   "outputs": [
    {
     "name": "stdout",
     "output_type": "stream",
     "text": [
      "b8056151eecc3e58d80cfd18b4176ad9aa57eaf2c0b927e28ef273bccd39987a\r\n"
     ]
    }
   ],
   "source": [
    "! docker run --name=mysql --net=host --rm --env MYSQL_ROOT_PASSWORD=root123 --env MYSQL_DATABASE=test --env MYSQL_USER=test --env MYSQL_PASSWORD=test123 -d mysql/mysql-server:8.0"
   ]
  },
  {
   "cell_type": "code",
   "execution_count": 3,
   "metadata": {},
   "outputs": [
    {
     "name": "stdout",
     "output_type": "stream",
     "text": [
      "Done.\r\n"
     ]
    }
   ],
   "source": [
    "! while ! timeout 1 bash -c \"echo > /dev/tcp/localhost/6379\" 2> /dev/null; do sleep 1; done; echo \"Done.\";"
   ]
  },
  {
   "cell_type": "code",
   "execution_count": 4,
   "metadata": {},
   "outputs": [
    {
     "name": "stdout",
     "output_type": "stream",
     "text": [
      "Done.\r\n"
     ]
    }
   ],
   "source": [
    "! while ! timeout 1 bash -c \"echo > /dev/tcp/localhost/3306\" 2> /dev/null; do sleep 1; done; echo \"Done.\";"
   ]
  },
  {
   "cell_type": "markdown",
   "metadata": {},
   "source": [
    "Edit the code:"
   ]
  },
  {
   "cell_type": "code",
   "execution_count": null,
   "metadata": {},
   "outputs": [
    {
     "name": "stdout",
     "output_type": "stream",
     "text": [
      "Info  | RdCoroutineScope          | 13:JobScheduler FJ pool 1/3 | RdCoroutineHost overridden \n",
      "2023-04-14 12:32:47,492 [   8282]   WARN - #c.i.o.a.i.ActionUpdater - 1366 ms to grab EDT for CreateWebProjectAction#update@MainMenu (com.jetbrains.plugins.webDeployment.phpStorm.CreateWebProjectAction)\n",
      "2023-04-14 12:32:47,880 [   8670]   WARN - #c.i.o.a.i.ActionUpdater - 1580 ms to call on BGT CopyReferencePopup#update@MainMenu (com.intellij.ide.actions.CopyReferencePopup)\n",
      "2023-04-14 12:32:49,624 [  10414]   WARN - #c.i.o.a.i.ActionUpdater - 976 ms to grab EDT for CWMTelephonyGroup#update@NavBarToolbar (com.jetbrains.rd.platform.codeWithMe.telephony.CWMTelephonyGroup)\n",
      "2023-04-14 12:32:49,950 [  10740]   WARN - #c.i.o.a.i.ActionUpdater - 322 ms to grab EDT for GitCommitWithStagingAreaAction#update@NavBarToolbar (git4idea.index.actions.GitCommitWithStagingAreaAction)\n",
      "2023-04-14 12:32:50,210 [  11000]   WARN - #c.i.o.a.i.ActionUpdater - 225 ms to grab EDT for SpaceMainToolBarAction#update@NavBarToolbar (com.intellij.space.vcs.actions.SpaceMainToolBarAction)\n",
      "2023-04-14 12:33:11,849 [  32639]   WARN - #c.i.u.x.Binding - no accessors for org.jetbrains.idea.perforce.perforce.ConnectionId\n",
      "2023-04-14 12:33:13,378 [  34168]   WARN - #c.i.o.a.e.ActionUtil - Can not find action by id CompileDirty\n",
      "2023-04-14 12:38:55,878 [ 376668]   WARN - #c.j.p.PhpIndex - Invalid Signature '\\Doctrine\\Instantiator\\class-string<#ᢐ\\T.>'\n",
      "2023-04-14 12:39:41,243 [ 422033]   WARN - #c.j.p.PhpIndex - Invalid Signature '\\Doctrine\\Instantiator\\class-string<#ᢐ\\T.>'\n",
      "2023-04-14 12:39:41,766 [ 422556]   WARN - #c.j.p.PhpIndex - Invalid Signature '\\Doctrine\\Instantiator\\class-string<#ᢐ\\T.>'\n",
      "2023-04-14 12:39:42,246 [ 423036]   WARN - #c.j.p.PhpIndex - Invalid Signature '\\Doctrine\\Instantiator\\class-string<#ᢐ\\T.>'\n",
      "2023-04-14 12:39:44,258 [ 425048]   WARN - #c.j.p.PhpIndex - Invalid Signature '\\Doctrine\\Instantiator\\class-string<#ᢐ\\T.>'\n",
      "2023-04-14 12:39:44,759 [ 425549]   WARN - #c.j.p.PhpIndex - Invalid Signature '\\Doctrine\\Instantiator\\class-string<#ᢐ\\T.>'\n",
      "2023-04-14 12:39:44,766 [ 425556]   WARN - #c.j.p.PhpIndex - Invalid Signature '\\Doctrine\\Instantiator\\class-string<#ᢐ\\T.>'\n",
      "2023-04-14 12:39:47,767 [ 428557]   WARN - #c.j.p.PhpIndex - Invalid Signature '\\Doctrine\\Instantiator\\class-string<#ᢐ\\T.>'\n",
      "2023-04-14 12:39:48,269 [ 429059]   WARN - #c.j.p.PhpIndex - Invalid Signature '\\Doctrine\\Instantiator\\class-string<#ᢐ\\T.>'\n",
      "2023-04-14 12:39:50,772 [ 431562]   WARN - #c.j.p.PhpIndex - Invalid Signature '\\Doctrine\\Instantiator\\class-string<#ᢐ\\T.>'\n",
      "2023-04-14 12:39:53,730 [ 434520]   WARN - #c.j.p.PhpIndex - Invalid Signature '\\Doctrine\\Instantiator\\class-string<#ᢐ\\T.>'\n",
      "2023-04-14 12:39:55,721 [ 436511]   WARN - #c.j.p.PhpIndex - Invalid Signature '\\Doctrine\\Instantiator\\class-string<#ᢐ\\T.>'\n",
      "2023-04-14 12:41:08,046 [ 508836]   WARN - #c.j.p.PhpIndex - Invalid Signature '\\Doctrine\\Instantiator\\class-string<#ᢐ\\T.>'\n",
      "2023-04-14 12:41:41,233 [ 542023]   WARN - #c.j.p.PhpIndex - Invalid Signature '\\Doctrine\\Instantiator\\class-string<#ᢐ\\T.>'\n",
      "2023-04-14 12:43:06,582 [ 627372]   WARN - #c.j.p.PhpIndex - Invalid Signature '\\Doctrine\\Instantiator\\class-string<#ᢐ\\T.>'\n",
      "2023-04-14 12:43:07,837 [ 628627]   WARN - #c.j.p.PhpIndex - Invalid Signature '\\Doctrine\\Instantiator\\class-string<#ᢐ\\T.>'\n",
      "2023-04-14 12:43:26,885 [ 647675]   WARN - #c.j.p.PhpIndex - Invalid Signature '\\Doctrine\\Instantiator\\class-string<#ᢐ\\T.>'\n",
      "2023-04-14 12:43:27,933 [ 648723]   WARN - #c.j.p.PhpIndex - Invalid Signature '\\Doctrine\\Instantiator\\class-string<#ᢐ\\T.>'\n",
      "2023-04-14 12:44:20,058 [ 700848]   WARN - #c.j.p.PhpIndex - Invalid Signature '\\Doctrine\\Instantiator\\class-string<#ᢐ\\T.>'\n",
      "2023-04-14 12:45:10,891 [ 751681]   WARN - #c.j.p.PhpIndex - Invalid Signature '\\Doctrine\\Instantiator\\class-string<#ᢐ\\T.>'\n",
      "2023-04-14 12:45:11,845 [ 752635]   WARN - #c.j.p.PhpIndex - Invalid Signature '\\Doctrine\\Instantiator\\class-string<#ᢐ\\T.>'\n",
      "2023-04-14 12:46:35,711 [ 836501]   WARN - #c.j.p.PhpIndex - Invalid Signature '\\Doctrine\\Instantiator\\class-string<#ᢐ\\T.>'\n",
      "2023-04-14 12:46:40,231 [ 841021]   WARN - #c.j.p.PhpIndex - Invalid Signature '\\callable<#ᢐ\\T.>'\n",
      "2023-04-14 12:46:40,233 [ 841023]   WARN - #c.j.p.PhpIndex - Invalid Signature '\\callable'\n",
      "2023-04-14 12:46:45,924 [ 846714]   WARN - #c.j.p.PhpIndex - Invalid Signature '\\Doctrine\\Instantiator\\class-string<#ᢐ\\T.>'\n",
      "2023-04-14 12:46:47,023 [ 847813]   WARN - #c.j.p.PhpIndex - Invalid Signature '\\Doctrine\\Instantiator\\class-string<#ᢐ\\T.>'\n",
      "2023-04-14 12:46:48,986 [ 849776]   WARN - #c.j.p.PhpIndex - Invalid Signature '\\Doctrine\\Instantiator\\class-string<#ᢐ\\T.>'\n",
      "2023-04-14 12:46:49,852 [ 850642]   WARN - #c.j.p.PhpIndex - Invalid Signature '\\Doctrine\\Instantiator\\class-string<#ᢐ\\T.>'\n",
      "2023-04-14 12:48:27,457 [ 948247]   WARN - #c.j.p.PhpIndex - Invalid Signature '\\Doctrine\\Instantiator\\class-string<#ᢐ\\T.>'\n",
      "2023-04-14 12:48:37,443 [ 958233]   WARN - #c.j.p.PhpIndex - Invalid Signature '\\Doctrine\\Instantiator\\class-string<#ᢐ\\T.>'\n",
      "2023-04-14 12:49:08,776 [ 989566]   WARN - #c.j.p.PhpIndex - Invalid Signature '\\Doctrine\\Instantiator\\class-string<#ᢐ\\T.>'\n",
      "2023-04-14 12:49:11,200 [ 991990]   WARN - #c.j.p.PhpIndex - Invalid Signature '\\Doctrine\\Instantiator\\class-string<#ᢐ\\T.>'\n",
      "2023-04-14 12:49:11,933 [ 992723]   WARN - #c.j.p.PhpIndex - Invalid Signature '\\Doctrine\\Instantiator\\class-string<#ᢐ\\T.>'\n",
      "2023-04-14 12:49:14,397 [ 995187]   WARN - #c.j.p.PhpIndex - Invalid Signature '\\Doctrine\\Instantiator\\class-string<#ᢐ\\T.>'\n",
      "2023-04-14 12:49:17,492 [ 998282]   WARN - #c.j.p.PhpIndex - Invalid Signature '\\Doctrine\\Instantiator\\class-string<#ᢐ\\T.>'\n",
      "2023-04-14 12:49:19,487 [1000277]   WARN - #c.j.p.PhpIndex - Invalid Signature '\\Doctrine\\Instantiator\\class-string<#ᢐ\\T.>'\n",
      "2023-04-14 12:49:22,132 [1002922]   WARN - #c.j.p.PhpIndex - Invalid Signature '\\Doctrine\\Instantiator\\class-string<#ᢐ\\T.>'\n",
      "2023-04-14 12:50:15,913 [1056703]   WARN - #c.j.p.PhpIndex - Invalid Signature '\\Doctrine\\Instantiator\\class-string<#ᢐ\\T.>'\n",
      "2023-04-14 12:50:16,445 [1057235]   WARN - #c.j.p.PhpIndex - Invalid Signature '\\Doctrine\\Instantiator\\class-string<#ᢐ\\T.>'\n",
      "2023-04-14 12:51:10,417 [1111207]   WARN - #c.j.p.PhpIndex - Invalid Signature '\\Doctrine\\Instantiator\\class-string<#ᢐ\\T.>'\n",
      "2023-04-14 12:51:14,946 [1115736]   WARN - #c.j.p.PhpIndex - Invalid Signature '\\Doctrine\\Instantiator\\class-string<#ᢐ\\T.>'\n",
      "2023-04-14 12:51:16,864 [1117654]   WARN - #c.j.p.PhpIndex - Invalid Signature '\\Doctrine\\Instantiator\\class-string<#ᢐ\\T.>'\n",
      "2023-04-14 12:53:08,163 [1228953]   WARN - #c.j.p.PhpIndex - Invalid Signature '\\callable<#ᢐ\\T.>'\n",
      "2023-04-14 12:53:08,164 [1228954]   WARN - #c.j.p.PhpIndex - Invalid Signature '\\callable'\n",
      "2023-04-14 12:53:53,023 [1273813]   WARN - #c.j.p.PhpIndex - Invalid Signature '\\Doctrine\\Instantiator\\class-string<#ᢐ\\T.>'\n",
      "2023-04-14 12:53:55,476 [1276266]   WARN - #c.j.p.PhpIndex - Invalid Signature '\\Doctrine\\Instantiator\\class-string<#ᢐ\\T.>'\n",
      "2023-04-14 12:53:57,149 [1277939]   WARN - #c.j.p.PhpIndex - Invalid Signature '\\Doctrine\\Instantiator\\class-string<#ᢐ\\T.>'\n",
      "2023-04-14 12:53:58,809 [1279599]   WARN - #c.j.p.PhpIndex - Invalid Signature '\\Doctrine\\Instantiator\\class-string<#ᢐ\\T.>'\n",
      "2023-04-14 12:54:02,449 [1283239]   WARN - #c.j.p.PhpIndex - Invalid Signature '\\Doctrine\\Instantiator\\class-string<#ᢐ\\T.>'\n",
      "2023-04-14 12:54:04,967 [1285757]   WARN - #c.j.p.PhpIndex - Invalid Signature '\\Doctrine\\Instantiator\\class-string<#ᢐ\\T.>'\n",
      "2023-04-14 12:54:06,577 [1287367]   WARN - #c.j.p.PhpIndex - Invalid Signature '\\Doctrine\\Instantiator\\class-string<#ᢐ\\T.>'\n",
      "2023-04-14 12:54:07,316 [1288106]   WARN - #c.j.p.PhpIndex - Invalid Signature '\\Doctrine\\Instantiator\\class-string<#ᢐ\\T.>'\n",
      "2023-04-14 12:54:10,508 [1291298]   WARN - #c.j.p.PhpIndex - Invalid Signature '\\Doctrine\\Instantiator\\class-string<#ᢐ\\T.>'\n",
      "2023-04-14 12:54:21,137 [1301927]   WARN - #c.j.p.PhpIndex - Invalid Signature '\\Doctrine\\Instantiator\\class-string<#ᢐ\\T.>'\n",
      "2023-04-14 12:54:44,336 [1325126] SEVERE - c.j.t.m.TerminalTextBuffer - Attempt to get line out of bounds: 12 >= 12\n",
      "2023-04-14 12:54:44,337 [1325127] SEVERE - c.j.t.m.TerminalTextBuffer - Attempt to get line out of bounds: 12 >= 12\n",
      "2023-04-14 12:54:52,060 [1332850]   WARN - #c.j.p.PhpIndex - Invalid Signature '\\Doctrine\\Instantiator\\class-string<#ᢐ\\T.>'\n"
     ]
    },
    {
     "name": "stdout",
     "output_type": "stream",
     "text": [
      "2023-04-14 12:54:52,573 [1333363]   WARN - #c.j.p.PhpIndex - Invalid Signature '\\Doctrine\\Instantiator\\class-string<#ᢐ\\T.>'\n",
      "2023-04-14 12:54:56,647 [1337437]   WARN - #c.j.p.PhpIndex - Invalid Signature '\\Doctrine\\Instantiator\\class-string<#ᢐ\\T.>'\n",
      "2023-04-14 12:54:57,260 [1338050]   WARN - #c.j.p.PhpIndex - Invalid Signature '\\Doctrine\\Instantiator\\class-string<#ᢐ\\T.>'\n",
      "2023-04-14 12:54:59,150 [1339940]   WARN - #c.j.p.PhpIndex - Invalid Signature '\\Doctrine\\Instantiator\\class-string<#ᢐ\\T.>'\n",
      "2023-04-14 12:57:01,738 [1462528]   WARN - #c.j.p.PhpIndex - Invalid Signature '\\Doctrine\\Instantiator\\class-string<#ᢐ\\T.>'\n",
      "2023-04-14 12:57:07,205 [1467995]   WARN - #c.j.p.PhpIndex - Invalid Signature '\\Doctrine\\Instantiator\\class-string<#ᢐ\\T.>'\n",
      "2023-04-14 12:57:15,165 [1475955]   WARN - #c.j.p.PhpIndex - Invalid Signature '\\Doctrine\\Instantiator\\class-string<#ᢐ\\T.>'\n",
      "2023-04-14 13:00:37,507 [1678297] SEVERE - c.j.t.m.TerminalTextBuffer - Attempt to get line out of bounds: 12 >= 12\n",
      "2023-04-14 13:00:37,507 [1678297] SEVERE - c.j.t.m.TerminalTextBuffer - Attempt to get line out of bounds: 12 >= 12\n",
      "2023-04-14 13:01:14,980 [1715770]   WARN - #c.j.p.PhpIndex - Invalid Signature '\\Doctrine\\Instantiator\\class-string<#ᢐ\\T.>'\n",
      "2023-04-14 13:01:15,563 [1716353]   WARN - #c.j.p.PhpIndex - Invalid Signature '\\Doctrine\\Instantiator\\class-string<#ᢐ\\T.>'\n"
     ]
    }
   ],
   "source": [
    "! phpstorm project"
   ]
  },
  {
   "cell_type": "markdown",
   "metadata": {},
   "source": [
    "You can test your solution using included tests:"
   ]
  },
  {
   "cell_type": "code",
   "execution_count": 9,
   "metadata": {},
   "outputs": [
    {
     "name": "stdout",
     "output_type": "stream",
     "text": [
      "\u001b[32mChanged current directory to /home/student/.composer\u001b[39m\n",
      "\u001b[32mInfo from https://repo.packagist.org: \u001b[37;44m#StandWith\u001b[30;43mUkraine\u001b[0m\u001b[39m\n",
      "Using version \u001b[32m^3.16\u001b[39m for \u001b[32mfriendsofphp/php-cs-fixer\u001b[39m\n",
      "Using version \u001b[32m^1.10\u001b[39m for \u001b[32mphpstan/phpstan\u001b[39m\n",
      "Using version \u001b[32m^6.0\u001b[39m for \u001b[32msebastian/phpcpd\u001b[39m\n",
      "\u001b[32m./composer.json has been updated\u001b[39m\n",
      "\u001b[32mRunning composer update friendsofphp/php-cs-fixer phpstan/phpstan sebastian/phpcpd\u001b[39m\n",
      "\u001b[32mLoading composer repositories with package information\u001b[39m\n",
      "\u001b[32mUpdating dependencies\u001b[39m\n",
      "Nothing to modify in lock file\n",
      "\u001b[32mInstalling dependencies from lock file (including require-dev)\u001b[39m\n",
      "Nothing to install, update or remove\n",
      "\u001b[30;43mPackage sebastian/phpcpd is abandoned, you should avoid using it. No replacement was suggested.\u001b[39;49m\n",
      "\u001b[32mGenerating autoload files\u001b[39m\n",
      "\u001b[32m29 packages you are using are looking for funding.\u001b[39m\n",
      "\u001b[32mUse the `composer fund` command to find out more!\u001b[39m\n",
      "\u001b[32mNo security vulnerability advisories found\u001b[39m\n"
     ]
    }
   ],
   "source": [
    "! composer global require friendsofphp/php-cs-fixer phpstan/phpstan sebastian/phpcpd"
   ]
  },
  {
   "cell_type": "code",
   "execution_count": 10,
   "metadata": {},
   "outputs": [
    {
     "name": "stdout",
     "output_type": "stream",
     "text": [
      "/home/student/Desktop/PHP_Szymon_Cogiel/php_2022_szymon_cogiel/06_dependency_manager/02_exercise/project\n"
     ]
    }
   ],
   "source": [
    "%cd project"
   ]
  },
  {
   "cell_type": "code",
   "execution_count": 11,
   "metadata": {},
   "outputs": [
    {
     "name": "stdout",
     "output_type": "stream",
     "text": [
      "\u001b[32mInstalling dependencies from lock file (including require-dev)\u001b[39m\r\n",
      "\u001b[32mVerifying lock file contents can be installed on current platform.\u001b[39m\r\n",
      "Nothing to install, update or remove\r\n",
      "\u001b[32mGenerating autoload files\u001b[39m\r\n",
      "\u001b[32m1 package you are using is looking for funding.\u001b[39m\r\n",
      "\u001b[32mUse the `composer fund` command to find out more!\u001b[39m\r\n"
     ]
    }
   ],
   "source": [
    "! composer install"
   ]
  },
  {
   "cell_type": "code",
   "execution_count": 12,
   "metadata": {},
   "outputs": [
    {
     "name": "stdout",
     "output_type": "stream",
     "text": [
      "Loaded config \u001b[33mdefault\u001b[39m.\n",
      "Using cache file \".php-cs-fixer.cache\".\n",
      "   1) src/App.php\n",
      "\u001b[33m      ---------- begin diff ----------\u001b[39m\n",
      "\u001b[31m--- /home/student/Desktop/PHP_Szymon_Cogiel/php_2022_szymon_cogiel/06_dependency_manager/02_exercise/project/src/App.php\u001b[39m\n",
      "\u001b[32m+++ /home/student/Desktop/PHP_Szymon_Cogiel/php_2022_szymon_cogiel/06_dependency_manager/02_exercise/project/src/App.php\u001b[39m\n",
      "\u001b[36m@@ -46,4 +46,4 @@\u001b[39m\n",
      "         $instantiator = new Instantiator();\n",
      "         return $instantiator->instantiate(Link::class);\n",
      "     }\n",
      "\u001b[31m-}\u001b[39m\n",
      "\\ No newline at end of file\n",
      "\u001b[32m+}\u001b[39m\n",
      "\n",
      "\u001b[33m      ----------- end diff -----------\u001b[39m\n",
      "\n",
      "\n",
      "Found 1 of 15 files that can be fixed in 0.036 seconds, 14.000 MB memory used\n"
     ]
    }
   ],
   "source": [
    "! ~/.composer/vendor/bin/php-cs-fixer fix --diff --dry-run ."
   ]
  },
  {
   "cell_type": "code",
   "execution_count": 10,
   "metadata": {},
   "outputs": [
    {
     "name": "stdout",
     "output_type": "stream",
     "text": [
      "\n",
      "\u001b[33m ! [NOTE] You are running with \"--xdebug\" enabled, and the Xdebug PHP extension \u001b[39m\n",
      "\u001b[33m !        is active.                                                            \u001b[39m\n",
      "\u001b[33m !        The process will halt at breakpoints, but PHPStan will run much       \u001b[39m\n",
      "\u001b[33m !        slower.                                                               \u001b[39m\n",
      "\u001b[33m !        Use this only if you are debugging PHPStan itself or your custom      \u001b[39m\n",
      "\u001b[33m !        extensions.                                                           \u001b[39m\n",
      "\n",
      "  0/15 [░░░░░░░░░░░░░░░░░░░░░░░░░░░░]   0%\u001b[1G\u001b[2K 15/15 [▓▓▓▓▓▓▓▓▓▓▓▓▓▓▓▓▓▓▓▓▓▓▓▓▓▓▓▓] 100%\n",
      "\n",
      " ------ ----------------------------------------------------------------------- \n",
      "  \u001b[32mLine\u001b[39m   \u001b[32msrc/App.php\u001b[39m                                                            \n",
      " ------ ----------------------------------------------------------------------- \n",
      "  26     Instantiated class ProxyManager\\Factory\\LazyLoadingValueHolderFactory  \n",
      "         not found.                                                             \n",
      "         💡 Learn more at https://phpstan.org/user-guide/discovering-symbols    \n",
      "  29     Call to method createProxy() on an unknown class                       \n",
      "         ProxyManager\\Factory\\LazyLoadingValueHolderFactory.                    \n",
      "         💡 Learn more at https://phpstan.org/user-guide/discovering-symbols    \n",
      "  30     Call to method instantiate() on an unknown class                       \n",
      "         Instantiator\\Instantiator.                                             \n",
      "         💡 Learn more at https://phpstan.org/user-guide/discovering-symbols    \n",
      "  30     Instantiated class Instantiator\\Instantiator not found.                \n",
      "         💡 Learn more at https://phpstan.org/user-guide/discovering-symbols    \n",
      "  33     Call to method createProxy() on an unknown class                       \n",
      "         ProxyManager\\Factory\\LazyLoadingValueHolderFactory.                    \n",
      "         💡 Learn more at https://phpstan.org/user-guide/discovering-symbols    \n",
      "  34     Call to method instantiate() on an unknown class                       \n",
      "         Instantiator\\Instantiator.                                             \n",
      "         💡 Learn more at https://phpstan.org/user-guide/discovering-symbols    \n",
      "  34     Instantiated class Instantiator\\Instantiator not found.                \n",
      "         💡 Learn more at https://phpstan.org/user-guide/discovering-symbols    \n",
      "  37     Call to method createProxy() on an unknown class                       \n",
      "         ProxyManager\\Factory\\LazyLoadingValueHolderFactory.                    \n",
      "         💡 Learn more at https://phpstan.org/user-guide/discovering-symbols    \n",
      "  38     Call to method instantiate() on an unknown class                       \n",
      "         Instantiator\\Instantiator.                                             \n",
      "         💡 Learn more at https://phpstan.org/user-guide/discovering-symbols    \n",
      "  38     Instantiated class Instantiator\\Instantiator not found.                \n",
      "         💡 Learn more at https://phpstan.org/user-guide/discovering-symbols    \n",
      " ------ ----------------------------------------------------------------------- \n",
      "\n",
      "\n",
      "\u001b[37;41m                                                                                \u001b[39;49m\n",
      "\u001b[37;41m [ERROR] Found 10 errors                                                        \u001b[39;49m\n",
      "\u001b[37;41m                                                                                \u001b[39;49m\n",
      "\n"
     ]
    }
   ],
   "source": [
    "! ~/.composer/vendor/bin/phpstan analyze --xdebug --level max public/ src/"
   ]
  },
  {
   "cell_type": "code",
   "execution_count": 11,
   "metadata": {},
   "outputs": [
    {
     "name": "stdout",
     "output_type": "stream",
     "text": [
      "/home/student/Desktop/PHP_Szymon_Cogiel/php_2022_szymon_cogiel/06_dependency_manager/02_exercise\n"
     ]
    }
   ],
   "source": [
    "%cd ../"
   ]
  },
  {
   "cell_type": "code",
   "execution_count": 16,
   "metadata": {},
   "outputs": [
    {
     "name": "stderr",
     "output_type": "stream",
     "text": [
      "[Thu Apr 13 20:33:13 2023] PHP 8.1.9 Development Server (http://localhost:8888) started\n",
      "[Thu Apr 13 20:33:20 2023] [::1]:51390 Accepted\n",
      "[Thu Apr 13 20:33:20 2023] [::1]:51396 Accepted\n",
      "[Thu Apr 13 20:33:20 2023] PHP Fatal error:  Uncaught Error: Class \"ProxyManager\\Factory\\LazyLoadingValueHolderFactory\" not found in /home/student/Desktop/PHP_Szymon_Cogiel/php_2022_szymon_cogiel/06_dependency_manager/02_exercise/project/src/App.php:26\n",
      "Stack trace:\n",
      "#0 /home/student/Desktop/PHP_Szymon_Cogiel/php_2022_szymon_cogiel/06_dependency_manager/02_exercise/project/public/index.php(26): App->run()\n",
      "#1 {main}\n",
      "  thrown in /home/student/Desktop/PHP_Szymon_Cogiel/php_2022_szymon_cogiel/06_dependency_manager/02_exercise/project/src/App.php on line 26\n",
      "[Thu Apr 13 20:33:20 2023] [::1]:51390 [200]: GET / - Uncaught Error: Class \"ProxyManager\\Factory\\LazyLoadingValueHolderFactory\" not found in /home/student/Desktop/PHP_Szymon_Cogiel/php_2022_szymon_cogiel/06_dependency_manager/02_exercise/project/src/App.php:26\n",
      "Stack trace:\n",
      "#0 /home/student/Desktop/PHP_Szymon_Cogiel/php_2022_szymon_cogiel/06_dependency_manager/02_exercise/project/public/index.php(26): App->run()\n",
      "#1 {main}\n",
      "  thrown in /home/student/Desktop/PHP_Szymon_Cogiel/php_2022_szymon_cogiel/06_dependency_manager/02_exercise/project/src/App.php on line 26\n",
      "[Thu Apr 13 20:33:20 2023] [::1]:51390 Closing\n"
     ]
    }
   ],
   "source": [
    "import subprocess\n",
    "phpServer = subprocess.Popen(['php', '-S', 'localhost:8888', '-t', 'project/public'])"
   ]
  },
  {
   "cell_type": "code",
   "execution_count": null,
   "metadata": {},
   "outputs": [],
   "source": [
    "! cd tests && composer install && vendor/bin/codecept run"
   ]
  },
  {
   "cell_type": "code",
   "execution_count": 17,
   "metadata": {},
   "outputs": [],
   "source": [
    "phpServer.kill()"
   ]
  },
  {
   "cell_type": "code",
   "execution_count": 14,
   "metadata": {},
   "outputs": [
    {
     "name": "stdout",
     "output_type": "stream",
     "text": [
      "phpcpd 6.0.3 by Sebastian Bergmann.\r\n",
      "\r\n",
      "Found 1 clones with 4 duplicated lines in 1 files:\r\n",
      "\r\n",
      "  - /home/student/Desktop/PHP_Szymon_Cogiel/php_2022_szymon_cogiel/06_dependency_manager/02_exercise/project/src/App.php:29-31 (2 lines)\r\n",
      "    /home/student/Desktop/PHP_Szymon_Cogiel/php_2022_szymon_cogiel/06_dependency_manager/02_exercise/project/src/App.php:33-35\r\n",
      "    /home/student/Desktop/PHP_Szymon_Cogiel/php_2022_szymon_cogiel/06_dependency_manager/02_exercise/project/src/App.php:37-39\r\n",
      "\r\n",
      "0.98% duplicated lines out of 409 total lines of code.\r\n",
      "Average size of duplication is 4 lines, largest clone has 2 of lines\r\n",
      "\r\n",
      "Time: 00:00.002, Memory: 2.00 MB\r\n"
     ]
    }
   ],
   "source": [
    "! cd project && ~/.composer/vendor/bin/phpcpd --fuzzy --min-lines 1 --min-tokens 10 public/ src/"
   ]
  },
  {
   "cell_type": "markdown",
   "metadata": {},
   "source": [
    "Stop the databses:"
   ]
  },
  {
   "cell_type": "code",
   "execution_count": null,
   "metadata": {},
   "outputs": [],
   "source": [
    "! docker container stop redis"
   ]
  },
  {
   "cell_type": "code",
   "execution_count": null,
   "metadata": {},
   "outputs": [],
   "source": [
    "! docker container stop mysql"
   ]
  }
 ],
 "metadata": {
  "kernelspec": {
   "display_name": "Python 3 (ipykernel)",
   "language": "python",
   "name": "python3"
  },
  "language_info": {
   "codemirror_mode": {
    "name": "ipython",
    "version": 3
   },
   "file_extension": ".py",
   "mimetype": "text/x-python",
   "name": "python",
   "nbconvert_exporter": "python",
   "pygments_lexer": "ipython3",
   "version": "3.10.4"
  }
 },
 "nbformat": 4,
 "nbformat_minor": 4
}
