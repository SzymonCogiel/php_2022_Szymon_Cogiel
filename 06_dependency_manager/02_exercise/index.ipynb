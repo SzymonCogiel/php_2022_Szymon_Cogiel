{
 "cells": [
  {
   "cell_type": "markdown",
   "metadata": {},
   "source": [
    "# PHP 2022"
   ]
  },
  {
   "cell_type": "markdown",
   "metadata": {},
   "source": [
    "## 6. Dependency Manager"
   ]
  },
  {
   "cell_type": "markdown",
   "metadata": {},
   "source": [
    "### 6.2 Exercise"
   ]
  },
  {
   "cell_type": "markdown",
   "metadata": {},
   "source": [
    "Configure ```Composer```, add ```predis/predis``` package and implement the ```RedisStorage``` class."
   ]
  },
  {
   "cell_type": "markdown",
   "metadata": {},
   "source": [
    "Start the databses:"
   ]
  },
  {
   "cell_type": "code",
   "execution_count": 1,
   "metadata": {},
   "outputs": [
    {
     "name": "stdout",
     "output_type": "stream",
     "text": [
      "docker: Error response from daemon: Conflict. The container name \"/redis\" is already in use by container \"66b45642f0d34827f181d460f5d06faac7d3a33b98c0f300e1f1f059aa80278c\". You have to remove (or rename) that container to be able to reuse that name.\r\n",
      "See 'docker run --help'.\r\n"
     ]
    }
   ],
   "source": [
    "! docker run --net=host --rm --name redis -d redis"
   ]
  },
  {
   "cell_type": "code",
   "execution_count": 2,
   "metadata": {},
   "outputs": [
    {
     "name": "stdout",
     "output_type": "stream",
     "text": [
      "docker: Error response from daemon: Conflict. The container name \"/mysql\" is already in use by container \"9b0e4045241896f22e60a92d695fcdb8ffa0b35423c1265e307e1193a6eaadb3\". You have to remove (or rename) that container to be able to reuse that name.\r\n",
      "See 'docker run --help'.\r\n"
     ]
    }
   ],
   "source": [
    "! docker run --name=mysql --net=host --rm --env MYSQL_ROOT_PASSWORD=root123 --env MYSQL_DATABASE=test --env MYSQL_USER=test --env MYSQL_PASSWORD=test123 -d mysql/mysql-server:8.0"
   ]
  },
  {
   "cell_type": "code",
   "execution_count": 3,
   "metadata": {},
   "outputs": [
    {
     "name": "stdout",
     "output_type": "stream",
     "text": [
      "Done.\r\n"
     ]
    }
   ],
   "source": [
    "! while ! timeout 1 bash -c \"echo > /dev/tcp/localhost/6379\" 2> /dev/null; do sleep 1; done; echo \"Done.\";"
   ]
  },
  {
   "cell_type": "code",
   "execution_count": 4,
   "metadata": {},
   "outputs": [
    {
     "name": "stdout",
     "output_type": "stream",
     "text": [
      "Done.\r\n"
     ]
    }
   ],
   "source": [
    "! while ! timeout 1 bash -c \"echo > /dev/tcp/localhost/3306\" 2> /dev/null; do sleep 1; done; echo \"Done.\";"
   ]
  },
  {
   "cell_type": "markdown",
   "metadata": {},
   "source": [
    "Edit the code:"
   ]
  },
  {
   "cell_type": "code",
   "execution_count": null,
   "metadata": {},
   "outputs": [
    {
     "name": "stdout",
     "output_type": "stream",
     "text": [
      "Info  | RdCoroutineScope          | 14:JobScheduler FJ pool 2/3 | RdCoroutineHost overridden \n",
      "2023-04-20 18:43:49,877 [   4993]   WARN - #c.i.o.a.i.ActionUpdater - 491 ms to grab EDT for CWMTelephonyGroup#update@NavBarToolbar (com.jetbrains.rd.platform.codeWithMe.telephony.CWMTelephonyGroup)\n",
      "2023-04-20 18:43:50,100 [   5216]   WARN - #c.i.o.a.i.ActionUpdater - 121 ms to call on EDT SpaceMainToolBarAction#update@NavBarToolbar (com.intellij.space.vcs.actions.SpaceMainToolBarAction). Use `ActionUpdateThread.BGT`.\n",
      "2023-04-20 18:43:55,263 [  10379]   WARN - #c.i.o.a.i.ActionUpdater - 1257 ms to grab EDT for CWMTelephonyGroup#update@NavBarToolbar (com.jetbrains.rd.platform.codeWithMe.telephony.CWMTelephonyGroup)\n",
      "2023-04-20 18:43:55,628 [  10744]   WARN - #c.i.o.a.i.ActionUpdater - 313 ms to grab EDT for GitCommitWithStagingAreaAction#update@NavBarToolbar (git4idea.index.actions.GitCommitWithStagingAreaAction)\n",
      "2023-04-20 18:44:13,999 [  29115]   WARN - #c.j.p.PhpIndex - Invalid Signature '\\Doctrine\\Instantiator\\class-string<#ᢐ\\T.>'\n",
      "2023-04-20 19:09:54,112 [1569228]   WARN - c.j.t.e.JediEmulator - Unhandled Control Sequence (parsed: ESC[>4;2m, raw: ESC[>4;2m)\n",
      "2023-04-20 19:09:54,112 [1569228]   WARN - c.j.t.e.JediEmulator - Unhandled Control Sequence (parsed: ESC[?1004h, raw: ESC[?1004h)\n",
      "2023-04-20 19:09:54,113 [1569229]   WARN - c.j.t.e.JediEmulator - Unknown character attribute:29\n",
      "2023-04-20 19:09:54,118 [1569234]   WARN - c.j.t.e.JediEmulator - Error processing DCS: ESCPzzESC\\\n",
      "2023-04-20 19:09:54,133 [1569249]   WARN - c.j.t.e.JediEmulator - Unknown character attribute:29\n",
      "2023-04-20 19:10:05,593 [1580709]   WARN - c.j.t.e.JediEmulator - Unhandled Control Sequence (parsed: ESC[>4;0m, raw: ESC[>4;m)\n",
      "2023-04-20 19:10:05,596 [1580712]   WARN - c.j.t.e.JediEmulator - Unhandled Control Sequence (parsed: ESC[?1004l, raw: ESC[?1004l)\n",
      "2023-04-20 19:10:05,597 [1580713]   WARN - c.j.t.e.JediEmulator - Unhandled Control Sequence (parsed: ESC[>4;0m, raw: ESC[>4;m)\n",
      "2023-04-20 19:40:06,233 [3381349]   WARN - #c.j.p.PhpIndex - Invalid Signature '\\ReflectionClass<#ᢐ\\T.>'\n",
      "2023-04-20 19:40:06,244 [3381360]   WARN - #c.j.p.PhpIndex - Invalid Signature '\\callable<#ᢐ\\T.>'\n",
      "2023-04-20 19:40:06,436 [3381552]   WARN - #c.j.p.PhpIndex - Invalid Signature '\\ReflectionClass'\n",
      "2023-04-20 19:40:06,479 [3381595]   WARN - #c.j.p.PhpIndex - Invalid Signature '\\callable'\n"
     ]
    }
   ],
   "source": [
    "! phpstorm project"
   ]
  },
  {
   "cell_type": "markdown",
   "metadata": {},
   "source": [
    "You can test your solution using included tests:"
   ]
  },
  {
   "cell_type": "code",
   "execution_count": 6,
   "metadata": {},
   "outputs": [
    {
     "name": "stdout",
     "output_type": "stream",
     "text": [
      "\u001b[32mChanged current directory to /home/student/.composer\u001b[39m\n",
      "\u001b[32mInfo from https://repo.packagist.org: \u001b[37;44m#StandWith\u001b[30;43mUkraine\u001b[0m\u001b[39m\n",
      "Using version \u001b[32m^3.16\u001b[39m for \u001b[32mfriendsofphp/php-cs-fixer\u001b[39m\n",
      "Using version \u001b[32m^1.10\u001b[39m for \u001b[32mphpstan/phpstan\u001b[39m\n",
      "Using version \u001b[32m^6.0\u001b[39m for \u001b[32msebastian/phpcpd\u001b[39m\n",
      "\u001b[32m./composer.json has been updated\u001b[39m\n",
      "\u001b[32mRunning composer update friendsofphp/php-cs-fixer phpstan/phpstan sebastian/phpcpd\u001b[39m\n",
      "\u001b[32mLoading composer repositories with package information\u001b[39m\n",
      "\u001b[32mUpdating dependencies\u001b[39m\n",
      "Nothing to modify in lock file\n",
      "\u001b[32mInstalling dependencies from lock file (including require-dev)\u001b[39m\n",
      "Nothing to install, update or remove\n",
      "\u001b[30;43mPackage sebastian/phpcpd is abandoned, you should avoid using it. No replacement was suggested.\u001b[39;49m\n",
      "\u001b[32mGenerating autoload files\u001b[39m\n",
      "\u001b[32m29 packages you are using are looking for funding.\u001b[39m\n",
      "\u001b[32mUse the `composer fund` command to find out more!\u001b[39m\n",
      "\u001b[32mNo security vulnerability advisories found\u001b[39m\n"
     ]
    }
   ],
   "source": [
    "! composer global require friendsofphp/php-cs-fixer phpstan/phpstan sebastian/phpcpd"
   ]
  },
  {
   "cell_type": "code",
   "execution_count": 10,
   "metadata": {},
   "outputs": [
    {
     "name": "stdout",
     "output_type": "stream",
     "text": [
      "/home/student/Desktop/PHP_Szymon_Cogiel/php_2022_szymon_cogiel/06_dependency_manager/02_exercise\n"
     ]
    }
   ],
   "source": [
    "%cd .."
   ]
  },
  {
   "cell_type": "code",
   "execution_count": 7,
   "metadata": {},
   "outputs": [
    {
     "name": "stdout",
     "output_type": "stream",
     "text": [
      "/home/student/Desktop/PHP_Szymon_Cogiel/php_2022_szymon_cogiel/06_dependency_manager/02_exercise/project\n"
     ]
    }
   ],
   "source": [
    "%cd project"
   ]
  },
  {
   "cell_type": "code",
   "execution_count": 8,
   "metadata": {},
   "outputs": [
    {
     "name": "stdout",
     "output_type": "stream",
     "text": [
      "\u001b[32mInstalling dependencies from lock file (including require-dev)\u001b[39m\r\n",
      "\u001b[32mVerifying lock file contents can be installed on current platform.\u001b[39m\r\n",
      "Nothing to install, update or remove\r\n",
      "\u001b[32mGenerating autoload files\u001b[39m\r\n",
      "\u001b[32m2 packages you are using are looking for funding.\u001b[39m\r\n",
      "\u001b[32mUse the `composer fund` command to find out more!\u001b[39m\r\n"
     ]
    }
   ],
   "source": [
    "! composer install"
   ]
  },
  {
   "cell_type": "code",
   "execution_count": 9,
   "metadata": {},
   "outputs": [
    {
     "name": "stdout",
     "output_type": "stream",
     "text": [
      "Loaded config \u001b[33mdefault\u001b[39m.\r\n",
      "Using cache file \".php-cs-fixer.cache\".\r\n",
      "   1) src/Printer/Printer.php\r\n",
      "\u001b[33m      ---------- begin diff ----------\u001b[39m\r\n",
      "\u001b[31m--- /home/student/Desktop/PHP_Szymon_Cogiel/php_2022_szymon_cogiel/06_dependency_manager/02_exercise/project/src/Printer/Printer.php\u001b[39m\r\n",
      "\u001b[32m+++ /home/student/Desktop/PHP_Szymon_Cogiel/php_2022_szymon_cogiel/06_dependency_manager/02_exercise/project/src/Printer/Printer.php\u001b[39m\r\n",
      "\u001b[36m@@ -2,8 +2,10 @@\u001b[39m\r\n",
      " \r\n",
      " namespace Printer;\r\n",
      " \r\n",
      "\u001b[31m-class Printer {\u001b[39m\r\n",
      "\u001b[31m-    public function printText(string $text): void {\u001b[39m\r\n",
      "\u001b[32m+class Printer\u001b[39m\r\n",
      "\u001b[32m+{\u001b[39m\r\n",
      "\u001b[32m+    public function printText(string $text): void\u001b[39m\r\n",
      "\u001b[32m+    {\u001b[39m\r\n",
      "         echo $text;\r\n",
      "     }\r\n",
      " }\r\n",
      "\r\n",
      "\u001b[33m      ----------- end diff -----------\u001b[39m\r\n",
      "\r\n",
      "   2) src/App.php\r\n",
      "\u001b[33m      ---------- begin diff ----------\u001b[39m\r\n",
      "\u001b[31m--- /home/student/Desktop/PHP_Szymon_Cogiel/php_2022_szymon_cogiel/06_dependency_manager/02_exercise/project/src/App.php\u001b[39m\r\n",
      "\u001b[32m+++ /home/student/Desktop/PHP_Szymon_Cogiel/php_2022_szymon_cogiel/06_dependency_manager/02_exercise/project/src/App.php\u001b[39m\r\n",
      "\u001b[36m@@ -49,4 +49,4 @@\u001b[39m\r\n",
      "     {\r\n",
      "         $widget->draw();\r\n",
      "     }\r\n",
      "\u001b[31m-}\u001b[39m\r\n",
      "\\ No newline at end of file\r\n",
      "\u001b[32m+}\u001b[39m\r\n",
      "\r\n",
      "\u001b[33m      ----------- end diff -----------\u001b[39m\r\n",
      "\r\n",
      "\r\n",
      "Found 2 of 16 files that can be fixed in 0.012 seconds, 14.000 MB memory used\r\n"
     ]
    }
   ],
   "source": [
    "! ~/.composer/vendor/bin/php-cs-fixer fix --diff --dry-run ."
   ]
  },
  {
   "cell_type": "code",
   "execution_count": null,
   "metadata": {},
   "outputs": [],
   "source": [
    "! ~/.composer/vendor/bin/phpstan analyze --xdebug --level max public/ src/"
   ]
  },
  {
   "cell_type": "code",
   "execution_count": null,
   "metadata": {},
   "outputs": [],
   "source": [
    "%cd ../"
   ]
  },
  {
   "cell_type": "code",
   "execution_count": null,
   "metadata": {},
   "outputs": [],
   "source": [
    "import subprocess\n",
    "phpServer = subprocess.Popen(['php', '-S', 'localhost:8888', '-t', 'project/public'])"
   ]
  },
  {
   "cell_type": "code",
   "execution_count": null,
   "metadata": {},
   "outputs": [],
   "source": [
    "! cd tests && composer install && vendor/bin/codecept run"
   ]
  },
  {
   "cell_type": "code",
   "execution_count": null,
   "metadata": {},
   "outputs": [],
   "source": [
    "phpServer.kill()"
   ]
  },
  {
   "cell_type": "code",
   "execution_count": null,
   "metadata": {},
   "outputs": [],
   "source": [
    "! cd project && ~/.composer/vendor/bin/phpcpd --fuzzy --min-lines 1 --min-tokens 10 public/ src/"
   ]
  },
  {
   "cell_type": "markdown",
   "metadata": {},
   "source": [
    "Stop the databses:"
   ]
  },
  {
   "cell_type": "code",
   "execution_count": null,
   "metadata": {},
   "outputs": [],
   "source": [
    "! docker container stop redis"
   ]
  },
  {
   "cell_type": "code",
   "execution_count": null,
   "metadata": {},
   "outputs": [],
   "source": [
    "! docker container stop mysql"
   ]
  }
 ],
 "metadata": {
  "kernelspec": {
   "display_name": "Python 3 (ipykernel)",
   "language": "python",
   "name": "python3"
  },
  "language_info": {
   "codemirror_mode": {
    "name": "ipython",
    "version": 3
   },
   "file_extension": ".py",
   "mimetype": "text/x-python",
   "name": "python",
   "nbconvert_exporter": "python",
   "pygments_lexer": "ipython3",
   "version": "3.10.4"
  }
 },
 "nbformat": 4,
 "nbformat_minor": 4
}
