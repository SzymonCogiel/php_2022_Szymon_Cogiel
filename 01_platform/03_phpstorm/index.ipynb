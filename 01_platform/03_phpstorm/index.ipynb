{
 "cells": [
  {
   "cell_type": "markdown",
   "metadata": {},
   "source": [
    "# PHP 2022"
   ]
  },
  {
   "cell_type": "markdown",
   "metadata": {},
   "source": [
    "## 1. Platform"
   ]
  },
  {
   "cell_type": "markdown",
   "metadata": {},
   "source": [
    "### 1.3. PhpStorm"
   ]
  },
  {
   "cell_type": "markdown",
   "metadata": {},
   "source": [
    "To be able to use the PhpStorm IDE you have to create free academic account. That can be done throgh the [JetBrains Products for Learning](https://www.jetbrains.com/shop/eform/students) page. You should use an email address in the **agh.edu.pl** domain."
   ]
  },
  {
   "cell_type": "markdown",
   "metadata": {},
   "source": [
    "#### Initial Setup"
   ]
  },
  {
   "cell_type": "markdown",
   "metadata": {},
   "source": [
    "Let's create new directory with single PHP file and open the directory using PhpStorm. When IDE starts add following code:"
   ]
  },
  {
   "cell_type": "markdown",
   "metadata": {},
   "source": [
    "```php\n",
    "<?php\n",
    "\n",
    "$i = 10;\n",
    "$i = $i + 10;\n",
    "echo \"Result: <strong>$i</strong>\";\n",
    "```"
   ]
  },
  {
   "cell_type": "markdown",
   "metadata": {},
   "source": [
    "When done, close the editor."
   ]
  },
  {
   "cell_type": "code",
   "execution_count": 1,
   "metadata": {},
   "outputs": [
    {
     "name": "stdout",
     "output_type": "stream",
     "text": [
      "2023-03-02 18:03:45,890 [     38]   WARN - j.u.prefs - Prefs file removed in background /home/student/.java/.userPrefs/prefs.xml\n",
      "Info  | RdCoroutineScope          | 13:JobScheduler FJ pool 1/3 | RdCoroutineHost overridden \n"
     ]
    }
   ],
   "source": [
    "! mkdir project && touch project/index.php && phpstorm project"
   ]
  },
  {
   "cell_type": "markdown",
   "metadata": {},
   "source": [
    "<img src=\"01_initial/01_user_agreement.jpg\"/>\n",
    "<img src=\"01_initial/02_data_sharing.jpg\"/>\n",
    "<img src=\"01_initial/03_trust_project.jpg\"/>\n",
    "<img src=\"01_initial/04_login_to_jetbrains_account.jpg\"/>\n",
    "<img src=\"01_initial/05_sign_in.jpg\"/>\n",
    "<img src=\"01_initial/06_do_not_save_password.jpg\"/>\n",
    "<img src=\"01_initial/07_close_browser.jpg\"/>\n",
    "<img src=\"01_initial/08_activate.jpg\"/>\n",
    "<img src=\"01_initial/09_continue.jpg\"/>\n",
    "<img src=\"01_initial/10_add_code_and_exit.jpg\"/>\n",
    "<img src=\"01_initial/11_do_not_ask_again.jpg\"/>"
   ]
  },
  {
   "cell_type": "markdown",
   "metadata": {},
   "source": [
    "Now you should be able to run the code:"
   ]
  },
  {
   "cell_type": "code",
   "execution_count": 2,
   "metadata": {},
   "outputs": [
    {
     "name": "stdout",
     "output_type": "stream",
     "text": [
      "Result: <strong>20</strong>"
     ]
    }
   ],
   "source": [
    "! php project/index.php"
   ]
  },
  {
   "cell_type": "markdown",
   "metadata": {},
   "source": [
    "All the project files are stored inside the **.idea** directory:"
   ]
  },
  {
   "cell_type": "code",
   "execution_count": 3,
   "metadata": {},
   "outputs": [
    {
     "name": "stdout",
     "output_type": "stream",
     "text": [
      "total 16\r\n",
      "drwxr-xr-x  3 student student 4096 Mar  2 18:12 .\r\n",
      "drwxrwxr-x 11 student student 4096 Mar  2 18:05 ..\r\n",
      "drwxr-xr-x  2 student student 4096 Mar  2 18:12 .idea\r\n",
      "-rw-r--r--  1 student student   65 Mar  2 18:12 index.php\r\n"
     ]
    }
   ],
   "source": [
    "! ls -la project"
   ]
  },
  {
   "cell_type": "markdown",
   "metadata": {},
   "source": [
    "You can remove this direrectory if something wrong happens in the IDE.\n",
    "\n",
    "When opening project for the second time it should restore previous state."
   ]
  },
  {
   "cell_type": "markdown",
   "metadata": {},
   "source": [
    "#### Configuring the PHP Interpreter"
   ]
  },
  {
   "cell_type": "markdown",
   "metadata": {},
   "source": [
    "To run the code from inside the IDE we can configure the PHP interpreter:"
   ]
  },
  {
   "cell_type": "code",
   "execution_count": 4,
   "metadata": {},
   "outputs": [
    {
     "name": "stdout",
     "output_type": "stream",
     "text": [
      "Info  | RdCoroutineScope          | 13:JobScheduler FJ pool 1/3 | RdCoroutineHost overridden \n",
      "2023-03-02 18:13:44,899 [   5205]   WARN - #c.i.o.a.i.ActionUpdater - 293 ms to grab EDT for CWMTelephonyGroup#update@NavBarToolbar (com.jetbrains.rd.platform.codeWithMe.telephony.CWMTelephonyGroup)\n",
      "2023-03-02 18:13:47,069 [   7375]   WARN - #c.i.o.a.i.ActionUpdater - 771 ms to grab EDT for UndoAction#update@MainMenu (com.intellij.ide.actions.UndoAction)\n",
      "2023-03-02 18:13:47,671 [   7977]   WARN - #c.i.o.a.i.ActionUpdater - 363 ms to grab EDT for CWMTelephonyGroup#update@NavBarToolbar (com.jetbrains.rd.platform.codeWithMe.telephony.CWMTelephonyGroup)\n",
      "2023-03-02 18:14:28,777 [  49083]   WARN - #c.i.o.a.i.ActionToolbarImpl - 'PhpInterpreterToolbar' toolbar by default uses any focused component to update its actions. Toolbar actions that need local UI context would be incorrectly disabled. Please call toolbar.setTargetComponent() explicitly.\n",
      "java.lang.Throwable: toolbar creation trace\n",
      "\tat com.intellij.openapi.actionSystem.impl.ActionToolbarImpl.<init>(ActionToolbarImpl.java:115)\n",
      "\tat com.intellij.openapi.actionSystem.impl.ActionToolbarImpl.<init>(ActionToolbarImpl.java:173)\n",
      "\tat com.intellij.openapi.actionSystem.impl.ActionManagerImpl.createActionToolbar(ActionManagerImpl.java:445)\n",
      "\tat com.intellij.openapi.actionSystem.impl.ActionManagerImpl.createActionToolbar(ActionManagerImpl.java:440)\n",
      "\tat com.jetbrains.php.ui.PhpUiUtil.createHorizontalActionsToolbar(PhpUiUtil.java:154)\n",
      "\tat com.jetbrains.php.config.interpreters.PhpInterpreterComponent.init(PhpInterpreterComponent.java:163)\n",
      "\tat com.jetbrains.php.config.interpreters.PhpLocalInterpreterComponent.init(PhpLocalInterpreterComponent.java:74)\n",
      "\tat com.jetbrains.php.config.interpreters.PhpLocalInterpreterComponent.<init>(PhpLocalInterpreterComponent.java:69)\n",
      "\tat com.jetbrains.php.config.interpreters.PhpInterpreterConfigurable.init(PhpInterpreterConfigurable.java:52)\n",
      "\tat com.jetbrains.php.config.interpreters.PhpInterpreterConfigurable.<init>(PhpInterpreterConfigurable.java:35)\n",
      "\tat com.jetbrains.php.config.interpreters.PhpInterpretersConfigurable.lambda$new$4(PhpInterpretersConfigurable.java:80)\n",
      "\tat com.jetbrains.php.ui.PhpNamedCloneableItemsListEditor$MyItemConfigurable.<init>(PhpNamedCloneableItemsListEditor.java:329)\n",
      "\tat com.jetbrains.php.ui.PhpNamedCloneableItemsListEditor.addNewNode(PhpNamedCloneableItemsListEditor.java:234)\n",
      "\tat com.jetbrains.php.ui.PhpNamedCloneableItemsListEditor.onItemCreated(PhpNamedCloneableItemsListEditor.java:525)\n",
      "\tat com.jetbrains.php.config.interpreters.PhpInterpretersConfigurable.access$000(PhpInterpretersConfigurable.java:42)\n",
      "\tat com.jetbrains.php.config.interpreters.PhpInterpretersConfigurable$2$1.createFromFilePath(PhpInterpretersConfigurable.java:127)\n",
      "\tat com.jetbrains.php.config.interpreters.PhpInterpretersConfigurable$PhpInterpreterChooser.lambda$onChosen$0(PhpInterpretersConfigurable.java:296)\n",
      "\tat com.intellij.openapi.application.TransactionGuardImpl.performActivity(TransactionGuardImpl.java:105)\n",
      "\tat com.intellij.openapi.application.TransactionGuardImpl.performUserActivity(TransactionGuardImpl.java:94)\n",
      "\tat com.intellij.ui.popup.AbstractPopup.lambda$dispose$18(AbstractPopup.java:1543)\n",
      "\tat com.intellij.util.ui.EdtInvocationManager.invokeLaterIfNeeded(EdtInvocationManager.java:113)\n",
      "\tat com.intellij.ide.IdeEventQueue.ifFocusEventsInTheQueue(IdeEventQueue.java:180)\n",
      "\tat com.intellij.ide.IdeEventQueue.executeWhenAllFocusEventsLeftTheQueue(IdeEventQueue.java:133)\n",
      "\tat com.intellij.openapi.wm.impl.FocusManagerImpl.doWhenFocusSettlesDown(FocusManagerImpl.java:164)\n",
      "\tat com.intellij.ui.popup.AbstractPopup.dispose(AbstractPopup.java:1540)\n",
      "\tat com.intellij.ui.popup.WizardPopup.dispose(WizardPopup.java:162)\n",
      "\tat com.intellij.ui.popup.list.ListPopupImpl.dispose(ListPopupImpl.java:326)\n",
      "\tat com.intellij.openapi.util.ObjectTree.runWithTrace(ObjectTree.java:126)\n",
      "\tat com.intellij.openapi.util.ObjectTree.executeAll(ObjectTree.java:158)\n",
      "\tat com.intellij.openapi.util.Disposer.dispose(Disposer.java:217)\n",
      "\tat com.intellij.openapi.util.Disposer.dispose(Disposer.java:205)\n",
      "\tat com.intellij.ui.popup.WizardPopup.disposeAllParents(WizardPopup.java:266)\n",
      "\tat com.intellij.ui.popup.list.ListPopupImpl.handleNextStep(ListPopupImpl.java:434)\n",
      "\tat com.intellij.ui.popup.list.ListPopupImpl._handleSelect(ListPopupImpl.java:406)\n",
      "\tat com.intellij.ui.popup.list.ListPopupImpl.handleSelect(ListPopupImpl.java:361)\n",
      "\tat com.intellij.ui.popup.list.ListPopupImpl$MyMouseListener.mouseReleased(ListPopupImpl.java:618)\n",
      "\tat java.desktop/java.awt.AWTEventMulticaster.mouseReleased(AWTEventMulticaster.java:298)\n",
      "\tat java.desktop/java.awt.Component.processMouseEvent(Component.java:6648)\n",
      "\tat java.desktop/javax.swing.JComponent.processMouseEvent(JComponent.java:3392)\n",
      "\tat com.intellij.ui.popup.list.ListPopupImpl$MyList.processMouseEvent(ListPopupImpl.java:694)\n",
      "\tat java.desktop/java.awt.Component.processEvent(Component.java:6413)\n",
      "\tat java.desktop/java.awt.Container.processEvent(Container.java:2266)\n",
      "\tat java.desktop/java.awt.Component.dispatchEventImpl(Component.java:5022)\n",
      "\tat java.desktop/java.awt.Container.dispatchEventImpl(Container.java:2324)\n",
      "\tat java.desktop/java.awt.Component.dispatchEvent(Component.java:4854)\n",
      "\tat java.desktop/java.awt.LightweightDispatcher.retargetMouseEvent(Container.java:4948)\n",
      "\tat java.desktop/java.awt.LightweightDispatcher.processMouseEvent(Container.java:4575)\n",
      "\tat java.desktop/java.awt.LightweightDispatcher.dispatchEvent(Container.java:4516)\n",
      "\tat java.desktop/java.awt.Container.dispatchEventImpl(Container.java:2310)\n",
      "\tat java.desktop/java.awt.Window.dispatchEventImpl(Window.java:2802)\n",
      "\tat java.desktop/java.awt.Component.dispatchEvent(Component.java:4854)\n",
      "\tat java.desktop/java.awt.EventQueue.dispatchEventImpl(EventQueue.java:781)\n",
      "\tat java.desktop/java.awt.EventQueue$4.run(EventQueue.java:730)\n",
      "\tat java.desktop/java.awt.EventQueue$4.run(EventQueue.java:724)\n",
      "\tat java.base/java.security.AccessController.doPrivileged(AccessController.java:399)\n",
      "\tat java.base/java.security.ProtectionDomain$JavaSecurityAccessImpl.doIntersectionPrivilege(ProtectionDomain.java:86)\n",
      "\tat java.base/java.security.ProtectionDomain$JavaSecurityAccessImpl.doIntersectionPrivilege(ProtectionDomain.java:97)\n",
      "\tat java.desktop/java.awt.EventQueue$5.run(EventQueue.java:754)\n",
      "\tat java.desktop/java.awt.EventQueue$5.run(EventQueue.java:752)\n",
      "\tat java.base/java.security.AccessController.doPrivileged(AccessController.java:399)\n",
      "\tat java.base/java.security.ProtectionDomain$JavaSecurityAccessImpl.doIntersectionPrivilege(ProtectionDomain.java:86)\n",
      "\tat java.desktop/java.awt.EventQueue.dispatchEvent(EventQueue.java:751)\n",
      "\tat com.intellij.ide.IdeEventQueue.defaultDispatchEvent(IdeEventQueue.java:918)\n",
      "\tat com.intellij.ide.IdeEventQueue.dispatchMouseEvent(IdeEventQueue.java:840)\n",
      "\tat com.intellij.ide.IdeEventQueue._dispatchEvent(IdeEventQueue.java:763)\n",
      "\tat com.intellij.ide.IdeEventQueue.lambda$dispatchEvent$6(IdeEventQueue.java:450)\n",
      "\tat com.intellij.openapi.progress.impl.CoreProgressManager.computePrioritized(CoreProgressManager.java:791)\n",
      "\tat com.intellij.ide.IdeEventQueue.lambda$dispatchEvent$7(IdeEventQueue.java:449)\n",
      "\tat com.intellij.openapi.application.TransactionGuardImpl.performActivity(TransactionGuardImpl.java:105)\n",
      "\tat com.intellij.ide.IdeEventQueue.performActivity(IdeEventQueue.java:624)\n",
      "\tat com.intellij.ide.IdeEventQueue.lambda$dispatchEvent$8(IdeEventQueue.java:447)\n",
      "\tat com.intellij.openapi.application.impl.ApplicationImpl.runIntendedWriteActionOnCurrentThread(ApplicationImpl.java:881)\n",
      "\tat com.intellij.ide.IdeEventQueue.dispatchEvent(IdeEventQueue.java:493)\n",
      "\tat java.desktop/java.awt.EventDispatchThread.pumpOneEventForFilters(EventDispatchThread.java:207)\n",
      "\tat java.desktop/java.awt.EventDispatchThread.pumpEventsForFilter(EventDispatchThread.java:128)\n",
      "\tat java.desktop/java.awt.EventDispatchThread.pumpEventsForFilter(EventDispatchThread.java:121)\n",
      "\tat java.desktop/java.awt.WaitDispatchSupport$2.run(WaitDispatchSupport.java:191)\n",
      "\tat java.desktop/java.awt.WaitDispatchSupport$4.run(WaitDispatchSupport.java:236)\n",
      "\tat java.desktop/java.awt.WaitDispatchSupport$4.run(WaitDispatchSupport.java:234)\n",
      "\tat java.base/java.security.AccessController.doPrivileged(AccessController.java:318)\n",
      "\tat java.desktop/java.awt.WaitDispatchSupport.enter(WaitDispatchSupport.java:234)\n",
      "\tat java.desktop/java.awt.Dialog.show(Dialog.java:1080)\n",
      "\tat com.intellij.openapi.ui.impl.DialogWrapperPeerImpl$MyDialog.show(DialogWrapperPeerImpl.java:712)\n",
      "\tat com.intellij.openapi.ui.impl.DialogWrapperPeerImpl.show(DialogWrapperPeerImpl.java:453)\n",
      "\tat com.intellij.openapi.ui.DialogWrapper.doShow(DialogWrapper.java:1672)\n",
      "\tat com.intellij.openapi.ui.DialogWrapper.show(DialogWrapper.java:1630)\n",
      "\tat com.intellij.openapi.ui.DialogWrapper.showAndGet(DialogWrapper.java:1644)\n",
      "\tat com.jetbrains.php.ui.PhpUiUtil.editConfigurable(PhpUiUtil.java:89)\n",
      "\tat com.jetbrains.php.config.PhpInterpreterConfigurationForm$2.actionPerformed(PhpInterpreterConfigurationForm.java:63)\n",
      "\tat java.desktop/javax.swing.AbstractButton.fireActionPerformed(AbstractButton.java:1972)\n",
      "\tat java.desktop/javax.swing.AbstractButton$Handler.actionPerformed(AbstractButton.java:2313)\n",
      "\tat java.desktop/javax.swing.DefaultButtonModel.fireActionPerformed(DefaultButtonModel.java:405)\n",
      "\tat java.desktop/javax.swing.DefaultButtonModel.setPressed(DefaultButtonModel.java:262)\n",
      "\tat java.desktop/javax.swing.plaf.basic.BasicButtonListener.mouseReleased(BasicButtonListener.java:279)\n",
      "\tat java.desktop/java.awt.AWTEventMulticaster.mouseReleased(AWTEventMulticaster.java:297)\n",
      "\tat java.desktop/java.awt.Component.processMouseEvent(Component.java:6648)\n",
      "\tat java.desktop/javax.swing.JComponent.processMouseEvent(JComponent.java:3392)\n",
      "\tat java.desktop/java.awt.Component.processEvent(Component.java:6413)\n",
      "\tat java.desktop/java.awt.Container.processEvent(Container.java:2266)\n",
      "\tat java.desktop/java.awt.Component.dispatchEventImpl(Component.java:5022)\n",
      "\tat java.desktop/java.awt.Container.dispatchEventImpl(Container.java:2324)\n",
      "\tat java.desktop/java.awt.Component.dispatchEvent(Component.java:4854)\n",
      "\tat java.desktop/java.awt.LightweightDispatcher.retargetMouseEvent(Container.java:4948)\n",
      "\tat java.desktop/java.awt.LightweightDispatcher.processMouseEvent(Container.java:4575)\n",
      "\tat java.desktop/java.awt.LightweightDispatcher.dispatchEvent(Container.java:4516)\n",
      "\tat java.desktop/java.awt.Container.dispatchEventImpl(Container.java:2310)\n",
      "\tat java.desktop/java.awt.Window.dispatchEventImpl(Window.java:2802)\n",
      "\tat java.desktop/java.awt.Component.dispatchEvent(Component.java:4854)\n",
      "\tat java.desktop/java.awt.EventQueue.dispatchEventImpl(EventQueue.java:781)\n",
      "\tat java.desktop/java.awt.EventQueue$4.run(EventQueue.java:730)\n",
      "\tat java.desktop/java.awt.EventQueue$4.run(EventQueue.java:724)\n",
      "\tat java.base/java.security.AccessController.doPrivileged(AccessController.java:399)\n",
      "\tat java.base/java.security.ProtectionDomain$JavaSecurityAccessImpl.doIntersectionPrivilege(ProtectionDomain.java:86)\n",
      "\tat java.base/java.security.ProtectionDomain$JavaSecurityAccessImpl.doIntersectionPrivilege(ProtectionDomain.java:97)\n",
      "\tat java.desktop/java.awt.EventQueue$5.run(EventQueue.java:754)\n",
      "\tat java.desktop/java.awt.EventQueue$5.run(EventQueue.java:752)\n",
      "\tat java.base/java.security.AccessController.doPrivileged(AccessController.java:399)\n",
      "\tat java.base/java.security.ProtectionDomain$JavaSecurityAccessImpl.doIntersectionPrivilege(ProtectionDomain.java:86)\n",
      "\tat java.desktop/java.awt.EventQueue.dispatchEvent(EventQueue.java:751)\n",
      "\tat com.intellij.ide.IdeEventQueue.defaultDispatchEvent(IdeEventQueue.java:918)\n",
      "\tat com.intellij.ide.IdeEventQueue.dispatchMouseEvent(IdeEventQueue.java:840)\n",
      "\tat com.intellij.ide.IdeEventQueue._dispatchEvent(IdeEventQueue.java:763)\n",
      "\tat com.intellij.ide.IdeEventQueue.lambda$dispatchEvent$6(IdeEventQueue.java:450)\n",
      "\tat com.intellij.openapi.progress.impl.CoreProgressManager.computePrioritized(CoreProgressManager.java:791)\n",
      "\tat com.intellij.ide.IdeEventQueue.lambda$dispatchEvent$7(IdeEventQueue.java:449)\n",
      "\tat com.intellij.openapi.application.TransactionGuardImpl.performActivity(TransactionGuardImpl.java:105)\n",
      "\tat com.intellij.ide.IdeEventQueue.performActivity(IdeEventQueue.java:624)\n",
      "\tat com.intellij.ide.IdeEventQueue.lambda$dispatchEvent$8(IdeEventQueue.java:447)\n",
      "\tat com.intellij.openapi.application.impl.ApplicationImpl.runIntendedWriteActionOnCurrentThread(ApplicationImpl.java:881)\n",
      "\tat com.intellij.ide.IdeEventQueue.dispatchEvent(IdeEventQueue.java:493)\n",
      "\tat java.desktop/java.awt.EventDispatchThread.pumpOneEventForFilters(EventDispatchThread.java:207)\n",
      "\tat java.desktop/java.awt.EventDispatchThread.pumpEventsForFilter(EventDispatchThread.java:128)\n",
      "\tat java.desktop/java.awt.EventDispatchThread.pumpEventsForFilter(EventDispatchThread.java:121)\n",
      "\tat java.desktop/java.awt.WaitDispatchSupport$2.run(WaitDispatchSupport.java:191)\n",
      "\tat java.desktop/java.awt.WaitDispatchSupport$4.run(WaitDispatchSupport.java:236)\n",
      "\tat java.desktop/java.awt.WaitDispatchSupport$4.run(WaitDispatchSupport.java:234)\n",
      "\tat java.base/java.security.AccessController.doPrivileged(AccessController.java:318)\n",
      "\tat java.desktop/java.awt.WaitDispatchSupport.enter(WaitDispatchSupport.java:234)\n",
      "\tat java.desktop/java.awt.Dialog.show(Dialog.java:1080)\n",
      "\tat com.intellij.openapi.ui.impl.DialogWrapperPeerImpl$MyDialog.show(DialogWrapperPeerImpl.java:712)\n",
      "\tat com.intellij.openapi.ui.impl.DialogWrapperPeerImpl.show(DialogWrapperPeerImpl.java:453)\n",
      "\tat com.intellij.openapi.ui.DialogWrapper.doShow(DialogWrapper.java:1672)\n",
      "\tat com.intellij.openapi.ui.DialogWrapper.show(DialogWrapper.java:1630)\n",
      "\tat com.intellij.ide.actions.ShowSettingsUtilImpl.showSettingsDialog(ShowSettingsUtilImpl.java:90)\n",
      "\tat com.intellij.ide.actions.ShowSettingsAction.perform(ShowSettingsAction.java:56)\n",
      "\tat com.intellij.ide.actions.ShowSettingsAction.actionPerformed(ShowSettingsAction.java:43)\n",
      "\tat com.intellij.openapi.actionSystem.ex.ActionUtil.doPerformActionOrShowPopup(ActionUtil.java:315)\n",
      "\tat com.intellij.openapi.actionSystem.ex.ActionUtil.lambda$performActionDumbAwareWithCallbacks$4(ActionUtil.java:294)\n",
      "\tat com.intellij.openapi.actionSystem.ex.ActionUtil.performDumbAwareWithCallbacks(ActionUtil.java:337)\n",
      "\tat com.intellij.openapi.actionSystem.ex.ActionUtil.performActionDumbAwareWithCallbacks(ActionUtil.java:294)\n",
      "\tat com.intellij.openapi.actionSystem.impl.ActionMenuItem.lambda$performAction$4(ActionMenuItem.java:293)\n",
      "\tat com.intellij.openapi.wm.impl.FocusManagerImpl.runOnOwnContext(FocusManagerImpl.java:227)\n",
      "\tat com.intellij.openapi.actionSystem.impl.ActionMenuItem.performAction(ActionMenuItem.java:286)\n",
      "\tat com.intellij.openapi.actionSystem.impl.ActionMenuItem.lambda$new$0(ActionMenuItem.java:67)\n",
      "\tat java.desktop/javax.swing.AbstractButton.fireActionPerformed(AbstractButton.java:1972)\n",
      "\tat com.intellij.openapi.actionSystem.impl.ActionMenuItem.lambda$fireActionPerformed$3(ActionMenuItem.java:109)\n",
      "\tat com.intellij.openapi.application.TransactionGuardImpl.performActivity(TransactionGuardImpl.java:105)\n",
      "\tat com.intellij.openapi.application.TransactionGuardImpl.performUserActivity(TransactionGuardImpl.java:94)\n",
      "\tat com.intellij.openapi.actionSystem.impl.ActionMenuItem.fireActionPerformed(ActionMenuItem.java:109)\n",
      "\tat com.intellij.ui.plaf.beg.BegMenuItemUI.doClick(BegMenuItemUI.java:546)\n",
      "\tat com.intellij.ui.plaf.beg.BegMenuItemUI$MyMouseInputHandler.mouseReleased(BegMenuItemUI.java:578)\n",
      "\tat java.desktop/java.awt.Component.processMouseEvent(Component.java:6648)\n",
      "\tat java.desktop/javax.swing.JComponent.processMouseEvent(JComponent.java:3392)\n",
      "\tat java.desktop/java.awt.Component.processEvent(Component.java:6413)\n",
      "\tat java.desktop/java.awt.Container.processEvent(Container.java:2266)\n",
      "\tat java.desktop/java.awt.Component.dispatchEventImpl(Component.java:5022)\n",
      "\tat java.desktop/java.awt.Container.dispatchEventImpl(Container.java:2324)\n",
      "\tat java.desktop/java.awt.Component.dispatchEvent(Component.java:4854)\n",
      "\tat java.desktop/java.awt.LightweightDispatcher.retargetMouseEvent(Container.java:4948)\n",
      "\tat java.desktop/java.awt.LightweightDispatcher.processMouseEvent(Container.java:4575)\n",
      "\tat java.desktop/java.awt.LightweightDispatcher.dispatchEvent(Container.java:4516)\n",
      "\tat java.desktop/java.awt.Container.dispatchEventImpl(Container.java:2310)\n",
      "\tat java.desktop/java.awt.Window.dispatchEventImpl(Window.java:2802)\n",
      "\tat java.desktop/java.awt.Component.dispatchEvent(Component.java:4854)\n",
      "\tat java.desktop/java.awt.EventQueue.dispatchEventImpl(EventQueue.java:781)\n",
      "\tat java.desktop/java.awt.EventQueue$4.run(EventQueue.java:730)\n",
      "\tat java.desktop/java.awt.EventQueue$4.run(EventQueue.java:724)\n",
      "\tat java.base/java.security.AccessController.doPrivileged(AccessController.java:399)\n",
      "\tat java.base/java.security.ProtectionDomain$JavaSecurityAccessImpl.doIntersectionPrivilege(ProtectionDomain.java:86)\n",
      "\tat java.base/java.security.ProtectionDomain$JavaSecurityAccessImpl.doIntersectionPrivilege(ProtectionDomain.java:97)\n",
      "\tat java.desktop/java.awt.EventQueue$5.run(EventQueue.java:754)\n",
      "\tat java.desktop/java.awt.EventQueue$5.run(EventQueue.java:752)\n",
      "\tat java.base/java.security.AccessController.doPrivileged(AccessController.java:399)\n",
      "\tat java.base/java.security.ProtectionDomain$JavaSecurityAccessImpl.doIntersectionPrivilege(ProtectionDomain.java:86)\n",
      "\tat java.desktop/java.awt.EventQueue.dispatchEvent(EventQueue.java:751)\n",
      "\tat com.intellij.ide.IdeEventQueue.defaultDispatchEvent(IdeEventQueue.java:918)\n",
      "\tat com.intellij.ide.IdeEventQueue.dispatchMouseEvent(IdeEventQueue.java:840)\n",
      "\tat com.intellij.ide.IdeEventQueue._dispatchEvent(IdeEventQueue.java:763)\n",
      "\tat com.intellij.ide.IdeEventQueue.lambda$dispatchEvent$6(IdeEventQueue.java:450)\n",
      "\tat com.intellij.openapi.progress.impl.CoreProgressManager.computePrioritized(CoreProgressManager.java:791)\n",
      "\tat com.intellij.ide.IdeEventQueue.lambda$dispatchEvent$7(IdeEventQueue.java:449)\n",
      "\tat com.intellij.openapi.application.TransactionGuardImpl.performActivity(TransactionGuardImpl.java:113)\n",
      "\tat com.intellij.ide.IdeEventQueue.performActivity(IdeEventQueue.java:624)\n",
      "\tat com.intellij.ide.IdeEventQueue.lambda$dispatchEvent$8(IdeEventQueue.java:447)\n",
      "\tat com.intellij.openapi.application.impl.ApplicationImpl.runIntendedWriteActionOnCurrentThread(ApplicationImpl.java:881)\n",
      "\tat com.intellij.ide.IdeEventQueue.dispatchEvent(IdeEventQueue.java:493)\n",
      "\tat java.desktop/java.awt.EventDispatchThread.pumpOneEventForFilters(EventDispatchThread.java:207)\n",
      "\tat java.desktop/java.awt.EventDispatchThread.pumpEventsForFilter(EventDispatchThread.java:128)\n",
      "\tat java.desktop/java.awt.EventDispatchThread.pumpEventsForHierarchy(EventDispatchThread.java:117)\n",
      "\tat java.desktop/java.awt.EventDispatchThread.pumpEvents(EventDispatchThread.java:113)\n",
      "\tat java.desktop/java.awt.EventDispatchThread.pumpEvents(EventDispatchThread.java:105)\n",
      "\tat java.desktop/java.awt.EventDispatchThread.run(EventDispatchThread.java:92)\n"
     ]
    },
    {
     "name": "stdout",
     "output_type": "stream",
     "text": [
      "2023-03-02 18:15:05,102 [  85408]   WARN - #c.i.o.o.e.ConfigurableCardPanel - auto-dispose 'PHP' id=reference.webide.settings.project.settings.php\n",
      "2023-03-02 18:15:05,103 [  85409]   WARN - #c.i.o.o.e.ConfigurableCardPanel - auto-dispose 'PHP' id=reference.webide.settings.project.settings.php\n",
      "2023-03-02 18:15:05,648 [  85954]   WARN - #c.i.u.x.Binding - no accessors for org.jetbrains.idea.perforce.perforce.ConnectionId\n",
      "^C\n"
     ]
    }
   ],
   "source": [
    "! phpstorm project"
   ]
  },
  {
   "cell_type": "markdown",
   "metadata": {},
   "source": [
    "<img src=\"02_interpreter/00_hide_hints.jpg\"/>\n",
    "<img src=\"02_interpreter/01_settings.jpg\"/>\n",
    "<img src=\"02_interpreter/02_interpreter_dot_dot_dot.jpg\"/>\n",
    "<img src=\"02_interpreter/03_add_interpreter.jpg\"/>\n",
    "<img src=\"02_interpreter/04_adding_interpreter.jpg\"/>\n",
    "<img src=\"02_interpreter/05_added_and_click_ok.jpg\"/>\n",
    "<img src=\"02_interpreter/06_select_version_8_1.jpg\"/>\n",
    "<img src=\"02_interpreter/07_ok.jpg\"/>\n",
    "<img src=\"02_interpreter/08_run_as_php_script.jpg\"/>\n",
    "<img src=\"02_interpreter/09_done.jpg\"/>"
   ]
  },
  {
   "cell_type": "markdown",
   "metadata": {},
   "source": [
    "#### Debugging simple scripts"
   ]
  },
  {
   "cell_type": "markdown",
   "metadata": {},
   "source": [
    "Debugging for simple scripts should work right out of the box:"
   ]
  },
  {
   "cell_type": "code",
   "execution_count": 5,
   "metadata": {},
   "outputs": [],
   "source": [
    "! phpstorm project"
   ]
  },
  {
   "cell_type": "markdown",
   "metadata": {},
   "source": [
    "<img src=\"03_cli_debug/01_add_breakpoint.jpg\"/>\n",
    "<img src=\"03_cli_debug/02_debug.jpg\"/>\n",
    "<img src=\"03_cli_debug/03_step_over.jpg\"/>\n",
    "<img src=\"03_cli_debug/04_set_value.jpg\"/>\n",
    "<img src=\"03_cli_debug/05_set_value.jpg\"/>\n",
    "<img src=\"03_cli_debug/06_continue.jpg\"/>\n",
    "<img src=\"03_cli_debug/07_outpt_and_exit.jpg\"/>"
   ]
  },
  {
   "cell_type": "markdown",
   "metadata": {},
   "source": [
    "#### Running webserver"
   ]
  },
  {
   "cell_type": "markdown",
   "metadata": {},
   "source": [
    "It is done in the same way as from the command line - using built-in PHP server:"
   ]
  },
  {
   "cell_type": "code",
   "execution_count": 7,
   "metadata": {
    "scrolled": true
   },
   "outputs": [
    {
     "name": "stdout",
     "output_type": "stream",
     "text": [
      "Info  | RdCoroutineScope          | 13:JobScheduler FJ pool 1/3 | RdCoroutineHost overridden \n",
      "2023-03-02 18:21:29,029 [   9696]   WARN - #c.i.o.a.i.ActionUpdater - 206 ms to grab EDT for BackAction#update@MainToolbar (com.intellij.ide.actions.BackAction)\n",
      "2023-03-02 18:22:28,395 [  69062]   WARN - #c.i.o.a.e.ActionUtil - Can not find action by id CompileDirty\n"
     ]
    }
   ],
   "source": [
    "! phpstorm project"
   ]
  },
  {
   "cell_type": "markdown",
   "metadata": {},
   "source": [
    "<img src=\"04_server/01_click_terminal.jpg\"/>\n",
    "<img src=\"04_server/02_click_link.jpg\"/>\n",
    "<img src=\"04_server/03_see_result_in_chrom_and_close_it.jpg\"/>\n",
    "<img src=\"04_server/04_exit.jpg\"/>"
   ]
  },
  {
   "cell_type": "markdown",
   "metadata": {},
   "source": [
    "#### Debugging in webserver"
   ]
  },
  {
   "cell_type": "code",
   "execution_count": null,
   "metadata": {
    "scrolled": true
   },
   "outputs": [
    {
     "name": "stdout",
     "output_type": "stream",
     "text": [
      "Info  | RdCoroutineScope          | 14:JobScheduler FJ pool 2/3 | RdCoroutineHost overridden \n",
      "2023-03-02 18:29:19,460 [   8339]   WARN - #c.i.o.a.i.ActionUpdater - 299 ms to grab EDT for CWMTelephonyGroup#update@NavBarToolbar (com.jetbrains.rd.platform.codeWithMe.telephony.CWMTelephonyGroup)\n",
      "2023-03-02 18:29:19,806 [   8685]   WARN - #c.i.o.a.i.ActionUpdater - 110 ms to call on EDT SpaceMainToolBarAction#update@NavBarToolbar (com.intellij.space.vcs.actions.SpaceMainToolBarAction). Use `ActionUpdateThread.BGT`.\n",
      "2023-03-02 18:29:20,175 [   9054]   WARN - #c.i.o.a.i.ActionUpdater - 359 ms to grab EDT for RedoAction#update@MainMenu (com.intellij.ide.actions.RedoAction)\n",
      "2023-03-02 18:29:22,224 [  11103]   WARN - #c.i.o.a.i.ActionUpdater - 2010 ms to grab EDT for ToolWindowsGroup#update@MainMenu (com.intellij.ide.actions.ToolWindowsGroup)\n",
      "2023-03-02 18:29:22,225 [  11104]   WARN - #c.i.o.a.i.ActionUpdater - 1476 ms to grab EDT for SpaceCopyLinkActionGroup#update@MainMenu (com.intellij.space.vcs.SpaceCopyLinkActionGroup)\n",
      "2023-03-02 18:29:22,226 [  11105]   WARN - #c.i.o.a.i.ActionUpdater - 1872 ms to call on BGT CopyReferencePopup#update@MainMenu (com.intellij.ide.actions.CopyReferencePopup)\n",
      "2023-03-02 18:29:24,657 [  13536]   WARN - #c.i.o.a.i.ActionUpdater - 514 ms to grab EDT for AttachToProcessAction#update@MainMenu (com.intellij.xdebugger.impl.actions.AttachToProcessAction)\n",
      "2023-03-02 18:29:24,668 [  13547]   WARN - #c.i.o.a.i.ActionUpdater - 422 ms to grab EDT for VagrantActionGroup#update@MainMenu (com.jetbrains.plugins.vagrant.actions.VagrantActionGroup)\n",
      "2023-03-02 18:29:24,949 [  13828]   WARN - #c.i.o.a.i.ActionUpdater - 241 ms to grab EDT for StepOverAction#update@MainMenu (com.intellij.xdebugger.impl.actions.StepOverAction)\n",
      "2023-03-02 18:29:24,949 [  13828]   WARN - #c.i.o.a.i.ActionUpdater - 277 ms to grab EDT for VagrantActionGroup#getChildren@MainMenu (com.jetbrains.plugins.vagrant.actions.VagrantActionGroup)\n",
      "2023-03-02 18:32:28,529 [ 197408]   WARN - #c.i.o.a.i.ActionUpdater - 234 ms to grab EDT for CWMTelephonyGroup#update@NavBarToolbar (com.jetbrains.rd.platform.codeWithMe.telephony.CWMTelephonyGroup)\n"
     ]
    }
   ],
   "source": [
    "! phpstorm project"
   ]
  },
  {
   "cell_type": "markdown",
   "metadata": {},
   "source": [
    "**Important!** Do not forget to click the telephone icon in the upper-right corner of the PhpStorm IDE."
   ]
  },
  {
   "cell_type": "markdown",
   "metadata": {},
   "source": [
    "<img src=\"05_web_debug/01_start_listening_for_connections.jpg\"/>\n",
    "<img src=\"05_web_debug/02_click_to_open_chrome.jpg\"/>\n",
    "<img src=\"05_web_debug/03_cick_on_extensions.jpg\"/>\n",
    "<img src=\"05_web_debug/04_pin_xdebug_helper.jpg\"/>\n",
    "<img src=\"05_web_debug/05_enable_xdebug_helper.jpg\"/>\n",
    "<img src=\"05_web_debug/06_refresh_the_page.jpg\"/>\n",
    "<img src=\"05_web_debug/07_accept_connection_in_phpstorm.jpg\"/>\n",
    "<img src=\"05_web_debug/08_step_over.jpg\"/>\n",
    "<img src=\"05_web_debug/09_set_value.jpg\"/>\n",
    "<img src=\"05_web_debug/10_set_value.jpg\"/>\n",
    "<img src=\"05_web_debug/11_resume.jpg\"/>\n",
    "<img src=\"05_web_debug/12_see_result_and_disable_xdebug_helper.jpg\"/>\n",
    "<img src=\"05_web_debug/13_reload_no_debug_triggered.jpg\"/>\n",
    "<img src=\"05_web_debug/14_close_chrome.jpg\"/>\n",
    "<img src=\"05_web_debug/15_close_debug_console.jpg\"/>\n",
    "<img src=\"05_web_debug/16_click_terminal.jpg\"/>\n",
    "<img src=\"05_web_debug/17_kill_server_and_stop_listening.jpg\"/>\n",
    "<img src=\"05_web_debug/18_close_phpstorm.jpg\"/>"
   ]
  },
  {
   "cell_type": "markdown",
   "metadata": {},
   "source": [
    "#### Configuring webserver run-configuration"
   ]
  },
  {
   "cell_type": "code",
   "execution_count": 1,
   "metadata": {},
   "outputs": [
    {
     "name": "stdout",
     "output_type": "stream",
     "text": [
      "Info  | RdCoroutineScope          | 13:JobScheduler FJ pool 1/3 | RdCoroutineHost overridden \n",
      "2023-03-02 18:36:21,939 [   9156]   WARN - #c.i.o.a.i.ActionUpdater - 463 ms to grab EDT for CWMTelephonyGroup#update@NavBarToolbar (com.jetbrains.rd.platform.codeWithMe.telephony.CWMTelephonyGroup)\n",
      "2023-03-02 18:36:21,939 [   9156]   WARN - #c.i.o.a.i.ActionUpdater - 313 ms to grab EDT for BackAction#update@MainToolbar (com.intellij.ide.actions.BackAction)\n"
     ]
    }
   ],
   "source": [
    "! phpstorm project"
   ]
  },
  {
   "cell_type": "markdown",
   "metadata": {},
   "source": [
    "<img src=\"06_webserver_config/01_edit_config.jpg\"/>\n",
    "<img src=\"06_webserver_config/02_add_new_configuration.jpg\"/>\n",
    "<img src=\"06_webserver_config/03_php_web_page.jpg\"/>\n",
    "<img src=\"06_webserver_config/04_enter_name_and_select_server_config.jpg\"/>\n",
    "<img src=\"06_webserver_config/05_add.jpg\"/>\n",
    "<img src=\"06_webserver_config/06_fill_config_and_ok.jpg\"/>\n",
    "<img src=\"06_webserver_config/07_ok.jpg\"/>\n",
    "<img src=\"06_webserver_config/08_run.jpg\"/>\n",
    "<img src=\"06_webserver_config/09_close_chrome.jpg\"/>\n",
    "<img src=\"06_webserver_config/10_debug.jpg\"/>\n",
    "<img src=\"06_webserver_config/11_chrome_is_waiting.jpg\"/>\n",
    "<img src=\"06_webserver_config/12_step_over.jpg\"/>\n",
    "<img src=\"06_webserver_config/13_chrome_still_waiting.jpg\"/>\n",
    "<img src=\"06_webserver_config/14_resume.jpg\"/>\n",
    "<img src=\"06_webserver_config/15_chrome_ready_close_it.jpg\"/>\n",
    "<img src=\"06_webserver_config/16_stop_debugging.jpg\"/>\n",
    "<img src=\"06_webserver_config/17_go_to_terminal.jpg\"/>\n",
    "<img src=\"06_webserver_config/18_stop_server_and_close_the_window.jpg\"/>"
   ]
  },
  {
   "cell_type": "markdown",
   "metadata": {},
   "source": [
    "#### Miscellaneous"
   ]
  },
  {
   "cell_type": "code",
   "execution_count": null,
   "metadata": {},
   "outputs": [
    {
     "name": "stdout",
     "output_type": "stream",
     "text": [
      "Info  | RdCoroutineScope          | 13:JobScheduler FJ pool 1/3 | RdCoroutineHost overridden \n",
      "2023-03-02 18:44:20,788 [   8102]   WARN - #c.i.o.a.i.ActionUpdater - 399 ms to grab EDT for BackAction#update@MainToolbar (com.intellij.ide.actions.BackAction)\n",
      "2023-03-02 18:44:21,011 [   8325]   WARN - #c.i.o.a.i.ActionUpdater - 221 ms to grab EDT for CWMTelephonyGroup#update@MainToolbar (com.jetbrains.rd.platform.codeWithMe.telephony.CWMTelephonyGroup)\n",
      "2023-03-02 18:44:59,479 [  46793]   WARN - #c.i.o.w.i.ToolWindowImpl - ToolWindow icons should be 13x13. Please fix ToolWindow (ID:  PHP-CGI Server) or icon RasterizedImageDataLoader(classLoader=PluginClassLoader(plugin=PluginDescriptor(name=PHP, id=com.jetbrains.php, descriptorPath=plugin.xml, path=/opt/PhpStorm-222.3739.61/plugins/php, version=222.3739.61, package=null, isBundled=true), packagePrefix=null, instanceId=101, state=active), path=icons/php-icon.svg)\n",
      "Initialize stderr logger, severity=LOGSEVERITY_DISABLE\n",
      "2023-03-02 18:46:56,035 [ 163349]   WARN - #c.i.o.o.e.ConfigurableCardPanel - auto-dispose 'PHP' id=reference.webide.settings.project.settings.php\n",
      "2023-03-02 18:46:56,037 [ 163351]   WARN - #c.i.o.o.e.ConfigurableCardPanel - auto-dispose 'PHP' id=reference.webide.settings.project.settings.php\n",
      "2023-03-02 18:46:56,698 [ 164012]   WARN - #c.i.u.x.Binding - no accessors for org.jetbrains.idea.perforce.perforce.ConnectionId\n",
      "2023-03-02 18:46:59,424 [ 166738]   WARN - #c.i.e.p.BaseOSProcessHandler - Process hasn't generated any output for a long time.\n",
      "If it's a long-running mostly idle daemon process, consider overriding OSProcessHandler#readerOptions with 'BaseOutputReader.Options.forMostlySilentProcess()' to reduce CPU usage.\n",
      "Command line: /bin/php-cgi -e -b 127.0.0.1:43733\n",
      "java.lang.Throwable: Process creation:\n",
      "\tat com.intellij.execution.process.BaseOSProcessHandler.<init>(BaseOSProcessHandler.java:33)\n",
      "\tat com.intellij.execution.process.OSProcessHandler.<init>(OSProcessHandler.java:45)\n",
      "\tat com.jetbrains.php.builtInWebServer.PhpCgiService.createProcessHandler(PhpCgiService.kt:80)\n",
      "\tat org.jetbrains.builtInWebServer.NetService$processHandler$1.doGetProcessHandler(NetService.kt:28)\n",
      "\tat org.jetbrains.builtInWebServer.NetService$processHandler$1.load(NetService.kt:38)\n",
      "\tat org.jetbrains.concurrency.AsyncValueLoader.getPromise(AsyncValueLoader.java:125)\n",
      "\tat org.jetbrains.concurrency.AsyncValueLoader.get(AsyncValueLoader.java:110)\n",
      "\tat org.jetbrains.concurrency.AsyncValueLoader.get(AsyncValueLoader.java:29)\n",
      "\tat org.jetbrains.io.fastCgi.FastCgiService.send(FastCgiService.kt:66)\n",
      "\tat com.jetbrains.php.builtInWebServer.PhpWebServerFileHandler.process(PhpWebServerFileHandler.kt:38)\n",
      "\tat org.jetbrains.builtInWebServer.DefaultWebServerPathHandler.process(DefaultWebServerPathHandler.kt:113)\n",
      "\tat org.jetbrains.builtInWebServer.BuiltInWebServerKt.doProcess(BuiltInWebServer.kt:249)\n",
      "\tat org.jetbrains.builtInWebServer.BuiltInWebServerKt.access$doProcess(BuiltInWebServer.kt:1)\n",
      "\tat org.jetbrains.builtInWebServer.BuiltInWebServer.process(BuiltInWebServer.kt:94)\n",
      "\tat org.jetbrains.io.DelegatingHttpRequestHandler$process$1.invoke(DelegatingHttpRequestHandler.kt:21)\n",
      "\tat org.jetbrains.io.DelegatingHttpRequestHandler$process$2.test(DelegatingHttpRequestHandler.kt:35)\n",
      "\tat org.jetbrains.io.DelegatingHttpRequestHandler$process$2.test(DelegatingHttpRequestHandler.kt:16)\n",
      "\tat com.intellij.openapi.extensions.impl.ExtensionProcessingHelper.lambda$findFirstSafe$0(ExtensionProcessingHelper.java:46)\n",
      "\tat com.intellij.openapi.extensions.impl.ExtensionProcessingHelper.computeSafeIfAny(ExtensionProcessingHelper.java:56)\n",
      "\tat com.intellij.openapi.extensions.impl.ExtensionProcessingHelper.findFirstSafe(ExtensionProcessingHelper.java:46)\n",
      "\tat com.intellij.openapi.extensions.ExtensionPointName.findFirstSafe(ExtensionPointName.java:50)\n",
      "\tat org.jetbrains.io.DelegatingHttpRequestHandler.process(DelegatingHttpRequestHandler.kt:34)\n",
      "\tat org.jetbrains.io.DelegatingHttpRequestHandlerBase.messageReceived(DelegatingHttpRequestHandlerBase.kt:15)\n",
      "\tat org.jetbrains.io.DelegatingHttpRequestHandlerBase.messageReceived(DelegatingHttpRequestHandlerBase.kt:11)\n",
      "\tat org.jetbrains.io.SimpleChannelInboundHandlerAdapter.channelRead0(SimpleChannelInboundHandlerAdapter.java:21)\n",
      "\tat io.netty.channel.SimpleChannelInboundHandler.channelRead(SimpleChannelInboundHandler.java:99)\n",
      "\tat io.netty.channel.AbstractChannelHandlerContext.invokeChannelRead(AbstractChannelHandlerContext.java:379)\n",
      "\tat io.netty.channel.AbstractChannelHandlerContext.invokeChannelRead(AbstractChannelHandlerContext.java:365)\n",
      "\tat io.netty.channel.AbstractChannelHandlerContext.fireChannelRead(AbstractChannelHandlerContext.java:357)\n",
      "\tat io.netty.handler.codec.http.cors.CorsHandler.channelRead(CorsHandler.java:95)\n",
      "\tat io.netty.channel.AbstractChannelHandlerContext.invokeChannelRead(AbstractChannelHandlerContext.java:379)\n",
      "\tat io.netty.channel.AbstractChannelHandlerContext.invokeChannelRead(AbstractChannelHandlerContext.java:365)\n",
      "\tat io.netty.channel.AbstractChannelHandlerContext.fireChannelRead(AbstractChannelHandlerContext.java:357)\n",
      "\tat io.netty.handler.codec.MessageToMessageDecoder.channelRead(MessageToMessageDecoder.java:103)\n",
      "\tat io.netty.channel.AbstractChannelHandlerContext.invokeChannelRead(AbstractChannelHandlerContext.java:379)\n",
      "\tat io.netty.channel.AbstractChannelHandlerContext.invokeChannelRead(AbstractChannelHandlerContext.java:365)\n",
      "\tat io.netty.channel.AbstractChannelHandlerContext.fireChannelRead(AbstractChannelHandlerContext.java:357)\n",
      "\tat io.netty.handler.codec.ByteToMessageDecoder.fireChannelRead(ByteToMessageDecoder.java:327)\n",
      "\tat io.netty.handler.codec.ByteToMessageDecoder.channelRead(ByteToMessageDecoder.java:299)\n",
      "\tat io.netty.channel.AbstractChannelHandlerContext.invokeChannelRead(AbstractChannelHandlerContext.java:379)\n",
      "\tat io.netty.channel.AbstractChannelHandlerContext.invokeChannelRead(AbstractChannelHandlerContext.java:365)\n",
      "\tat io.netty.channel.AbstractChannelHandlerContext.fireChannelRead(AbstractChannelHandlerContext.java:357)\n",
      "\tat org.jetbrains.io.PortUnificationServerHandler.decode(PortUnificationServerHandler.java:129)\n",
      "\tat org.jetbrains.io.PortUnificationServerHandler.messageReceived(PortUnificationServerHandler.java:76)\n",
      "\tat org.jetbrains.io.Decoder.channelRead(Decoder.java:24)\n",
      "\tat io.netty.channel.AbstractChannelHandlerContext.invokeChannelRead(AbstractChannelHandlerContext.java:379)\n",
      "\tat io.netty.channel.AbstractChannelHandlerContext.invokeChannelRead(AbstractChannelHandlerContext.java:365)\n",
      "\tat io.netty.channel.AbstractChannelHandlerContext.fireChannelRead(AbstractChannelHandlerContext.java:357)\n",
      "\tat io.netty.channel.DefaultChannelPipeline$HeadContext.channelRead(DefaultChannelPipeline.java:1410)\n",
      "\tat io.netty.channel.AbstractChannelHandlerContext.invokeChannelRead(AbstractChannelHandlerContext.java:379)\n",
      "\tat io.netty.channel.AbstractChannelHandlerContext.invokeChannelRead(AbstractChannelHandlerContext.java:365)\n",
      "\tat io.netty.channel.DefaultChannelPipeline.fireChannelRead(DefaultChannelPipeline.java:919)\n",
      "\tat io.netty.channel.nio.AbstractNioByteChannel$NioByteUnsafe.read(AbstractNioByteChannel.java:166)\n",
      "\tat io.netty.channel.nio.NioEventLoop.processSelectedKey(NioEventLoop.java:722)\n",
      "\tat io.netty.channel.nio.NioEventLoop.processSelectedKeysOptimized(NioEventLoop.java:658)\n",
      "\tat io.netty.channel.nio.NioEventLoop.processSelectedKeys(NioEventLoop.java:584)\n",
      "\tat io.netty.channel.nio.NioEventLoop.run(NioEventLoop.java:496)\n",
      "\tat io.netty.util.concurrent.SingleThreadEventExecutor$4.run(SingleThreadEventExecutor.java:986)\n",
      "\tat io.netty.util.internal.ThreadExecutorMap$2.run(ThreadExecutorMap.java:74)\n",
      "\tat io.netty.util.concurrent.FastThreadLocalRunnable.run(FastThreadLocalRunnable.java:30)\n",
      "\tat java.base/java.lang.Thread.run(Thread.java:833)\n"
     ]
    }
   ],
   "source": [
    "! phpstorm project"
   ]
  },
  {
   "cell_type": "markdown",
   "metadata": {},
   "source": [
    "<img src=\"07_misc/01_click_on_the_firefox_icon.jpg\"/>\n",
    "<img src=\"07_misc/02_click_fix.jpg\"/>\n",
    "<img src=\"07_misc/03_uncheck_firefox_and_save.jpg\"/>\n",
    "<img src=\"07_misc/04_click_ok.jpg\"/>\n",
    "<img src=\"07_misc/05_click_on_the_chrom_icon_to_run_throgh_the_fast_cgi.jpg\"/>\n",
    "<img src=\"07_misc/06_see_the_different_url_in_chrom_and_close_the_window.jpg\"/>\n",
    "<img src=\"07_misc/07_click_on_the_built_in_preview.jpg\"/>\n",
    "<img src=\"07_misc/08_close_the_hint.jpg\"/>\n",
    "<img src=\"07_misc/09_edit_code_preview_will_be_refreshed_on_save.jpg\"/>\n",
    "<img src=\"07_misc/10_go_to_settings.jpg\"/>\n",
    "<img src=\"07_misc/11_select_your_favorite_keymap.jpg\"/>\n",
    "<img src=\"07_misc/12_click_ok.jpg\"/>\n",
    "<img src=\"07_misc/13_add_some_library_function_call.jpg\"/>\n",
    "<img src=\"07_misc/14_after_clicking_f3_the_definition_is_shown.jpg\"/>\n",
    "<img src=\"07_misc/15_close.jpg\"/>"
   ]
  },
  {
   "cell_type": "code",
   "execution_count": null,
   "metadata": {},
   "outputs": [],
   "source": [
    "! rm -rf project"
   ]
  }
 ],
 "metadata": {
  "kernelspec": {
   "display_name": "Python 3 (ipykernel)",
   "language": "python",
   "name": "python3"
  },
  "language_info": {
   "codemirror_mode": {
    "name": "ipython",
    "version": 3
   },
   "file_extension": ".py",
   "mimetype": "text/x-python",
   "name": "python",
   "nbconvert_exporter": "python",
   "pygments_lexer": "ipython3",
   "version": "3.10.4"
  }
 },
 "nbformat": 4,
 "nbformat_minor": 4
}
