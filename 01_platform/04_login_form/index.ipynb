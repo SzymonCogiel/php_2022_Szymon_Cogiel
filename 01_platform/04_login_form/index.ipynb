{
 "cells": [
  {
   "cell_type": "markdown",
   "metadata": {},
   "source": [
    "# PHP 2022"
   ]
  },
  {
   "cell_type": "markdown",
   "metadata": {},
   "source": [
    "## 1. Platform"
   ]
  },
  {
   "cell_type": "markdown",
   "metadata": {},
   "source": [
    "### 1.4. Login Form"
   ]
  },
  {
   "cell_type": "markdown",
   "metadata": {},
   "source": [
    "The page should:\n",
    "\n",
    "1. Display login form\n",
    "2. Return ```EMPTY``` when either field was submitted without data\n",
    "3. Return ```ERROR``` when values are different than ```foo``` for user and ```foo123``` for password.\n",
    "4. Return ```OK``` when correct credentials are used\n",
    "\n",
    "Open PhpStorm to start editing the code:"
   ]
  },
  {
   "cell_type": "code",
   "execution_count": null,
   "metadata": {},
   "outputs": [
    {
     "name": "stdout",
     "output_type": "stream",
     "text": [
      "Info  | RdCoroutineScope          | 14:JobScheduler FJ pool 2/3 | RdCoroutineHost overridden \n",
      "2023-03-02 18:49:48,635 [   7845]   WARN - #c.i.o.a.i.ActionUpdater - 207 ms to grab EDT for BackAction#update@MainToolbar (com.intellij.ide.actions.BackAction)\n",
      "2023-03-02 18:49:52,786 [  11996]   WARN - #c.i.o.v.ExternallyAddedFilesProcessorImpl - Cannot find project config directory for non-default and non-directory based project project\n",
      "2023-03-02 18:52:17,652 [ 156862]   WARN - #c.i.o.v.ExternallyAddedFilesProcessorImpl - Cannot find project config directory for non-default and non-directory based project project\n",
      "2023-03-02 18:54:28,872 [ 288082]   WARN - #c.j.p.b.PhpCgiService - cannot find interpreter null\n",
      "2023-03-02 18:54:37,839 [ 297049]   WARN - #c.j.p.b.PhpCgiService - cannot find interpreter null\n",
      "2023-03-02 18:55:19,493 [ 338703]   WARN - #c.i.u.x.Binding - no accessors for org.jetbrains.idea.perforce.perforce.ConnectionId\n",
      "2023-03-02 18:55:35,997 [ 355207]   WARN - #c.j.p.b.PhpCgiService - cannot find interpreter null\n",
      "2023-03-02 18:55:37,986 [ 357196]   WARN - #c.j.p.b.PhpCgiService - cannot find interpreter null\n",
      "2023-03-02 18:55:54,965 [ 374175]   WARN - #c.j.p.b.PhpCgiService - cannot find interpreter null\n",
      "2023-03-02 18:55:56,735 [ 375945]   WARN - #c.j.p.b.PhpCgiService - cannot find interpreter null\n",
      "2023-03-02 18:57:35,626 [ 474836]   WARN - #c.j.p.b.PhpCgiService - cannot find interpreter null\n",
      "2023-03-02 18:58:22,118 [ 521328]   WARN - #c.j.p.b.PhpCgiService - cannot find interpreter null\n",
      "2023-03-02 18:59:09,337 [ 568547]   WARN - #c.i.o.a.i.ActionUpdater - 215 ms to grab EDT for SpaceMainToolBarAction#update@NavBarToolbar (com.intellij.space.vcs.actions.SpaceMainToolBarAction)\n",
      "2023-03-02 19:01:09,543 [ 688753]   WARN - #c.j.p.b.PhpCgiService - cannot find interpreter null\n",
      "2023-03-02 19:03:43,525 [ 842735]   WARN - #c.j.p.b.PhpCgiService - cannot find interpreter null\n",
      "2023-03-02 19:04:06,029 [ 865239]   WARN - #c.j.p.b.PhpCgiService - cannot find interpreter null\n",
      "2023-03-02 19:04:07,572 [ 866782]   WARN - #c.j.p.b.PhpCgiService - cannot find interpreter null\n",
      "2023-03-02 19:04:07,968 [ 867178]   WARN - #c.j.p.b.PhpCgiService - cannot find interpreter null\n",
      "2023-03-02 19:04:20,933 [ 880143]   WARN - #c.j.p.b.PhpCgiService - cannot find interpreter null\n",
      "2023-03-02 19:05:48,812 [ 968022]   WARN - #c.j.p.b.PhpCgiService - cannot find interpreter null\n",
      "2023-03-02 19:06:45,302 [1024512]   WARN - #c.j.p.b.PhpCgiService - cannot find interpreter null\n",
      "2023-03-02 19:06:47,274 [1026484]   WARN - #c.j.p.b.PhpCgiService - cannot find interpreter null\n",
      "2023-03-02 19:06:47,707 [1026917]   WARN - #c.j.p.b.PhpCgiService - cannot find interpreter null\n",
      "2023-03-02 19:06:47,877 [1027087]   WARN - #c.j.p.b.PhpCgiService - cannot find interpreter null\n",
      "2023-03-02 19:06:48,012 [1027222]   WARN - #c.j.p.b.PhpCgiService - cannot find interpreter null\n",
      "2023-03-02 19:08:39,110 [1138320]   WARN - #c.j.p.b.PhpCgiService - cannot find interpreter null\n",
      "2023-03-02 19:08:39,651 [1138861]   WARN - #c.j.p.b.PhpCgiService - cannot find interpreter null\n",
      "2023-03-02 19:14:15,555 [1474765]   WARN - #c.j.p.b.PhpCgiService - cannot find interpreter null\n",
      "2023-03-02 19:14:16,636 [1475846]   WARN - #c.j.p.b.PhpCgiService - cannot find interpreter null\n",
      "2023-03-02 19:14:17,420 [1476630]   WARN - #c.j.p.b.PhpCgiService - cannot find interpreter null\n",
      "2023-03-02 19:14:18,258 [1477468]   WARN - #c.j.p.b.PhpCgiService - cannot find interpreter null\n",
      "2023-03-02 19:14:21,237 [1480447]   WARN - #c.j.p.b.PhpCgiService - cannot find interpreter null\n",
      "2023-03-02 19:14:23,090 [1482300]   WARN - #c.j.p.b.PhpCgiService - cannot find interpreter null\n",
      "2023-03-02 19:17:49,772 [1688982]   WARN - #c.j.p.b.PhpCgiService - cannot find interpreter null\n",
      "2023-03-02 19:20:31,154 [1850364]   WARN - #c.j.p.b.PhpCgiService - cannot find interpreter null\n",
      "2023-03-02 19:20:46,730 [1865940]   WARN - #c.j.p.b.PhpCgiService - cannot find interpreter null\n",
      "2023-03-02 19:22:00,234 [1939444]   WARN - #c.j.p.b.PhpCgiService - cannot find interpreter null\n",
      "2023-03-02 19:22:27,878 [1967088]   WARN - #c.j.p.b.PhpCgiService - cannot find interpreter null\n",
      "2023-03-02 19:26:11,270 [2190480]   WARN - #c.j.p.b.PhpCgiService - cannot find interpreter null\n",
      "2023-03-02 19:30:46,229 [2465439]   WARN - #c.i.o.w.i.ToolWindowImpl - ToolWindow icons should be 13x13. Please fix ToolWindow (ID:  PHP-CGI Server) or icon RasterizedImageDataLoader(classLoader=PluginClassLoader(plugin=PluginDescriptor(name=PHP, id=com.jetbrains.php, descriptorPath=plugin.xml, path=/opt/PhpStorm-222.3739.61/plugins/php, version=222.3739.61, package=null, isBundled=true), packagePrefix=null, instanceId=101, state=active), path=icons/php-icon.svg)\n",
      "2023-03-02 19:32:37,041 [2576251]   WARN - #c.i.o.a.e.ActionUtil - Can not find action by id CompileDirty\n",
      "2023-03-02 19:32:46,229 [2585439]   WARN - #c.i.e.p.BaseOSProcessHandler - Process hasn't generated any output for a long time.\n",
      "If it's a long-running mostly idle daemon process, consider overriding OSProcessHandler#readerOptions with 'BaseOutputReader.Options.forMostlySilentProcess()' to reduce CPU usage.\n",
      "Command line: /bin/php-cgi -e -b 127.0.0.1:43063\n",
      "java.lang.Throwable: Process creation:\n",
      "\tat com.intellij.execution.process.BaseOSProcessHandler.<init>(BaseOSProcessHandler.java:33)\n",
      "\tat com.intellij.execution.process.OSProcessHandler.<init>(OSProcessHandler.java:45)\n",
      "\tat com.jetbrains.php.builtInWebServer.PhpCgiService.createProcessHandler(PhpCgiService.kt:80)\n",
      "\tat org.jetbrains.builtInWebServer.NetService$processHandler$1.doGetProcessHandler(NetService.kt:28)\n",
      "\tat org.jetbrains.builtInWebServer.NetService$processHandler$1.load(NetService.kt:38)\n",
      "\tat org.jetbrains.concurrency.AsyncValueLoader.getPromise(AsyncValueLoader.java:125)\n",
      "\tat org.jetbrains.concurrency.AsyncValueLoader.get(AsyncValueLoader.java:110)\n",
      "\tat org.jetbrains.concurrency.AsyncValueLoader.get(AsyncValueLoader.java:29)\n",
      "\tat org.jetbrains.io.fastCgi.FastCgiService.send(FastCgiService.kt:66)\n",
      "\tat com.jetbrains.php.builtInWebServer.PhpWebServerFileHandler.process(PhpWebServerFileHandler.kt:38)\n",
      "\tat org.jetbrains.builtInWebServer.DefaultWebServerPathHandler.process(DefaultWebServerPathHandler.kt:113)\n",
      "\tat org.jetbrains.builtInWebServer.BuiltInWebServerKt.doProcess(BuiltInWebServer.kt:249)\n",
      "\tat org.jetbrains.builtInWebServer.BuiltInWebServerKt.access$doProcess(BuiltInWebServer.kt:1)\n",
      "\tat org.jetbrains.builtInWebServer.BuiltInWebServer.process(BuiltInWebServer.kt:94)\n",
      "\tat org.jetbrains.io.DelegatingHttpRequestHandler$process$1.invoke(DelegatingHttpRequestHandler.kt:21)\n",
      "\tat org.jetbrains.io.DelegatingHttpRequestHandler.process(DelegatingHttpRequestHandler.kt:27)\n",
      "\tat org.jetbrains.io.DelegatingHttpRequestHandlerBase.messageReceived(DelegatingHttpRequestHandlerBase.kt:15)\n",
      "\tat org.jetbrains.io.DelegatingHttpRequestHandlerBase.messageReceived(DelegatingHttpRequestHandlerBase.kt:11)\n",
      "\tat org.jetbrains.io.SimpleChannelInboundHandlerAdapter.channelRead0(SimpleChannelInboundHandlerAdapter.java:21)\n",
      "\tat io.netty.channel.SimpleChannelInboundHandler.channelRead(SimpleChannelInboundHandler.java:99)\n",
      "\tat io.netty.channel.AbstractChannelHandlerContext.invokeChannelRead(AbstractChannelHandlerContext.java:379)\n",
      "\tat io.netty.channel.AbstractChannelHandlerContext.invokeChannelRead(AbstractChannelHandlerContext.java:365)\n",
      "\tat io.netty.channel.AbstractChannelHandlerContext.fireChannelRead(AbstractChannelHandlerContext.java:357)\n",
      "\tat io.netty.handler.codec.http.cors.CorsHandler.channelRead(CorsHandler.java:95)\n",
      "\tat io.netty.channel.AbstractChannelHandlerContext.invokeChannelRead(AbstractChannelHandlerContext.java:379)\n",
      "\tat io.netty.channel.AbstractChannelHandlerContext.invokeChannelRead(AbstractChannelHandlerContext.java:365)\n",
      "\tat io.netty.channel.AbstractChannelHandlerContext.fireChannelRead(AbstractChannelHandlerContext.java:357)\n",
      "\tat io.netty.handler.codec.MessageToMessageDecoder.channelRead(MessageToMessageDecoder.java:103)\n",
      "\tat io.netty.channel.AbstractChannelHandlerContext.invokeChannelRead(AbstractChannelHandlerContext.java:379)\n",
      "\tat io.netty.channel.AbstractChannelHandlerContext.invokeChannelRead(AbstractChannelHandlerContext.java:365)\n",
      "\tat io.netty.channel.AbstractChannelHandlerContext.fireChannelRead(AbstractChannelHandlerContext.java:357)\n",
      "\tat io.netty.handler.codec.ByteToMessageDecoder.fireChannelRead(ByteToMessageDecoder.java:327)\n",
      "\tat io.netty.handler.codec.ByteToMessageDecoder.channelRead(ByteToMessageDecoder.java:299)\n",
      "\tat io.netty.channel.AbstractChannelHandlerContext.invokeChannelRead(AbstractChannelHandlerContext.java:379)\n",
      "\tat io.netty.channel.AbstractChannelHandlerContext.invokeChannelRead(AbstractChannelHandlerContext.java:365)\n",
      "\tat io.netty.channel.AbstractChannelHandlerContext.fireChannelRead(AbstractChannelHandlerContext.java:357)\n",
      "\tat io.netty.channel.DefaultChannelPipeline$HeadContext.channelRead(DefaultChannelPipeline.java:1410)\n",
      "\tat io.netty.channel.AbstractChannelHandlerContext.invokeChannelRead(AbstractChannelHandlerContext.java:379)\n",
      "\tat io.netty.channel.AbstractChannelHandlerContext.invokeChannelRead(AbstractChannelHandlerContext.java:365)\n",
      "\tat io.netty.channel.DefaultChannelPipeline.fireChannelRead(DefaultChannelPipeline.java:919)\n",
      "\tat io.netty.channel.nio.AbstractNioByteChannel$NioByteUnsafe.read(AbstractNioByteChannel.java:166)\n",
      "\tat io.netty.channel.nio.NioEventLoop.processSelectedKey(NioEventLoop.java:722)\n",
      "\tat io.netty.channel.nio.NioEventLoop.processSelectedKeysOptimized(NioEventLoop.java:658)\n",
      "\tat io.netty.channel.nio.NioEventLoop.processSelectedKeys(NioEventLoop.java:584)\n",
      "\tat io.netty.channel.nio.NioEventLoop.run(NioEventLoop.java:496)\n",
      "\tat io.netty.util.concurrent.SingleThreadEventExecutor$4.run(SingleThreadEventExecutor.java:986)\n",
      "\tat io.netty.util.internal.ThreadExecutorMap$2.run(ThreadExecutorMap.java:74)\n",
      "\tat io.netty.util.concurrent.FastThreadLocalRunnable.run(FastThreadLocalRunnable.java:30)\n",
      "\tat java.base/java.lang.Thread.run(Thread.java:833)\n"
     ]
    }
   ],
   "source": [
    "! phpstorm project"
   ]
  },
  {
   "cell_type": "markdown",
   "metadata": {},
   "source": [
    "<img src=\"images/01_start.jpg\"/>\n",
    "<img src=\"images/02_empty.jpg\"/>\n",
    "<img src=\"images/03_go_back.jpg\"/>\n",
    "<img src=\"images/04_login_foo_foo.jpg\"/>\n",
    "<img src=\"images/05_error.jpg\"/>\n",
    "<img src=\"images/06_go_back.jpg\"/>\n",
    "<img src=\"images/07_login_foo_foo123.jpg\"/>\n",
    "<img src=\"images/08_ok_and_exit.jpg\"/>"
   ]
  },
  {
   "cell_type": "markdown",
   "metadata": {},
   "source": [
    "You can test your solution using included tests:"
   ]
  },
  {
   "cell_type": "code",
   "execution_count": null,
   "metadata": {},
   "outputs": [],
   "source": [
    "import subprocess\n",
    "phpServer = subprocess.Popen(['php', '-S', 'localhost:8888', '-t', 'project/'])"
   ]
  },
  {
   "cell_type": "code",
   "execution_count": null,
   "metadata": {},
   "outputs": [],
   "source": [
    "! cd tests && composer install && vendor/bin/codecept run"
   ]
  },
  {
   "cell_type": "code",
   "execution_count": null,
   "metadata": {},
   "outputs": [],
   "source": [
    "phpServer.kill()"
   ]
  }
 ],
 "metadata": {
  "kernelspec": {
   "display_name": "Python 3 (ipykernel)",
   "language": "python",
   "name": "python3"
  },
  "language_info": {
   "codemirror_mode": {
    "name": "ipython",
    "version": 3
   },
   "file_extension": ".py",
   "mimetype": "text/x-python",
   "name": "python",
   "nbconvert_exporter": "python",
   "pygments_lexer": "ipython3",
   "version": "3.10.4"
  }
 },
 "nbformat": 4,
 "nbformat_minor": 4
}
