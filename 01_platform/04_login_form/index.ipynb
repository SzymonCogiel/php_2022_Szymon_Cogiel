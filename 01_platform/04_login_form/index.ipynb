{
 "cells": [
  {
   "cell_type": "markdown",
   "metadata": {},
   "source": [
    "# PHP 2022"
   ]
  },
  {
   "cell_type": "markdown",
   "metadata": {},
   "source": [
    "## 1. Platform"
   ]
  },
  {
   "cell_type": "markdown",
   "metadata": {},
   "source": [
    "### 1.4. Login Form"
   ]
  },
  {
   "cell_type": "markdown",
   "metadata": {},
   "source": [
    "The page should:\n",
    "\n",
    "1. Display login form\n",
    "2. Return ```EMPTY``` when either field was submitted without data\n",
    "3. Return ```ERROR``` when values are different than ```foo``` for user and ```foo123``` for password.\n",
    "4. Return ```OK``` when correct credentials are used\n",
    "\n",
    "Open PhpStorm to start editing the code:"
   ]
  },
  {
   "cell_type": "code",
   "execution_count": null,
   "metadata": {},
   "outputs": [
    {
     "name": "stdout",
     "output_type": "stream",
     "text": [
      "Info  | RdCoroutineScope          | 13:JobScheduler FJ pool 1/3 | RdCoroutineHost overridden \n",
      "2023-03-03 17:35:01,893 [   8697]   WARN - #c.i.o.a.i.ActionUpdater - 304 ms to grab EDT for CWMTelephonyGroup#update@NavBarToolbar (com.jetbrains.rd.platform.codeWithMe.telephony.CWMTelephonyGroup)\n",
      "2023-03-03 17:35:02,307 [   9111]   WARN - #c.i.o.a.i.ActionUpdater - 203 ms to call on EDT SpaceMainToolBarAction#update@NavBarToolbar (com.intellij.space.vcs.actions.SpaceMainToolBarAction). Use `ActionUpdateThread.BGT`.\n",
      "2023-03-03 17:35:02,743 [   9547]   WARN - #c.i.o.a.i.ActionUpdater - 414 ms to grab EDT for #update@MainMenu (com.intellij.ide.actions.cache.CacheRecoveryActionGroup$toAnAction$1)\n",
      "2023-03-03 17:35:04,688 [  11492]   WARN - #c.i.o.a.i.ActionUpdater - 1193 ms to grab EDT for SwitcherToggleOnlyEditedFilesAction#update@MainMenu (com.intellij.ide.actions.SwitcherToggleOnlyEditedFilesAction)\n",
      "2023-03-03 17:35:04,699 [  11503]   WARN - #c.i.o.a.i.ActionUpdater - 1150 ms to grab EDT for SpaceCopyLinkActionGroup#update@MainMenu (com.intellij.space.vcs.SpaceCopyLinkActionGroup)\n",
      "2023-03-03 17:35:04,700 [  11504]   WARN - #c.i.o.a.i.ActionUpdater - 1659 ms to call on BGT CopyReferencePopup#update@MainMenu (com.intellij.ide.actions.CopyReferencePopup)\n",
      "2023-03-03 17:35:07,728 [  14532]   WARN - #c.i.o.a.i.ActionUpdater - 3031 ms to grab EDT for CompareFileWithEditorAction#update@MainMenu (com.intellij.diff.actions.CompareFileWithEditorAction)\n",
      "2023-03-03 17:35:08,161 [  14965]   WARN - #c.i.o.a.i.ActionUpdater - 4225 ms total to grab EDT 3 times to expand DefaultCompactActionGroup@MainMenu (com.intellij.openapi.actionSystem.DefaultCompactActionGroup). Use `ActionUpdateThread.BGT`.\n",
      "2023-03-03 17:35:09,739 [  16543]   WARN - #c.i.o.a.i.ActionUpdater - 909 ms to grab EDT for CWMTelephonyGroup#update@NavBarToolbar (com.jetbrains.rd.platform.codeWithMe.telephony.CWMTelephonyGroup)\n",
      "2023-03-03 17:38:44,226 [ 231030]   WARN - #c.i.u.x.Binding - no accessors for org.jetbrains.idea.perforce.perforce.ConnectionId\n",
      "2023-03-03 17:39:15,564 [ 262368]   WARN - #c.i.o.a.e.ActionUtil - Can not find action by id CompileDirty\n"
     ]
    }
   ],
   "source": [
    "! phpstorm project"
   ]
  },
  {
   "cell_type": "markdown",
   "metadata": {},
   "source": [
    "<img src=\"images/01_start.jpg\"/>\n",
    "<img src=\"images/02_empty.jpg\"/>\n",
    "<img src=\"images/03_go_back.jpg\"/>\n",
    "<img src=\"images/04_login_foo_foo.jpg\"/>\n",
    "<img src=\"images/05_error.jpg\"/>\n",
    "<img src=\"images/06_go_back.jpg\"/>\n",
    "<img src=\"images/07_login_foo_foo123.jpg\"/>\n",
    "<img src=\"images/08_ok_and_exit.jpg\"/>"
   ]
  },
  {
   "cell_type": "markdown",
   "metadata": {},
   "source": [
    "You can test your solution using included tests:"
   ]
  },
  {
   "cell_type": "code",
   "execution_count": null,
   "metadata": {},
   "outputs": [],
   "source": [
    "import subprocess\n",
    "phpServer = subprocess.Popen(['php', '-S', 'localhost:8888', '-t', 'project/'])"
   ]
  },
  {
   "cell_type": "code",
   "execution_count": null,
   "metadata": {},
   "outputs": [],
   "source": [
    "! cd tests && composer install && vendor/bin/codecept run"
   ]
  },
  {
   "cell_type": "code",
   "execution_count": null,
   "metadata": {},
   "outputs": [],
   "source": [
    "phpServer.kill()"
   ]
  }
 ],
 "metadata": {
  "kernelspec": {
   "display_name": "Python 3 (ipykernel)",
   "language": "python",
   "name": "python3"
  },
  "language_info": {
   "codemirror_mode": {
    "name": "ipython",
    "version": 3
   },
   "file_extension": ".py",
   "mimetype": "text/x-python",
   "name": "python",
   "nbconvert_exporter": "python",
   "pygments_lexer": "ipython3",
   "version": "3.10.4"
  }
 },
 "nbformat": 4,
 "nbformat_minor": 4
}
