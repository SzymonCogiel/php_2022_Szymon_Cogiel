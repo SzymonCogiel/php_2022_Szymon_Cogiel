{
 "cells": [
  {
   "cell_type": "markdown",
   "metadata": {},
   "source": [
    "# PHP 2022"
   ]
  },
  {
   "cell_type": "markdown",
   "metadata": {},
   "source": [
    "## 3. Pretty URL"
   ]
  },
  {
   "cell_type": "markdown",
   "metadata": {},
   "source": [
    "### 3.2 Exercise"
   ]
  },
  {
   "cell_type": "markdown",
   "metadata": {},
   "source": [
    "Refactor the code to use ```$_SERVER['REQUEST_URI']``` to handle all requests in a single ```index.php``` script.\n",
    "\n",
    "Final project structure:\n",
    "\n",
    "```bash\n",
    "project/\n",
    "├── public\n",
    "│   ├── index.php\n",
    "│   └── style.css\n",
    "└── views\n",
    "    ├── 404.php\n",
    "    ├── about.php\n",
    "    ├── home.php\n",
    "    ├── layout.php\n",
    "    ├── menu.php\n",
    "    ├── user.php\n",
    "    └── users.php\n",
    "\n",
    "2 directories, 9 files\n",
    "```\n",
    "\n",
    "To start editing the code run:"
   ]
  },
  {
   "cell_type": "code",
   "execution_count": null,
   "metadata": {},
   "outputs": [
    {
     "name": "stdout",
     "output_type": "stream",
     "text": [
      "Info  | RdCoroutineScope          | 13:JobScheduler FJ pool 1/3 | RdCoroutineHost overridden \n",
      "2023-03-20 12:06:01,557 [  16839]   WARN - #c.i.o.a.i.ActionUpdater - 583 ms to grab EDT for RestorePreviewTextAction#update@ContextToolbar (com.intellij.application.options.colors.FontEditorPreview$RestorePreviewTextAction)\n"
     ]
    }
   ],
   "source": [
    "! phpstorm project"
   ]
  },
  {
   "cell_type": "markdown",
   "metadata": {},
   "source": [
    "You can test your solution using included tests:"
   ]
  },
  {
   "cell_type": "code",
   "execution_count": null,
   "metadata": {},
   "outputs": [],
   "source": [
    "import subprocess\n",
    "phpServer = subprocess.Popen(['php', '-S', 'localhost:8888', '-t', 'project/public'])"
   ]
  },
  {
   "cell_type": "code",
   "execution_count": 12,
   "metadata": {},
   "outputs": [
    {
     "name": "stdout",
     "output_type": "stream",
     "text": [
      "\u001b[32mInstalling dependencies from lock file (including require-dev)\u001b[39m\n",
      "\u001b[32mVerifying lock file contents can be installed on current platform.\u001b[39m\n",
      "Nothing to install, update or remove\n",
      "\u001b[30;43mPackage sebastian/resource-operations is abandoned, you should avoid using it. No replacement was suggested.\u001b[39;49m\n",
      "\u001b[32mGenerating autoload files\u001b[39m\n",
      "\u001b[32m44 packages you are using are looking for funding.\u001b[39m\n",
      "\u001b[32mUse the `composer fund` command to find out more!\u001b[39m\n",
      "Codeception PHP Testing Framework v4.1.22\n",
      "Powered by PHPUnit 9.5.9 by Sebastian Bergmann and contributors.\n",
      "\n",
      "\u001b[1mAcceptance Tests (1) \u001b[22m-----------------------------------------------------------\n",
      "\u001b[31;1m✖\u001b[39;22m \u001b[35;1mPrettyUrlCept:\u001b[39;22m  \u001b[32m(0.04s)\u001b[39m\n",
      "--------------------------------------------------------------------------------\n",
      "\n",
      "\n",
      "Time: 00:00.087, Memory: 12.00 MB\n",
      "\n",
      "There was 1 failure:\n",
      "\n",
      "---------\n",
      "1) \u001b[35;1mPrettyUrlCept:\u001b[39;22m \n",
      "\u001b[37;41;1m Test \u001b[39;49;22m tests/acceptance/PrettyUrlCept.php\n",
      "\u001b[37;41;1m Step \u001b[39;49;22m See \"Name: John\"\n",
      "\u001b[37;41;1m Fail \u001b[39;49;22m Failed asserting that  on page /user/1\n",
      "-->  Pretty URL Home About Users User:Name:JohnSurname:DoeAge:21 \n",
      "--> contains \"Name: John\".\n",
      "\u001b[33m\n",
      "Scenario Steps:\n",
      "\u001b[39m\n",
      "\u001b[1m 17. $I->see(\"Name: John\")\u001b[22m at \u001b[32mtests/acceptance/PrettyUrlCept.php:25\u001b[39m\n",
      " 16. $I->seeCurrentUrlEquals(\"/user/1\") at \u001b[32mtests/acceptance/PrettyUrlCept.php:24\u001b[39m\n",
      " 15. $I->click(\"John\") at \u001b[32mtests/acceptance/PrettyUrlCept.php:23\u001b[39m\n",
      " 14. $I->see(\"Paul\") at \u001b[32mtests/acceptance/PrettyUrlCept.php:21\u001b[39m\n",
      " 13. $I->see(\"Peter\") at \u001b[32mtests/acceptance/PrettyUrlCept.php:20\u001b[39m\n",
      " 12. $I->see(\"John\") at \u001b[32mtests/acceptance/PrettyUrlCept.php:19\u001b[39m\n",
      "\n",
      "\u001b[33mArtifacts:\u001b[39m\n",
      "\n",
      "Html: \u001b[36m/home/student/Desktop/PHP_Szymon_Cogiel/php_2022_szymon_cogiel/03_pretty_url/02_exercise/tests/tests/_output/PrettyUrlCept.fail.html\u001b[39m\n",
      "Response: \u001b[36m/home/student/Desktop/PHP_Szymon_Cogiel/php_2022_szymon_cogiel/03_pretty_url/02_exercise/tests/tests/_output/PrettyUrlCept.fail.html\u001b[39m\n",
      "\n",
      "\u001b[37;41mFAILURES!\u001b[0m\n",
      "\u001b[37;41mTests: 1\u001b[0m\u001b[37;41m, Assertions: 12\u001b[0m\u001b[37;41m, Failures: 1\u001b[0m\u001b[37;41m.\u001b[0m\n"
     ]
    },
    {
     "name": "stderr",
     "output_type": "stream",
     "text": [
      "[Thu Mar 16 20:49:48 2023] [::1]:51094 Accepted\n",
      "[Thu Mar 16 20:49:48 2023] [::1]:51094 [200]: GET /\n",
      "[Thu Mar 16 20:49:48 2023] [::1]:51094 Closing\n",
      "[Thu Mar 16 20:49:48 2023] [::1]:51104 Accepted\n",
      "[Thu Mar 16 20:49:48 2023] [::1]:51104 [200]: GET /home\n",
      "[Thu Mar 16 20:49:48 2023] [::1]:51104 Closing\n",
      "[Thu Mar 16 20:49:48 2023] [::1]:51120 Accepted\n",
      "[Thu Mar 16 20:49:48 2023] [::1]:51120 [200]: GET /about\n",
      "[Thu Mar 16 20:49:48 2023] [::1]:51120 Closing\n",
      "[Thu Mar 16 20:49:48 2023] [::1]:51124 Accepted\n",
      "[Thu Mar 16 20:49:48 2023] [::1]:51124 [200]: GET /users\n",
      "[Thu Mar 16 20:49:48 2023] [::1]:51124 Closing\n",
      "[Thu Mar 16 20:49:48 2023] [::1]:51128 Accepted\n",
      "[Thu Mar 16 20:49:48 2023] [::1]:51128 [200]: GET /user/1\n",
      "[Thu Mar 16 20:49:48 2023] [::1]:51128 Closing\n"
     ]
    }
   ],
   "source": [
    "! cd tests && composer install && vendor/bin/codecept run"
   ]
  },
  {
   "cell_type": "code",
   "execution_count": 9,
   "metadata": {},
   "outputs": [],
   "source": [
    "phpServer.kill()"
   ]
  },
  {
   "cell_type": "code",
   "execution_count": null,
   "metadata": {},
   "outputs": [],
   "source": []
  }
 ],
 "metadata": {
  "kernelspec": {
   "display_name": "Python 3 (ipykernel)",
   "language": "python",
   "name": "python3"
  },
  "language_info": {
   "codemirror_mode": {
    "name": "ipython",
    "version": 3
   },
   "file_extension": ".py",
   "mimetype": "text/x-python",
   "name": "python",
   "nbconvert_exporter": "python",
   "pygments_lexer": "ipython3",
   "version": "3.10.4"
  }
 },
 "nbformat": 4,
 "nbformat_minor": 4
}
